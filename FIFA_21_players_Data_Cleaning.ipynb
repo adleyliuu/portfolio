{
  "nbformat": 4,
  "nbformat_minor": 0,
  "metadata": {
    "colab": {
      "provenance": [],
      "authorship_tag": "ABX9TyOSQqR8T8lfmfBsxN6nTD6t",
      "include_colab_link": true
    },
    "kernelspec": {
      "name": "python3",
      "display_name": "Python 3"
    },
    "language_info": {
      "name": "python"
    }
  },
  "cells": [
    {
      "cell_type": "markdown",
      "metadata": {
        "id": "view-in-github",
        "colab_type": "text"
      },
      "source": [
        "<a href=\"https://colab.research.google.com/github/adleyliuu/portfolio/blob/main/FIFA_21_players_Data_Cleaning.ipynb\" target=\"_parent\"><img src=\"https://colab.research.google.com/assets/colab-badge.svg\" alt=\"Open In Colab\"/></a>"
      ]
    },
    {
      "cell_type": "markdown",
      "source": [
        "# DATA CLEANING & TRANSFORMATION"
      ],
      "metadata": {
        "id": "3hA5py2AHCSP"
      }
    },
    {
      "cell_type": "markdown",
      "source": [
        "# Dataset: FIFA 21 players dataset\n",
        "*   https://www.kaggle.com/datasets/yagunnersya/fifa-21-messy-raw-dataset-for-cleaning-exploring/data\n",
        "\n"
      ],
      "metadata": {
        "id": "0BKj_B8GGy1R"
      }
    },
    {
      "cell_type": "markdown",
      "source": [
        "# Guiding Questions:\n",
        "\n",
        "1.   Do the height and weight columns have the appropriate data types?\n",
        "2.   Can you separate the joined column into year, month and day columns?\n",
        "3.   Can you clean and transform the value, wage and release clause columns into columns of integers?\n",
        "4.   How can you remove the newline characters from the Hits column?\n",
        "5.   Should you separate the Team & Contract column into separate team and contract columns?\n",
        "\n"
      ],
      "metadata": {
        "id": "D7IsL1GiHJ7i"
      }
    },
    {
      "cell_type": "markdown",
      "source": [
        "## DATA LOADING\n"
      ],
      "metadata": {
        "id": "l-msonKaTlEr"
      }
    },
    {
      "cell_type": "markdown",
      "source": [
        "### Import Relevant Dataset and Libraries"
      ],
      "metadata": {
        "id": "K9bIqaLHHqzQ"
      }
    },
    {
      "cell_type": "code",
      "source": [
        "#import libraries\n",
        "import pandas as pd\n",
        "import numpy as np\n",
        "import seaborn as sns\n",
        "import matplotlib.pyplot as plt\n",
        "from IPython.display import display, HTML"
      ],
      "metadata": {
        "id": "yNweJiP4GyUG"
      },
      "execution_count": null,
      "outputs": []
    },
    {
      "cell_type": "code",
      "source": [
        "#Function to create scrollable table within a small window\n",
        "def create_scrollable_table(df, table_id, title):\n",
        "  html = f'<h3>{title}</h3>'\n",
        "  html += f'<div id=\"{table_id}\" style=\"height: 200px; overflow:auto;\">'\n",
        "  html += df.to_html()\n",
        "  html += '</div>'\n",
        "  return html"
      ],
      "metadata": {
        "id": "QZ8OwV1JJ08I"
      },
      "execution_count": null,
      "outputs": []
    },
    {
      "cell_type": "code",
      "source": [
        "df = pd.read_csv(\"/content/fifa21_raw_data.csv\") #loading dataset"
      ],
      "metadata": {
        "colab": {
          "base_uri": "https://localhost:8080/"
        },
        "id": "7vNbUZpyGyXu",
        "outputId": "ed10874c-7dce-4675-f50e-a00700d86b88"
      },
      "execution_count": null,
      "outputs": [
        {
          "output_type": "stream",
          "name": "stderr",
          "text": [
            "<ipython-input-3-415cfa82b62e>:1: DtypeWarning: Columns (76) have mixed types. Specify dtype option on import or set low_memory=False.\n",
            "  df = pd.read_csv(\"/content/fifa21_raw_data.csv\") #loading dataset\n"
          ]
        }
      ]
    },
    {
      "cell_type": "markdown",
      "source": [
        "### * STRUCTURE of DATA"
      ],
      "metadata": {
        "id": "pjIXhez2SZ2E"
      }
    },
    {
      "cell_type": "code",
      "source": [
        "df.shape"
      ],
      "metadata": {
        "colab": {
          "base_uri": "https://localhost:8080/"
        },
        "id": "D950pItuIea6",
        "outputId": "07a27a16-9388-4a51-e75c-2796d55ea247"
      },
      "execution_count": null,
      "outputs": [
        {
          "output_type": "execute_result",
          "data": {
            "text/plain": [
              "(18979, 77)"
            ]
          },
          "metadata": {},
          "execution_count": 4
        }
      ]
    },
    {
      "cell_type": "code",
      "source": [
        "df.info()"
      ],
      "metadata": {
        "id": "BhjjvkkeSYne",
        "outputId": "8c02cdd9-d438-4dae-89e0-0af155afb98c",
        "colab": {
          "base_uri": "https://localhost:8080/"
        }
      },
      "execution_count": null,
      "outputs": [
        {
          "output_type": "stream",
          "name": "stdout",
          "text": [
            "<class 'pandas.core.frame.DataFrame'>\n",
            "RangeIndex: 18979 entries, 0 to 18978\n",
            "Data columns (total 77 columns):\n",
            " #   Column            Non-Null Count  Dtype \n",
            "---  ------            --------------  ----- \n",
            " 0   photoUrl          18979 non-null  object\n",
            " 1   LongName          18979 non-null  object\n",
            " 2   playerUrl         18979 non-null  object\n",
            " 3   Nationality       18979 non-null  object\n",
            " 4   Positions         18979 non-null  object\n",
            " 5   Name              18979 non-null  object\n",
            " 6   Age               18979 non-null  int64 \n",
            " 7   ↓OVA              18979 non-null  int64 \n",
            " 8   POT               18979 non-null  int64 \n",
            " 9   Team & Contract   18979 non-null  object\n",
            " 10  ID                18979 non-null  int64 \n",
            " 11  Height            18979 non-null  object\n",
            " 12  Weight            18979 non-null  object\n",
            " 13  foot              18979 non-null  object\n",
            " 14  BOV               18979 non-null  int64 \n",
            " 15  BP                18979 non-null  object\n",
            " 16  Growth            18979 non-null  int64 \n",
            " 17  Joined            18979 non-null  object\n",
            " 18  Loan Date End     1013 non-null   object\n",
            " 19  Value             18979 non-null  object\n",
            " 20  Wage              18979 non-null  object\n",
            " 21  Release Clause    18979 non-null  object\n",
            " 22  Attacking         18979 non-null  int64 \n",
            " 23  Crossing          18979 non-null  int64 \n",
            " 24  Finishing         18979 non-null  int64 \n",
            " 25  Heading Accuracy  18979 non-null  int64 \n",
            " 26  Short Passing     18979 non-null  int64 \n",
            " 27  Volleys           18979 non-null  int64 \n",
            " 28  Skill             18979 non-null  int64 \n",
            " 29  Dribbling         18979 non-null  int64 \n",
            " 30  Curve             18979 non-null  int64 \n",
            " 31  FK Accuracy       18979 non-null  int64 \n",
            " 32  Long Passing      18979 non-null  int64 \n",
            " 33  Ball Control      18979 non-null  int64 \n",
            " 34  Movement          18979 non-null  int64 \n",
            " 35  Acceleration      18979 non-null  int64 \n",
            " 36  Sprint Speed      18979 non-null  int64 \n",
            " 37  Agility           18979 non-null  int64 \n",
            " 38  Reactions         18979 non-null  int64 \n",
            " 39  Balance           18979 non-null  int64 \n",
            " 40  Power             18979 non-null  int64 \n",
            " 41  Shot Power        18979 non-null  int64 \n",
            " 42  Jumping           18979 non-null  int64 \n",
            " 43  Stamina           18979 non-null  int64 \n",
            " 44  Strength          18979 non-null  int64 \n",
            " 45  Long Shots        18979 non-null  int64 \n",
            " 46  Mentality         18979 non-null  int64 \n",
            " 47  Aggression        18979 non-null  int64 \n",
            " 48  Interceptions     18979 non-null  int64 \n",
            " 49  Positioning       18979 non-null  int64 \n",
            " 50  Vision            18979 non-null  int64 \n",
            " 51  Penalties         18979 non-null  int64 \n",
            " 52  Composure         18979 non-null  int64 \n",
            " 53  Defending         18979 non-null  int64 \n",
            " 54  Marking           18979 non-null  int64 \n",
            " 55  Standing Tackle   18979 non-null  int64 \n",
            " 56  Sliding Tackle    18979 non-null  int64 \n",
            " 57  Goalkeeping       18979 non-null  int64 \n",
            " 58  GK Diving         18979 non-null  int64 \n",
            " 59  GK Handling       18979 non-null  int64 \n",
            " 60  GK Kicking        18979 non-null  int64 \n",
            " 61  GK Positioning    18979 non-null  int64 \n",
            " 62  GK Reflexes       18979 non-null  int64 \n",
            " 63  Total Stats       18979 non-null  int64 \n",
            " 64  Base Stats        18979 non-null  int64 \n",
            " 65  W/F               18979 non-null  object\n",
            " 66  SM                18979 non-null  object\n",
            " 67  A/W               18979 non-null  object\n",
            " 68  D/W               18979 non-null  object\n",
            " 69  IR                18979 non-null  object\n",
            " 70  PAC               18979 non-null  int64 \n",
            " 71  SHO               18979 non-null  int64 \n",
            " 72  PAS               18979 non-null  int64 \n",
            " 73  DRI               18979 non-null  int64 \n",
            " 74  DEF               18979 non-null  int64 \n",
            " 75  PHY               18979 non-null  int64 \n",
            " 76  Hits              18979 non-null  object\n",
            "dtypes: int64(55), object(22)\n",
            "memory usage: 11.1+ MB\n"
          ]
        }
      ]
    },
    {
      "cell_type": "markdown",
      "source": [
        "### * Categorical Features"
      ],
      "metadata": {
        "id": "7GjKgGBLSA3s"
      }
    },
    {
      "cell_type": "code",
      "source": [
        "categorical_features = df.select_dtypes(\"object\")\n",
        "# T: transposes\n",
        "# cat_summary_stats = categorical_features.describe().T\n",
        "html_categorical = create_scrollable_table(categorical_features.head(), \"categorical_features\", \"Data Frame for Categorical Features.\")\n",
        "\n",
        "display(HTML(html_categorical))"
      ],
      "metadata": {
        "colab": {
          "base_uri": "https://localhost:8080/",
          "height": 258
        },
        "id": "PDAZSnI3MyYw",
        "outputId": "5bcfe04c-1421-46e3-a7d8-1001eb38b454"
      },
      "execution_count": null,
      "outputs": [
        {
          "output_type": "display_data",
          "data": {
            "text/plain": [
              "<IPython.core.display.HTML object>"
            ],
            "text/html": [
              "<h3>Data Frame for Categorical Features.</h3><div id=\"categorical_features\" style=\"height: 200px; overflow:auto;\"><table border=\"1\" class=\"dataframe\">\n",
              "  <thead>\n",
              "    <tr style=\"text-align: right;\">\n",
              "      <th></th>\n",
              "      <th>photoUrl</th>\n",
              "      <th>LongName</th>\n",
              "      <th>playerUrl</th>\n",
              "      <th>Nationality</th>\n",
              "      <th>Positions</th>\n",
              "      <th>Name</th>\n",
              "      <th>Team &amp; Contract</th>\n",
              "      <th>Height</th>\n",
              "      <th>Weight</th>\n",
              "      <th>foot</th>\n",
              "      <th>BP</th>\n",
              "      <th>Joined</th>\n",
              "      <th>Loan Date End</th>\n",
              "      <th>Value</th>\n",
              "      <th>Wage</th>\n",
              "      <th>Release Clause</th>\n",
              "      <th>W/F</th>\n",
              "      <th>SM</th>\n",
              "      <th>A/W</th>\n",
              "      <th>D/W</th>\n",
              "      <th>IR</th>\n",
              "      <th>Hits</th>\n",
              "    </tr>\n",
              "  </thead>\n",
              "  <tbody>\n",
              "    <tr>\n",
              "      <th>0</th>\n",
              "      <td>https://cdn.sofifa.com/players/158/023/21_60.png</td>\n",
              "      <td>Lionel Messi</td>\n",
              "      <td>http://sofifa.com/player/158023/lionel-messi/210005/</td>\n",
              "      <td>Argentina</td>\n",
              "      <td>RW ST CF</td>\n",
              "      <td>L. Messi</td>\n",
              "      <td>\\n\\n\\n\\nFC Barcelona\\n2004 ~ 2021\\n\\n</td>\n",
              "      <td>5'7\"</td>\n",
              "      <td>159lbs</td>\n",
              "      <td>Left</td>\n",
              "      <td>RW</td>\n",
              "      <td>Jul 1, 2004</td>\n",
              "      <td>NaN</td>\n",
              "      <td>€67.5M</td>\n",
              "      <td>€560K</td>\n",
              "      <td>€138.4M</td>\n",
              "      <td>4 ★</td>\n",
              "      <td>4★</td>\n",
              "      <td>Medium</td>\n",
              "      <td>Low</td>\n",
              "      <td>5 ★</td>\n",
              "      <td>\\n372</td>\n",
              "    </tr>\n",
              "    <tr>\n",
              "      <th>1</th>\n",
              "      <td>https://cdn.sofifa.com/players/020/801/21_60.png</td>\n",
              "      <td>C. Ronaldo dos Santos Aveiro</td>\n",
              "      <td>http://sofifa.com/player/20801/c-ronaldo-dos-santos-aveiro/210005/</td>\n",
              "      <td>Portugal</td>\n",
              "      <td>ST LW</td>\n",
              "      <td>Cristiano Ronaldo</td>\n",
              "      <td>\\n\\n\\n\\nJuventus\\n2018 ~ 2022\\n\\n</td>\n",
              "      <td>6'2\"</td>\n",
              "      <td>183lbs</td>\n",
              "      <td>Right</td>\n",
              "      <td>ST</td>\n",
              "      <td>Jul 10, 2018</td>\n",
              "      <td>NaN</td>\n",
              "      <td>€46M</td>\n",
              "      <td>€220K</td>\n",
              "      <td>€75.9M</td>\n",
              "      <td>4 ★</td>\n",
              "      <td>5★</td>\n",
              "      <td>High</td>\n",
              "      <td>Low</td>\n",
              "      <td>5 ★</td>\n",
              "      <td>\\n344</td>\n",
              "    </tr>\n",
              "    <tr>\n",
              "      <th>2</th>\n",
              "      <td>https://cdn.sofifa.com/players/200/389/21_60.png</td>\n",
              "      <td>Jan Oblak</td>\n",
              "      <td>http://sofifa.com/player/200389/jan-oblak/210005/</td>\n",
              "      <td>Slovenia</td>\n",
              "      <td>GK</td>\n",
              "      <td>J. Oblak</td>\n",
              "      <td>\\n\\n\\n\\nAtlético Madrid\\n2014 ~ 2023\\n\\n</td>\n",
              "      <td>6'2\"</td>\n",
              "      <td>192lbs</td>\n",
              "      <td>Right</td>\n",
              "      <td>GK</td>\n",
              "      <td>Jul 16, 2014</td>\n",
              "      <td>NaN</td>\n",
              "      <td>€75M</td>\n",
              "      <td>€125K</td>\n",
              "      <td>€159.4M</td>\n",
              "      <td>3 ★</td>\n",
              "      <td>1★</td>\n",
              "      <td>Medium</td>\n",
              "      <td>Medium</td>\n",
              "      <td>3 ★</td>\n",
              "      <td>\\n86</td>\n",
              "    </tr>\n",
              "    <tr>\n",
              "      <th>3</th>\n",
              "      <td>https://cdn.sofifa.com/players/192/985/21_60.png</td>\n",
              "      <td>Kevin De Bruyne</td>\n",
              "      <td>http://sofifa.com/player/192985/kevin-de-bruyne/210005/</td>\n",
              "      <td>Belgium</td>\n",
              "      <td>CAM CM</td>\n",
              "      <td>K. De Bruyne</td>\n",
              "      <td>\\n\\n\\n\\nManchester City\\n2015 ~ 2023\\n\\n</td>\n",
              "      <td>5'11\"</td>\n",
              "      <td>154lbs</td>\n",
              "      <td>Right</td>\n",
              "      <td>CAM</td>\n",
              "      <td>Aug 30, 2015</td>\n",
              "      <td>NaN</td>\n",
              "      <td>€87M</td>\n",
              "      <td>€370K</td>\n",
              "      <td>€161M</td>\n",
              "      <td>5 ★</td>\n",
              "      <td>4★</td>\n",
              "      <td>High</td>\n",
              "      <td>High</td>\n",
              "      <td>4 ★</td>\n",
              "      <td>\\n163</td>\n",
              "    </tr>\n",
              "    <tr>\n",
              "      <th>4</th>\n",
              "      <td>https://cdn.sofifa.com/players/190/871/21_60.png</td>\n",
              "      <td>Neymar da Silva Santos Jr.</td>\n",
              "      <td>http://sofifa.com/player/190871/neymar-da-silva-santos-jr/210005/</td>\n",
              "      <td>Brazil</td>\n",
              "      <td>LW CAM</td>\n",
              "      <td>Neymar Jr</td>\n",
              "      <td>\\n\\n\\n\\nParis Saint-Germain\\n2017 ~ 2022\\n\\n</td>\n",
              "      <td>5'9\"</td>\n",
              "      <td>150lbs</td>\n",
              "      <td>Right</td>\n",
              "      <td>LW</td>\n",
              "      <td>Aug 3, 2017</td>\n",
              "      <td>NaN</td>\n",
              "      <td>€90M</td>\n",
              "      <td>€270K</td>\n",
              "      <td>€166.5M</td>\n",
              "      <td>5 ★</td>\n",
              "      <td>5★</td>\n",
              "      <td>High</td>\n",
              "      <td>Medium</td>\n",
              "      <td>5 ★</td>\n",
              "      <td>\\n273</td>\n",
              "    </tr>\n",
              "  </tbody>\n",
              "</table></div>"
            ]
          },
          "metadata": {}
        }
      ]
    },
    {
      "cell_type": "code",
      "source": [
        "categorical_features.info()"
      ],
      "metadata": {
        "id": "s_dSHl6bjbX9",
        "colab": {
          "base_uri": "https://localhost:8080/"
        },
        "outputId": "2e23db38-32d2-4539-9605-4bfaa2764026"
      },
      "execution_count": null,
      "outputs": [
        {
          "output_type": "stream",
          "name": "stdout",
          "text": [
            "<class 'pandas.core.frame.DataFrame'>\n",
            "RangeIndex: 18979 entries, 0 to 18978\n",
            "Data columns (total 22 columns):\n",
            " #   Column           Non-Null Count  Dtype \n",
            "---  ------           --------------  ----- \n",
            " 0   photoUrl         18979 non-null  object\n",
            " 1   LongName         18979 non-null  object\n",
            " 2   playerUrl        18979 non-null  object\n",
            " 3   Nationality      18979 non-null  object\n",
            " 4   Positions        18979 non-null  object\n",
            " 5   Name             18979 non-null  object\n",
            " 6   Team & Contract  18979 non-null  object\n",
            " 7   Height           18979 non-null  object\n",
            " 8   Weight           18979 non-null  object\n",
            " 9   foot             18979 non-null  object\n",
            " 10  BP               18979 non-null  object\n",
            " 11  Joined           18979 non-null  object\n",
            " 12  Loan Date End    1013 non-null   object\n",
            " 13  Value            18979 non-null  object\n",
            " 14  Wage             18979 non-null  object\n",
            " 15  Release Clause   18979 non-null  object\n",
            " 16  W/F              18979 non-null  object\n",
            " 17  SM               18979 non-null  object\n",
            " 18  A/W              18979 non-null  object\n",
            " 19  D/W              18979 non-null  object\n",
            " 20  IR               18979 non-null  object\n",
            " 21  Hits             18979 non-null  object\n",
            "dtypes: object(22)\n",
            "memory usage: 3.2+ MB\n"
          ]
        }
      ]
    },
    {
      "cell_type": "code",
      "source": [
        "categorical_features.isnull().sum()"
      ],
      "metadata": {
        "id": "Sq5hgI3e2FUz",
        "outputId": "fb62dceb-bcbb-4d59-968b-aa37d37bffe6",
        "colab": {
          "base_uri": "https://localhost:8080/"
        }
      },
      "execution_count": null,
      "outputs": [
        {
          "output_type": "execute_result",
          "data": {
            "text/plain": [
              "photoUrl               0\n",
              "LongName               0\n",
              "playerUrl              0\n",
              "Nationality            0\n",
              "Positions              0\n",
              "Name                   0\n",
              "Team & Contract        0\n",
              "Height                 0\n",
              "Weight                 0\n",
              "foot                   0\n",
              "BP                     0\n",
              "Joined                 0\n",
              "Loan Date End      17966\n",
              "Value                  0\n",
              "Wage                   0\n",
              "Release Clause         0\n",
              "W/F                    0\n",
              "SM                     0\n",
              "A/W                    0\n",
              "D/W                    0\n",
              "IR                     0\n",
              "Hits                   0\n",
              "dtype: int64"
            ]
          },
          "metadata": {},
          "execution_count": 8
        }
      ]
    },
    {
      "cell_type": "markdown",
      "source": [
        "### * Numerical Features"
      ],
      "metadata": {
        "id": "AFaiCQR6SGQ_"
      }
    },
    {
      "cell_type": "code",
      "source": [
        "numerical_features = df.select_dtypes(\"int64\", \"float64\")\n",
        "\n",
        "html_numerical= create_scrollable_table(numerical_features.head(10), \"numerical_features\", \"Data Frame for numerical features.\")\n",
        "\n",
        "display(HTML(html_numerical))"
      ],
      "metadata": {
        "id": "XDxZGYk7SF5E",
        "outputId": "a27fa721-7726-42a8-afc5-17b578255d62",
        "colab": {
          "base_uri": "https://localhost:8080/",
          "height": 258
        }
      },
      "execution_count": null,
      "outputs": [
        {
          "output_type": "display_data",
          "data": {
            "text/plain": [
              "<IPython.core.display.HTML object>"
            ],
            "text/html": [
              "<h3>Data Frame for numerical features.</h3><div id=\"numerical_features\" style=\"height: 200px; overflow:auto;\"><table border=\"1\" class=\"dataframe\">\n",
              "  <thead>\n",
              "    <tr style=\"text-align: right;\">\n",
              "      <th></th>\n",
              "      <th>Age</th>\n",
              "      <th>↓OVA</th>\n",
              "      <th>POT</th>\n",
              "      <th>ID</th>\n",
              "      <th>BOV</th>\n",
              "      <th>Growth</th>\n",
              "      <th>Attacking</th>\n",
              "      <th>Crossing</th>\n",
              "      <th>Finishing</th>\n",
              "      <th>Heading Accuracy</th>\n",
              "      <th>Short Passing</th>\n",
              "      <th>Volleys</th>\n",
              "      <th>Skill</th>\n",
              "      <th>Dribbling</th>\n",
              "      <th>Curve</th>\n",
              "      <th>FK Accuracy</th>\n",
              "      <th>Long Passing</th>\n",
              "      <th>Ball Control</th>\n",
              "      <th>Movement</th>\n",
              "      <th>Acceleration</th>\n",
              "      <th>Sprint Speed</th>\n",
              "      <th>Agility</th>\n",
              "      <th>Reactions</th>\n",
              "      <th>Balance</th>\n",
              "      <th>Power</th>\n",
              "      <th>Shot Power</th>\n",
              "      <th>Jumping</th>\n",
              "      <th>Stamina</th>\n",
              "      <th>Strength</th>\n",
              "      <th>Long Shots</th>\n",
              "      <th>Mentality</th>\n",
              "      <th>Aggression</th>\n",
              "      <th>Interceptions</th>\n",
              "      <th>Positioning</th>\n",
              "      <th>Vision</th>\n",
              "      <th>Penalties</th>\n",
              "      <th>Composure</th>\n",
              "      <th>Defending</th>\n",
              "      <th>Marking</th>\n",
              "      <th>Standing Tackle</th>\n",
              "      <th>Sliding Tackle</th>\n",
              "      <th>Goalkeeping</th>\n",
              "      <th>GK Diving</th>\n",
              "      <th>GK Handling</th>\n",
              "      <th>GK Kicking</th>\n",
              "      <th>GK Positioning</th>\n",
              "      <th>GK Reflexes</th>\n",
              "      <th>Total Stats</th>\n",
              "      <th>Base Stats</th>\n",
              "      <th>PAC</th>\n",
              "      <th>SHO</th>\n",
              "      <th>PAS</th>\n",
              "      <th>DRI</th>\n",
              "      <th>DEF</th>\n",
              "      <th>PHY</th>\n",
              "    </tr>\n",
              "  </thead>\n",
              "  <tbody>\n",
              "    <tr>\n",
              "      <th>0</th>\n",
              "      <td>33</td>\n",
              "      <td>93</td>\n",
              "      <td>93</td>\n",
              "      <td>158023</td>\n",
              "      <td>93</td>\n",
              "      <td>0</td>\n",
              "      <td>429</td>\n",
              "      <td>85</td>\n",
              "      <td>95</td>\n",
              "      <td>70</td>\n",
              "      <td>91</td>\n",
              "      <td>88</td>\n",
              "      <td>470</td>\n",
              "      <td>96</td>\n",
              "      <td>93</td>\n",
              "      <td>94</td>\n",
              "      <td>91</td>\n",
              "      <td>96</td>\n",
              "      <td>451</td>\n",
              "      <td>91</td>\n",
              "      <td>80</td>\n",
              "      <td>91</td>\n",
              "      <td>94</td>\n",
              "      <td>95</td>\n",
              "      <td>389</td>\n",
              "      <td>86</td>\n",
              "      <td>68</td>\n",
              "      <td>72</td>\n",
              "      <td>69</td>\n",
              "      <td>94</td>\n",
              "      <td>347</td>\n",
              "      <td>44</td>\n",
              "      <td>40</td>\n",
              "      <td>93</td>\n",
              "      <td>95</td>\n",
              "      <td>75</td>\n",
              "      <td>96</td>\n",
              "      <td>91</td>\n",
              "      <td>32</td>\n",
              "      <td>35</td>\n",
              "      <td>24</td>\n",
              "      <td>54</td>\n",
              "      <td>6</td>\n",
              "      <td>11</td>\n",
              "      <td>15</td>\n",
              "      <td>14</td>\n",
              "      <td>8</td>\n",
              "      <td>2231</td>\n",
              "      <td>466</td>\n",
              "      <td>85</td>\n",
              "      <td>92</td>\n",
              "      <td>91</td>\n",
              "      <td>95</td>\n",
              "      <td>38</td>\n",
              "      <td>65</td>\n",
              "    </tr>\n",
              "    <tr>\n",
              "      <th>1</th>\n",
              "      <td>35</td>\n",
              "      <td>92</td>\n",
              "      <td>92</td>\n",
              "      <td>20801</td>\n",
              "      <td>92</td>\n",
              "      <td>0</td>\n",
              "      <td>437</td>\n",
              "      <td>84</td>\n",
              "      <td>95</td>\n",
              "      <td>90</td>\n",
              "      <td>82</td>\n",
              "      <td>86</td>\n",
              "      <td>414</td>\n",
              "      <td>88</td>\n",
              "      <td>81</td>\n",
              "      <td>76</td>\n",
              "      <td>77</td>\n",
              "      <td>92</td>\n",
              "      <td>431</td>\n",
              "      <td>87</td>\n",
              "      <td>91</td>\n",
              "      <td>87</td>\n",
              "      <td>95</td>\n",
              "      <td>71</td>\n",
              "      <td>444</td>\n",
              "      <td>94</td>\n",
              "      <td>95</td>\n",
              "      <td>84</td>\n",
              "      <td>78</td>\n",
              "      <td>93</td>\n",
              "      <td>353</td>\n",
              "      <td>63</td>\n",
              "      <td>29</td>\n",
              "      <td>95</td>\n",
              "      <td>82</td>\n",
              "      <td>84</td>\n",
              "      <td>95</td>\n",
              "      <td>84</td>\n",
              "      <td>28</td>\n",
              "      <td>32</td>\n",
              "      <td>24</td>\n",
              "      <td>58</td>\n",
              "      <td>7</td>\n",
              "      <td>11</td>\n",
              "      <td>15</td>\n",
              "      <td>14</td>\n",
              "      <td>11</td>\n",
              "      <td>2221</td>\n",
              "      <td>464</td>\n",
              "      <td>89</td>\n",
              "      <td>93</td>\n",
              "      <td>81</td>\n",
              "      <td>89</td>\n",
              "      <td>35</td>\n",
              "      <td>77</td>\n",
              "    </tr>\n",
              "    <tr>\n",
              "      <th>2</th>\n",
              "      <td>27</td>\n",
              "      <td>91</td>\n",
              "      <td>93</td>\n",
              "      <td>200389</td>\n",
              "      <td>91</td>\n",
              "      <td>2</td>\n",
              "      <td>95</td>\n",
              "      <td>13</td>\n",
              "      <td>11</td>\n",
              "      <td>15</td>\n",
              "      <td>43</td>\n",
              "      <td>13</td>\n",
              "      <td>109</td>\n",
              "      <td>12</td>\n",
              "      <td>13</td>\n",
              "      <td>14</td>\n",
              "      <td>40</td>\n",
              "      <td>30</td>\n",
              "      <td>307</td>\n",
              "      <td>43</td>\n",
              "      <td>60</td>\n",
              "      <td>67</td>\n",
              "      <td>88</td>\n",
              "      <td>49</td>\n",
              "      <td>268</td>\n",
              "      <td>59</td>\n",
              "      <td>78</td>\n",
              "      <td>41</td>\n",
              "      <td>78</td>\n",
              "      <td>12</td>\n",
              "      <td>140</td>\n",
              "      <td>34</td>\n",
              "      <td>19</td>\n",
              "      <td>11</td>\n",
              "      <td>65</td>\n",
              "      <td>11</td>\n",
              "      <td>68</td>\n",
              "      <td>57</td>\n",
              "      <td>27</td>\n",
              "      <td>12</td>\n",
              "      <td>18</td>\n",
              "      <td>437</td>\n",
              "      <td>87</td>\n",
              "      <td>92</td>\n",
              "      <td>78</td>\n",
              "      <td>90</td>\n",
              "      <td>90</td>\n",
              "      <td>1413</td>\n",
              "      <td>489</td>\n",
              "      <td>87</td>\n",
              "      <td>92</td>\n",
              "      <td>78</td>\n",
              "      <td>90</td>\n",
              "      <td>52</td>\n",
              "      <td>90</td>\n",
              "    </tr>\n",
              "    <tr>\n",
              "      <th>3</th>\n",
              "      <td>29</td>\n",
              "      <td>91</td>\n",
              "      <td>91</td>\n",
              "      <td>192985</td>\n",
              "      <td>91</td>\n",
              "      <td>0</td>\n",
              "      <td>407</td>\n",
              "      <td>94</td>\n",
              "      <td>82</td>\n",
              "      <td>55</td>\n",
              "      <td>94</td>\n",
              "      <td>82</td>\n",
              "      <td>441</td>\n",
              "      <td>88</td>\n",
              "      <td>85</td>\n",
              "      <td>83</td>\n",
              "      <td>93</td>\n",
              "      <td>92</td>\n",
              "      <td>398</td>\n",
              "      <td>77</td>\n",
              "      <td>76</td>\n",
              "      <td>78</td>\n",
              "      <td>91</td>\n",
              "      <td>76</td>\n",
              "      <td>408</td>\n",
              "      <td>91</td>\n",
              "      <td>63</td>\n",
              "      <td>89</td>\n",
              "      <td>74</td>\n",
              "      <td>91</td>\n",
              "      <td>408</td>\n",
              "      <td>76</td>\n",
              "      <td>66</td>\n",
              "      <td>88</td>\n",
              "      <td>94</td>\n",
              "      <td>84</td>\n",
              "      <td>91</td>\n",
              "      <td>186</td>\n",
              "      <td>68</td>\n",
              "      <td>65</td>\n",
              "      <td>53</td>\n",
              "      <td>56</td>\n",
              "      <td>15</td>\n",
              "      <td>13</td>\n",
              "      <td>5</td>\n",
              "      <td>10</td>\n",
              "      <td>13</td>\n",
              "      <td>2304</td>\n",
              "      <td>485</td>\n",
              "      <td>76</td>\n",
              "      <td>86</td>\n",
              "      <td>93</td>\n",
              "      <td>88</td>\n",
              "      <td>64</td>\n",
              "      <td>78</td>\n",
              "    </tr>\n",
              "    <tr>\n",
              "      <th>4</th>\n",
              "      <td>28</td>\n",
              "      <td>91</td>\n",
              "      <td>91</td>\n",
              "      <td>190871</td>\n",
              "      <td>91</td>\n",
              "      <td>0</td>\n",
              "      <td>408</td>\n",
              "      <td>85</td>\n",
              "      <td>87</td>\n",
              "      <td>62</td>\n",
              "      <td>87</td>\n",
              "      <td>87</td>\n",
              "      <td>448</td>\n",
              "      <td>95</td>\n",
              "      <td>88</td>\n",
              "      <td>89</td>\n",
              "      <td>81</td>\n",
              "      <td>95</td>\n",
              "      <td>453</td>\n",
              "      <td>94</td>\n",
              "      <td>89</td>\n",
              "      <td>96</td>\n",
              "      <td>91</td>\n",
              "      <td>83</td>\n",
              "      <td>357</td>\n",
              "      <td>80</td>\n",
              "      <td>62</td>\n",
              "      <td>81</td>\n",
              "      <td>50</td>\n",
              "      <td>84</td>\n",
              "      <td>356</td>\n",
              "      <td>51</td>\n",
              "      <td>36</td>\n",
              "      <td>87</td>\n",
              "      <td>90</td>\n",
              "      <td>92</td>\n",
              "      <td>93</td>\n",
              "      <td>94</td>\n",
              "      <td>35</td>\n",
              "      <td>30</td>\n",
              "      <td>29</td>\n",
              "      <td>59</td>\n",
              "      <td>9</td>\n",
              "      <td>9</td>\n",
              "      <td>15</td>\n",
              "      <td>15</td>\n",
              "      <td>11</td>\n",
              "      <td>2175</td>\n",
              "      <td>451</td>\n",
              "      <td>91</td>\n",
              "      <td>85</td>\n",
              "      <td>86</td>\n",
              "      <td>94</td>\n",
              "      <td>36</td>\n",
              "      <td>59</td>\n",
              "    </tr>\n",
              "    <tr>\n",
              "      <th>5</th>\n",
              "      <td>31</td>\n",
              "      <td>91</td>\n",
              "      <td>91</td>\n",
              "      <td>188545</td>\n",
              "      <td>91</td>\n",
              "      <td>0</td>\n",
              "      <td>423</td>\n",
              "      <td>71</td>\n",
              "      <td>94</td>\n",
              "      <td>85</td>\n",
              "      <td>84</td>\n",
              "      <td>89</td>\n",
              "      <td>407</td>\n",
              "      <td>85</td>\n",
              "      <td>79</td>\n",
              "      <td>85</td>\n",
              "      <td>70</td>\n",
              "      <td>88</td>\n",
              "      <td>407</td>\n",
              "      <td>77</td>\n",
              "      <td>78</td>\n",
              "      <td>77</td>\n",
              "      <td>93</td>\n",
              "      <td>82</td>\n",
              "      <td>420</td>\n",
              "      <td>89</td>\n",
              "      <td>84</td>\n",
              "      <td>76</td>\n",
              "      <td>86</td>\n",
              "      <td>85</td>\n",
              "      <td>391</td>\n",
              "      <td>81</td>\n",
              "      <td>49</td>\n",
              "      <td>94</td>\n",
              "      <td>79</td>\n",
              "      <td>88</td>\n",
              "      <td>88</td>\n",
              "      <td>96</td>\n",
              "      <td>35</td>\n",
              "      <td>42</td>\n",
              "      <td>19</td>\n",
              "      <td>51</td>\n",
              "      <td>15</td>\n",
              "      <td>6</td>\n",
              "      <td>12</td>\n",
              "      <td>8</td>\n",
              "      <td>10</td>\n",
              "      <td>2195</td>\n",
              "      <td>457</td>\n",
              "      <td>78</td>\n",
              "      <td>91</td>\n",
              "      <td>78</td>\n",
              "      <td>85</td>\n",
              "      <td>43</td>\n",
              "      <td>82</td>\n",
              "    </tr>\n",
              "    <tr>\n",
              "      <th>6</th>\n",
              "      <td>21</td>\n",
              "      <td>90</td>\n",
              "      <td>95</td>\n",
              "      <td>231747</td>\n",
              "      <td>91</td>\n",
              "      <td>5</td>\n",
              "      <td>408</td>\n",
              "      <td>78</td>\n",
              "      <td>91</td>\n",
              "      <td>73</td>\n",
              "      <td>83</td>\n",
              "      <td>83</td>\n",
              "      <td>394</td>\n",
              "      <td>92</td>\n",
              "      <td>79</td>\n",
              "      <td>63</td>\n",
              "      <td>70</td>\n",
              "      <td>90</td>\n",
              "      <td>458</td>\n",
              "      <td>96</td>\n",
              "      <td>96</td>\n",
              "      <td>92</td>\n",
              "      <td>92</td>\n",
              "      <td>82</td>\n",
              "      <td>404</td>\n",
              "      <td>86</td>\n",
              "      <td>77</td>\n",
              "      <td>86</td>\n",
              "      <td>76</td>\n",
              "      <td>79</td>\n",
              "      <td>341</td>\n",
              "      <td>62</td>\n",
              "      <td>38</td>\n",
              "      <td>91</td>\n",
              "      <td>80</td>\n",
              "      <td>70</td>\n",
              "      <td>84</td>\n",
              "      <td>100</td>\n",
              "      <td>34</td>\n",
              "      <td>34</td>\n",
              "      <td>32</td>\n",
              "      <td>42</td>\n",
              "      <td>13</td>\n",
              "      <td>5</td>\n",
              "      <td>7</td>\n",
              "      <td>11</td>\n",
              "      <td>6</td>\n",
              "      <td>2147</td>\n",
              "      <td>466</td>\n",
              "      <td>96</td>\n",
              "      <td>86</td>\n",
              "      <td>78</td>\n",
              "      <td>91</td>\n",
              "      <td>39</td>\n",
              "      <td>76</td>\n",
              "    </tr>\n",
              "    <tr>\n",
              "      <th>7</th>\n",
              "      <td>27</td>\n",
              "      <td>90</td>\n",
              "      <td>91</td>\n",
              "      <td>212831</td>\n",
              "      <td>90</td>\n",
              "      <td>1</td>\n",
              "      <td>114</td>\n",
              "      <td>17</td>\n",
              "      <td>13</td>\n",
              "      <td>19</td>\n",
              "      <td>45</td>\n",
              "      <td>20</td>\n",
              "      <td>138</td>\n",
              "      <td>27</td>\n",
              "      <td>19</td>\n",
              "      <td>18</td>\n",
              "      <td>44</td>\n",
              "      <td>30</td>\n",
              "      <td>268</td>\n",
              "      <td>56</td>\n",
              "      <td>47</td>\n",
              "      <td>40</td>\n",
              "      <td>88</td>\n",
              "      <td>37</td>\n",
              "      <td>240</td>\n",
              "      <td>64</td>\n",
              "      <td>52</td>\n",
              "      <td>32</td>\n",
              "      <td>78</td>\n",
              "      <td>14</td>\n",
              "      <td>140</td>\n",
              "      <td>27</td>\n",
              "      <td>11</td>\n",
              "      <td>13</td>\n",
              "      <td>66</td>\n",
              "      <td>23</td>\n",
              "      <td>65</td>\n",
              "      <td>50</td>\n",
              "      <td>15</td>\n",
              "      <td>19</td>\n",
              "      <td>16</td>\n",
              "      <td>439</td>\n",
              "      <td>86</td>\n",
              "      <td>88</td>\n",
              "      <td>85</td>\n",
              "      <td>91</td>\n",
              "      <td>89</td>\n",
              "      <td>1389</td>\n",
              "      <td>490</td>\n",
              "      <td>86</td>\n",
              "      <td>88</td>\n",
              "      <td>85</td>\n",
              "      <td>89</td>\n",
              "      <td>51</td>\n",
              "      <td>91</td>\n",
              "    </tr>\n",
              "    <tr>\n",
              "      <th>8</th>\n",
              "      <td>28</td>\n",
              "      <td>90</td>\n",
              "      <td>90</td>\n",
              "      <td>209331</td>\n",
              "      <td>90</td>\n",
              "      <td>0</td>\n",
              "      <td>392</td>\n",
              "      <td>79</td>\n",
              "      <td>91</td>\n",
              "      <td>59</td>\n",
              "      <td>84</td>\n",
              "      <td>79</td>\n",
              "      <td>406</td>\n",
              "      <td>90</td>\n",
              "      <td>83</td>\n",
              "      <td>69</td>\n",
              "      <td>75</td>\n",
              "      <td>89</td>\n",
              "      <td>460</td>\n",
              "      <td>94</td>\n",
              "      <td>92</td>\n",
              "      <td>91</td>\n",
              "      <td>92</td>\n",
              "      <td>91</td>\n",
              "      <td>393</td>\n",
              "      <td>80</td>\n",
              "      <td>69</td>\n",
              "      <td>85</td>\n",
              "      <td>75</td>\n",
              "      <td>84</td>\n",
              "      <td>376</td>\n",
              "      <td>63</td>\n",
              "      <td>55</td>\n",
              "      <td>91</td>\n",
              "      <td>84</td>\n",
              "      <td>83</td>\n",
              "      <td>90</td>\n",
              "      <td>122</td>\n",
              "      <td>38</td>\n",
              "      <td>43</td>\n",
              "      <td>41</td>\n",
              "      <td>62</td>\n",
              "      <td>14</td>\n",
              "      <td>14</td>\n",
              "      <td>9</td>\n",
              "      <td>11</td>\n",
              "      <td>14</td>\n",
              "      <td>2211</td>\n",
              "      <td>470</td>\n",
              "      <td>93</td>\n",
              "      <td>86</td>\n",
              "      <td>81</td>\n",
              "      <td>90</td>\n",
              "      <td>45</td>\n",
              "      <td>75</td>\n",
              "    </tr>\n",
              "    <tr>\n",
              "      <th>9</th>\n",
              "      <td>28</td>\n",
              "      <td>90</td>\n",
              "      <td>90</td>\n",
              "      <td>208722</td>\n",
              "      <td>90</td>\n",
              "      <td>0</td>\n",
              "      <td>410</td>\n",
              "      <td>76</td>\n",
              "      <td>90</td>\n",
              "      <td>84</td>\n",
              "      <td>85</td>\n",
              "      <td>75</td>\n",
              "      <td>391</td>\n",
              "      <td>91</td>\n",
              "      <td>76</td>\n",
              "      <td>64</td>\n",
              "      <td>71</td>\n",
              "      <td>89</td>\n",
              "      <td>460</td>\n",
              "      <td>95</td>\n",
              "      <td>93</td>\n",
              "      <td>93</td>\n",
              "      <td>93</td>\n",
              "      <td>86</td>\n",
              "      <td>406</td>\n",
              "      <td>84</td>\n",
              "      <td>86</td>\n",
              "      <td>88</td>\n",
              "      <td>70</td>\n",
              "      <td>78</td>\n",
              "      <td>358</td>\n",
              "      <td>75</td>\n",
              "      <td>35</td>\n",
              "      <td>92</td>\n",
              "      <td>85</td>\n",
              "      <td>71</td>\n",
              "      <td>84</td>\n",
              "      <td>122</td>\n",
              "      <td>42</td>\n",
              "      <td>42</td>\n",
              "      <td>38</td>\n",
              "      <td>56</td>\n",
              "      <td>10</td>\n",
              "      <td>10</td>\n",
              "      <td>15</td>\n",
              "      <td>7</td>\n",
              "      <td>14</td>\n",
              "      <td>2203</td>\n",
              "      <td>469</td>\n",
              "      <td>94</td>\n",
              "      <td>85</td>\n",
              "      <td>80</td>\n",
              "      <td>90</td>\n",
              "      <td>44</td>\n",
              "      <td>76</td>\n",
              "    </tr>\n",
              "  </tbody>\n",
              "</table></div>"
            ]
          },
          "metadata": {}
        }
      ]
    },
    {
      "cell_type": "code",
      "source": [
        "numerical_features.isnull().sum()"
      ],
      "metadata": {
        "id": "yIyf6qiwSzKX",
        "outputId": "c98d6ae9-c1a4-4f9d-8f45-c240d8dbfd32",
        "colab": {
          "base_uri": "https://localhost:8080/"
        }
      },
      "execution_count": null,
      "outputs": [
        {
          "output_type": "execute_result",
          "data": {
            "text/plain": [
              "Age                 0\n",
              "↓OVA                0\n",
              "POT                 0\n",
              "ID                  0\n",
              "BOV                 0\n",
              "Growth              0\n",
              "Attacking           0\n",
              "Crossing            0\n",
              "Finishing           0\n",
              "Heading Accuracy    0\n",
              "Short Passing       0\n",
              "Volleys             0\n",
              "Skill               0\n",
              "Dribbling           0\n",
              "Curve               0\n",
              "FK Accuracy         0\n",
              "Long Passing        0\n",
              "Ball Control        0\n",
              "Movement            0\n",
              "Acceleration        0\n",
              "Sprint Speed        0\n",
              "Agility             0\n",
              "Reactions           0\n",
              "Balance             0\n",
              "Power               0\n",
              "Shot Power          0\n",
              "Jumping             0\n",
              "Stamina             0\n",
              "Strength            0\n",
              "Long Shots          0\n",
              "Mentality           0\n",
              "Aggression          0\n",
              "Interceptions       0\n",
              "Positioning         0\n",
              "Vision              0\n",
              "Penalties           0\n",
              "Composure           0\n",
              "Defending           0\n",
              "Marking             0\n",
              "Standing Tackle     0\n",
              "Sliding Tackle      0\n",
              "Goalkeeping         0\n",
              "GK Diving           0\n",
              "GK Handling         0\n",
              "GK Kicking          0\n",
              "GK Positioning      0\n",
              "GK Reflexes         0\n",
              "Total Stats         0\n",
              "Base Stats          0\n",
              "PAC                 0\n",
              "SHO                 0\n",
              "PAS                 0\n",
              "DRI                 0\n",
              "DEF                 0\n",
              "PHY                 0\n",
              "dtype: int64"
            ]
          },
          "metadata": {},
          "execution_count": 10
        }
      ]
    },
    {
      "cell_type": "code",
      "source": [
        "numerical_features.info()"
      ],
      "metadata": {
        "id": "4joGvIHjjWxz",
        "colab": {
          "base_uri": "https://localhost:8080/"
        },
        "outputId": "3717a7e7-79c6-4240-d9e4-4b28a221dd29"
      },
      "execution_count": null,
      "outputs": [
        {
          "output_type": "stream",
          "name": "stdout",
          "text": [
            "<class 'pandas.core.frame.DataFrame'>\n",
            "RangeIndex: 18979 entries, 0 to 18978\n",
            "Data columns (total 55 columns):\n",
            " #   Column            Non-Null Count  Dtype\n",
            "---  ------            --------------  -----\n",
            " 0   Age               18979 non-null  int64\n",
            " 1   ↓OVA              18979 non-null  int64\n",
            " 2   POT               18979 non-null  int64\n",
            " 3   ID                18979 non-null  int64\n",
            " 4   BOV               18979 non-null  int64\n",
            " 5   Growth            18979 non-null  int64\n",
            " 6   Attacking         18979 non-null  int64\n",
            " 7   Crossing          18979 non-null  int64\n",
            " 8   Finishing         18979 non-null  int64\n",
            " 9   Heading Accuracy  18979 non-null  int64\n",
            " 10  Short Passing     18979 non-null  int64\n",
            " 11  Volleys           18979 non-null  int64\n",
            " 12  Skill             18979 non-null  int64\n",
            " 13  Dribbling         18979 non-null  int64\n",
            " 14  Curve             18979 non-null  int64\n",
            " 15  FK Accuracy       18979 non-null  int64\n",
            " 16  Long Passing      18979 non-null  int64\n",
            " 17  Ball Control      18979 non-null  int64\n",
            " 18  Movement          18979 non-null  int64\n",
            " 19  Acceleration      18979 non-null  int64\n",
            " 20  Sprint Speed      18979 non-null  int64\n",
            " 21  Agility           18979 non-null  int64\n",
            " 22  Reactions         18979 non-null  int64\n",
            " 23  Balance           18979 non-null  int64\n",
            " 24  Power             18979 non-null  int64\n",
            " 25  Shot Power        18979 non-null  int64\n",
            " 26  Jumping           18979 non-null  int64\n",
            " 27  Stamina           18979 non-null  int64\n",
            " 28  Strength          18979 non-null  int64\n",
            " 29  Long Shots        18979 non-null  int64\n",
            " 30  Mentality         18979 non-null  int64\n",
            " 31  Aggression        18979 non-null  int64\n",
            " 32  Interceptions     18979 non-null  int64\n",
            " 33  Positioning       18979 non-null  int64\n",
            " 34  Vision            18979 non-null  int64\n",
            " 35  Penalties         18979 non-null  int64\n",
            " 36  Composure         18979 non-null  int64\n",
            " 37  Defending         18979 non-null  int64\n",
            " 38  Marking           18979 non-null  int64\n",
            " 39  Standing Tackle   18979 non-null  int64\n",
            " 40  Sliding Tackle    18979 non-null  int64\n",
            " 41  Goalkeeping       18979 non-null  int64\n",
            " 42  GK Diving         18979 non-null  int64\n",
            " 43  GK Handling       18979 non-null  int64\n",
            " 44  GK Kicking        18979 non-null  int64\n",
            " 45  GK Positioning    18979 non-null  int64\n",
            " 46  GK Reflexes       18979 non-null  int64\n",
            " 47  Total Stats       18979 non-null  int64\n",
            " 48  Base Stats        18979 non-null  int64\n",
            " 49  PAC               18979 non-null  int64\n",
            " 50  SHO               18979 non-null  int64\n",
            " 51  PAS               18979 non-null  int64\n",
            " 52  DRI               18979 non-null  int64\n",
            " 53  DEF               18979 non-null  int64\n",
            " 54  PHY               18979 non-null  int64\n",
            "dtypes: int64(55)\n",
            "memory usage: 8.0 MB\n"
          ]
        }
      ]
    },
    {
      "cell_type": "markdown",
      "source": [
        "## DATA CLEANING"
      ],
      "metadata": {
        "id": "s5qXmQ2cz2mz"
      }
    },
    {
      "cell_type": "markdown",
      "source": [
        "### DUPLICATED VALUE"
      ],
      "metadata": {
        "id": "5HGHuaUz4cH5"
      }
    },
    {
      "cell_type": "code",
      "source": [
        "df.duplicated().sum()"
      ],
      "metadata": {
        "colab": {
          "base_uri": "https://localhost:8080/"
        },
        "id": "21REBjz5va2F",
        "outputId": "efc21f90-0a3e-4aae-e2ad-3981c4b0e9a5"
      },
      "execution_count": null,
      "outputs": [
        {
          "output_type": "execute_result",
          "data": {
            "text/plain": [
              "1"
            ]
          },
          "metadata": {},
          "execution_count": 12
        }
      ]
    },
    {
      "cell_type": "code",
      "source": [
        "# Check the duplicate rows\n",
        "df.loc[df.duplicated()]"
      ],
      "metadata": {
        "colab": {
          "base_uri": "https://localhost:8080/",
          "height": 165
        },
        "id": "qlLwynYv3yO0",
        "outputId": "76e0a061-650d-4237-b6b6-cfb36fb1308e"
      },
      "execution_count": null,
      "outputs": [
        {
          "output_type": "execute_result",
          "data": {
            "text/plain": [
              "                                             photoUrl       LongName  \\\n",
              "944  https://cdn.sofifa.com/players/251/698/21_60.png  Kevin Berlaso   \n",
              "\n",
              "                                             playerUrl Nationality Positions  \\\n",
              "944  http://sofifa.com/player/251698/kevin-berlaso/...     Ecuador        RB   \n",
              "\n",
              "           Name  Age  ↓OVA  POT       Team & Contract  ...   A/W     D/W   IR  \\\n",
              "944  K. Berlaso   32    77   77  \\n Ecuador\\nFree\\n\\n  ...  High  Medium  2 ★   \n",
              "\n",
              "    PAC  SHO PAS  DRI DEF PHY  Hits  \n",
              "944  78   56  69   77  72  68  \\n12  \n",
              "\n",
              "[1 rows x 77 columns]"
            ],
            "text/html": [
              "\n",
              "  <div id=\"df-92b93ad3-c966-4950-8f29-fe2918573e37\" class=\"colab-df-container\">\n",
              "    <div>\n",
              "<style scoped>\n",
              "    .dataframe tbody tr th:only-of-type {\n",
              "        vertical-align: middle;\n",
              "    }\n",
              "\n",
              "    .dataframe tbody tr th {\n",
              "        vertical-align: top;\n",
              "    }\n",
              "\n",
              "    .dataframe thead th {\n",
              "        text-align: right;\n",
              "    }\n",
              "</style>\n",
              "<table border=\"1\" class=\"dataframe\">\n",
              "  <thead>\n",
              "    <tr style=\"text-align: right;\">\n",
              "      <th></th>\n",
              "      <th>photoUrl</th>\n",
              "      <th>LongName</th>\n",
              "      <th>playerUrl</th>\n",
              "      <th>Nationality</th>\n",
              "      <th>Positions</th>\n",
              "      <th>Name</th>\n",
              "      <th>Age</th>\n",
              "      <th>↓OVA</th>\n",
              "      <th>POT</th>\n",
              "      <th>Team &amp; Contract</th>\n",
              "      <th>...</th>\n",
              "      <th>A/W</th>\n",
              "      <th>D/W</th>\n",
              "      <th>IR</th>\n",
              "      <th>PAC</th>\n",
              "      <th>SHO</th>\n",
              "      <th>PAS</th>\n",
              "      <th>DRI</th>\n",
              "      <th>DEF</th>\n",
              "      <th>PHY</th>\n",
              "      <th>Hits</th>\n",
              "    </tr>\n",
              "  </thead>\n",
              "  <tbody>\n",
              "    <tr>\n",
              "      <th>944</th>\n",
              "      <td>https://cdn.sofifa.com/players/251/698/21_60.png</td>\n",
              "      <td>Kevin Berlaso</td>\n",
              "      <td>http://sofifa.com/player/251698/kevin-berlaso/...</td>\n",
              "      <td>Ecuador</td>\n",
              "      <td>RB</td>\n",
              "      <td>K. Berlaso</td>\n",
              "      <td>32</td>\n",
              "      <td>77</td>\n",
              "      <td>77</td>\n",
              "      <td>\\n Ecuador\\nFree\\n\\n</td>\n",
              "      <td>...</td>\n",
              "      <td>High</td>\n",
              "      <td>Medium</td>\n",
              "      <td>2 ★</td>\n",
              "      <td>78</td>\n",
              "      <td>56</td>\n",
              "      <td>69</td>\n",
              "      <td>77</td>\n",
              "      <td>72</td>\n",
              "      <td>68</td>\n",
              "      <td>\\n12</td>\n",
              "    </tr>\n",
              "  </tbody>\n",
              "</table>\n",
              "<p>1 rows × 77 columns</p>\n",
              "</div>\n",
              "    <div class=\"colab-df-buttons\">\n",
              "\n",
              "  <div class=\"colab-df-container\">\n",
              "    <button class=\"colab-df-convert\" onclick=\"convertToInteractive('df-92b93ad3-c966-4950-8f29-fe2918573e37')\"\n",
              "            title=\"Convert this dataframe to an interactive table.\"\n",
              "            style=\"display:none;\">\n",
              "\n",
              "  <svg xmlns=\"http://www.w3.org/2000/svg\" height=\"24px\" viewBox=\"0 -960 960 960\">\n",
              "    <path d=\"M120-120v-720h720v720H120Zm60-500h600v-160H180v160Zm220 220h160v-160H400v160Zm0 220h160v-160H400v160ZM180-400h160v-160H180v160Zm440 0h160v-160H620v160ZM180-180h160v-160H180v160Zm440 0h160v-160H620v160Z\"/>\n",
              "  </svg>\n",
              "    </button>\n",
              "\n",
              "  <style>\n",
              "    .colab-df-container {\n",
              "      display:flex;\n",
              "      gap: 12px;\n",
              "    }\n",
              "\n",
              "    .colab-df-convert {\n",
              "      background-color: #E8F0FE;\n",
              "      border: none;\n",
              "      border-radius: 50%;\n",
              "      cursor: pointer;\n",
              "      display: none;\n",
              "      fill: #1967D2;\n",
              "      height: 32px;\n",
              "      padding: 0 0 0 0;\n",
              "      width: 32px;\n",
              "    }\n",
              "\n",
              "    .colab-df-convert:hover {\n",
              "      background-color: #E2EBFA;\n",
              "      box-shadow: 0px 1px 2px rgba(60, 64, 67, 0.3), 0px 1px 3px 1px rgba(60, 64, 67, 0.15);\n",
              "      fill: #174EA6;\n",
              "    }\n",
              "\n",
              "    .colab-df-buttons div {\n",
              "      margin-bottom: 4px;\n",
              "    }\n",
              "\n",
              "    [theme=dark] .colab-df-convert {\n",
              "      background-color: #3B4455;\n",
              "      fill: #D2E3FC;\n",
              "    }\n",
              "\n",
              "    [theme=dark] .colab-df-convert:hover {\n",
              "      background-color: #434B5C;\n",
              "      box-shadow: 0px 1px 3px 1px rgba(0, 0, 0, 0.15);\n",
              "      filter: drop-shadow(0px 1px 2px rgba(0, 0, 0, 0.3));\n",
              "      fill: #FFFFFF;\n",
              "    }\n",
              "  </style>\n",
              "\n",
              "    <script>\n",
              "      const buttonEl =\n",
              "        document.querySelector('#df-92b93ad3-c966-4950-8f29-fe2918573e37 button.colab-df-convert');\n",
              "      buttonEl.style.display =\n",
              "        google.colab.kernel.accessAllowed ? 'block' : 'none';\n",
              "\n",
              "      async function convertToInteractive(key) {\n",
              "        const element = document.querySelector('#df-92b93ad3-c966-4950-8f29-fe2918573e37');\n",
              "        const dataTable =\n",
              "          await google.colab.kernel.invokeFunction('convertToInteractive',\n",
              "                                                    [key], {});\n",
              "        if (!dataTable) return;\n",
              "\n",
              "        const docLinkHtml = 'Like what you see? Visit the ' +\n",
              "          '<a target=\"_blank\" href=https://colab.research.google.com/notebooks/data_table.ipynb>data table notebook</a>'\n",
              "          + ' to learn more about interactive tables.';\n",
              "        element.innerHTML = '';\n",
              "        dataTable['output_type'] = 'display_data';\n",
              "        await google.colab.output.renderOutput(dataTable, element);\n",
              "        const docLink = document.createElement('div');\n",
              "        docLink.innerHTML = docLinkHtml;\n",
              "        element.appendChild(docLink);\n",
              "      }\n",
              "    </script>\n",
              "  </div>\n",
              "\n",
              "\n",
              "    </div>\n",
              "  </div>\n"
            ],
            "application/vnd.google.colaboratory.intrinsic+json": {
              "type": "dataframe"
            }
          },
          "metadata": {},
          "execution_count": 13
        }
      ]
    },
    {
      "cell_type": "markdown",
      "source": [
        "### * DROP unrelated COLUMNS"
      ],
      "metadata": {
        "id": "CJdBmrWZ0Bci"
      }
    },
    {
      "cell_type": "code",
      "source": [
        "columns_to_drop = ['photoUrl', 'playerUrl', 'Loan Date End', 'Release Clause']\n",
        "df = df.drop(columns = columns_to_drop)"
      ],
      "metadata": {
        "id": "YmUKx8HKz2Eo"
      },
      "execution_count": null,
      "outputs": []
    },
    {
      "cell_type": "markdown",
      "source": [
        "\n",
        "### Columns to clean:\n",
        "1.   Team & Contract\n",
        "2.   Height\n",
        "3.   Weight\n",
        "4.   Joined (Year and Months)\n",
        "5.   Value\n",
        "6.   Wage\n",
        "7.  Positions\n",
        "8. Hits\n"
      ],
      "metadata": {
        "id": "SpUK2xULxeLY"
      }
    },
    {
      "cell_type": "markdown",
      "source": [
        "### 1. Team & Contract separate into two columns\n"
      ],
      "metadata": {
        "id": "pOXz7pkb2OBQ"
      }
    },
    {
      "cell_type": "code",
      "source": [
        "original_value = df[\"Team & Contract\"].head(10)\n",
        "original_value"
      ],
      "metadata": {
        "colab": {
          "base_uri": "https://localhost:8080/"
        },
        "id": "a0fxFPOY9jFP",
        "outputId": "525d611a-ed6c-47c8-9a51-d50113fbd8da"
      },
      "execution_count": null,
      "outputs": [
        {
          "output_type": "execute_result",
          "data": {
            "text/plain": [
              "0           \\n\\n\\n\\nFC Barcelona\\n2004 ~ 2021\\n\\n\n",
              "1               \\n\\n\\n\\nJuventus\\n2018 ~ 2022\\n\\n\n",
              "2        \\n\\n\\n\\nAtlético Madrid\\n2014 ~ 2023\\n\\n\n",
              "3        \\n\\n\\n\\nManchester City\\n2015 ~ 2023\\n\\n\n",
              "4    \\n\\n\\n\\nParis Saint-Germain\\n2017 ~ 2022\\n\\n\n",
              "5      \\n\\n\\n\\nFC Bayern München\\n2014 ~ 2023\\n\\n\n",
              "6    \\n\\n\\n\\nParis Saint-Germain\\n2018 ~ 2022\\n\\n\n",
              "7              \\n\\n\\n\\nLiverpool\\n2018 ~ 2024\\n\\n\n",
              "8              \\n\\n\\n\\nLiverpool\\n2017 ~ 2023\\n\\n\n",
              "9              \\n\\n\\n\\nLiverpool\\n2016 ~ 2023\\n\\n\n",
              "Name: Team & Contract, dtype: object"
            ]
          },
          "metadata": {},
          "execution_count": 15
        }
      ]
    },
    {
      "cell_type": "markdown",
      "source": [
        "\n",
        "\n",
        "*   Remove the '\\n' values in each rows\n",
        "\n"
      ],
      "metadata": {
        "id": "jPgrdBMB35GF"
      }
    },
    {
      "cell_type": "code",
      "source": [
        "df['Team & Contract'].replace('\\n', ' ', inplace=True, regex=True) #remove the '\\n' values"
      ],
      "metadata": {
        "id": "lAqZIocP2bMg"
      },
      "execution_count": null,
      "outputs": []
    },
    {
      "cell_type": "markdown",
      "source": [
        "\n",
        "\n",
        "*   Obtain the string inside the columns\n",
        "\n",
        "\n"
      ],
      "metadata": {
        "id": "WR1jIH3t3-VC"
      }
    },
    {
      "cell_type": "code",
      "source": [
        "Team = []\n",
        "Contract_Duration = []\n",
        "\n",
        "for x in range(len(df['Team & Contract'])):\n",
        "  team_contract = df['Team & Contract'][x] #new reference\n",
        "  parts = team_contract.split('2' , 1) #split the string into two parts at the first occurence of '2'\n",
        "  if len(parts) == 2: # [(parts[0]), (parts[1])]\n",
        "    team = parts[0]\n",
        "    duration = '2' + parts[1] #once splitted, the 2 will be disappered, so contanentaion with '2'\n",
        "  else:\n",
        "    team = team_contract\n",
        "    duration = '0'\n",
        "\n",
        "  #append to lists\n",
        "  Team.append(team)\n",
        "  Contract_Duration.append(duration)\n",
        "\n",
        "df['Team'] = Team\n",
        "df['Contract Duration'] = Contract_Duration\n",
        "\n",
        "df = df.drop(columns = ['Team & Contract'])"
      ],
      "metadata": {
        "id": "8YisBUei24pJ"
      },
      "execution_count": null,
      "outputs": []
    },
    {
      "cell_type": "code",
      "source": [
        "team_value = df[\"Team\"].head(10)\n",
        "team_value"
      ],
      "metadata": {
        "colab": {
          "base_uri": "https://localhost:8080/"
        },
        "id": "0MgotD3S9RIz",
        "outputId": "ec0e4fd6-2316-410b-c125-0dcc7d7b881f"
      },
      "execution_count": null,
      "outputs": [
        {
          "output_type": "execute_result",
          "data": {
            "text/plain": [
              "0               FC Barcelona \n",
              "1                   Juventus \n",
              "2            Atlético Madrid \n",
              "3            Manchester City \n",
              "4        Paris Saint-Germain \n",
              "5          FC Bayern München \n",
              "6        Paris Saint-Germain \n",
              "7                  Liverpool \n",
              "8                  Liverpool \n",
              "9                  Liverpool \n",
              "Name: Team, dtype: object"
            ]
          },
          "metadata": {},
          "execution_count": 18
        }
      ]
    },
    {
      "cell_type": "code",
      "source": [
        "contract_duration = df[\"Contract Duration\"].head(10)\n",
        "contract_duration"
      ],
      "metadata": {
        "colab": {
          "base_uri": "https://localhost:8080/"
        },
        "id": "b4Dx-Pu09aja",
        "outputId": "bc1188e8-e359-48ca-b4ea-dca1ca815682"
      },
      "execution_count": null,
      "outputs": [
        {
          "output_type": "execute_result",
          "data": {
            "text/plain": [
              "0    2004 ~ 2021  \n",
              "1    2018 ~ 2022  \n",
              "2    2014 ~ 2023  \n",
              "3    2015 ~ 2023  \n",
              "4    2017 ~ 2022  \n",
              "5    2014 ~ 2023  \n",
              "6    2018 ~ 2022  \n",
              "7    2018 ~ 2024  \n",
              "8    2017 ~ 2023  \n",
              "9    2016 ~ 2023  \n",
              "Name: Contract Duration, dtype: object"
            ]
          },
          "metadata": {},
          "execution_count": 19
        }
      ]
    },
    {
      "cell_type": "markdown",
      "source": [
        "### 2. Convert the height and weight columns to numerical forms.\n",
        "*   height (feet and inches --> cm)\n",
        "*   weight: (pounds) --> (kilograms)\n",
        "\n",
        "\n"
      ],
      "metadata": {
        "id": "2qUmYuetNdi8"
      }
    },
    {
      "cell_type": "code",
      "source": [
        "original_height_value = df[\"Height\"].head(10)\n",
        "original_height_value"
      ],
      "metadata": {
        "colab": {
          "base_uri": "https://localhost:8080/"
        },
        "id": "gT8oxWnR-ZrO",
        "outputId": "691eeca1-2ac0-49e7-87cc-7573e459ab26"
      },
      "execution_count": null,
      "outputs": [
        {
          "output_type": "execute_result",
          "data": {
            "text/plain": [
              "0     5'7\"\n",
              "1     6'2\"\n",
              "2     6'2\"\n",
              "3    5'11\"\n",
              "4     5'9\"\n",
              "5     6'0\"\n",
              "6    5'10\"\n",
              "7     6'3\"\n",
              "8     5'9\"\n",
              "9     5'9\"\n",
              "Name: Height, dtype: object"
            ]
          },
          "metadata": {},
          "execution_count": 20
        }
      ]
    },
    {
      "cell_type": "code",
      "source": [
        "original_weight_value = df[\"Weight\"].head(10)\n",
        "original_weight_value"
      ],
      "metadata": {
        "colab": {
          "base_uri": "https://localhost:8080/"
        },
        "id": "J7MXOxPb-mhw",
        "outputId": "34d4211b-8146-4114-b4b1-d863e347b9d8"
      },
      "execution_count": null,
      "outputs": [
        {
          "output_type": "execute_result",
          "data": {
            "text/plain": [
              "0    159lbs\n",
              "1    183lbs\n",
              "2    192lbs\n",
              "3    154lbs\n",
              "4    150lbs\n",
              "5    176lbs\n",
              "6    161lbs\n",
              "7    201lbs\n",
              "8    157lbs\n",
              "9    152lbs\n",
              "Name: Weight, dtype: object"
            ]
          },
          "metadata": {},
          "execution_count": 21
        }
      ]
    },
    {
      "cell_type": "code",
      "source": [
        "#Function to convert lbs to kg\n",
        "def lbs_to_kg(weight):\n",
        "    # Extract the numeric part from the string and convert it to integer\n",
        "    numeric_part = int(''.join(filter(str.isdigit, weight)))\n",
        "\n",
        "    # Convert pounds to kilograms\n",
        "    kilograms = numeric_part * 0.453592\n",
        "    return int(kilograms)\n",
        "\n",
        "#Function to conbert feet to cm\n",
        "def feet_to_cm(height):\n",
        "  feet, inches = height.split(\"'\")\n",
        "  feet = int(feet)\n",
        "  inches = int(inches.replace('\"', ' ' ))\n",
        "\n",
        "  total_inches = feet * 12 + inches\n",
        "  centimeters = total_inches * 2.54\n",
        "  return int(centimeters)\n",
        "\n",
        "df['Height'] = df['Height'].apply(feet_to_cm)\n",
        "df['Weight'] = df['Weight'].apply(lbs_to_kg)\n",
        "\n"
      ],
      "metadata": {
        "id": "GzwgnWbaNdQz"
      },
      "execution_count": null,
      "outputs": []
    },
    {
      "cell_type": "code",
      "source": [
        "height_value = df[\"Height\"].head(10)\n",
        "height_value"
      ],
      "metadata": {
        "colab": {
          "base_uri": "https://localhost:8080/"
        },
        "id": "bAQm7xdZ85p7",
        "outputId": "9f64b10f-69c3-4623-f9ae-9a1433d9e815"
      },
      "execution_count": null,
      "outputs": [
        {
          "output_type": "execute_result",
          "data": {
            "text/plain": [
              "0    170\n",
              "1    187\n",
              "2    187\n",
              "3    180\n",
              "4    175\n",
              "5    182\n",
              "6    177\n",
              "7    190\n",
              "8    175\n",
              "9    175\n",
              "Name: Height, dtype: int64"
            ]
          },
          "metadata": {},
          "execution_count": 23
        }
      ]
    },
    {
      "cell_type": "code",
      "source": [
        "weight_value = df[\"Weight\"].head(10)\n",
        "weight_value"
      ],
      "metadata": {
        "colab": {
          "base_uri": "https://localhost:8080/"
        },
        "id": "lkI0Y97UB4He",
        "outputId": "f87be356-7249-4ab5-de4b-1fa5b84e3970"
      },
      "execution_count": null,
      "outputs": [
        {
          "output_type": "execute_result",
          "data": {
            "text/plain": [
              "0    72\n",
              "1    83\n",
              "2    87\n",
              "3    69\n",
              "4    68\n",
              "5    79\n",
              "6    73\n",
              "7    91\n",
              "8    71\n",
              "9    68\n",
              "Name: Weight, dtype: int64"
            ]
          },
          "metadata": {},
          "execution_count": 24
        }
      ]
    },
    {
      "cell_type": "markdown",
      "source": [
        "### 3. Joined --> (Year, Month)"
      ],
      "metadata": {
        "id": "xuJiVcOFzlZU"
      }
    },
    {
      "cell_type": "code",
      "source": [
        "joined_value = df[\"Joined\"].head(10)\n",
        "joined_value"
      ],
      "metadata": {
        "colab": {
          "base_uri": "https://localhost:8080/"
        },
        "id": "J9pxYdTEDN3Q",
        "outputId": "db0adfc1-26ea-4275-e702-c3470c0d6f39"
      },
      "execution_count": null,
      "outputs": [
        {
          "output_type": "execute_result",
          "data": {
            "text/plain": [
              "0     Jul 1, 2004\n",
              "1    Jul 10, 2018\n",
              "2    Jul 16, 2014\n",
              "3    Aug 30, 2015\n",
              "4     Aug 3, 2017\n",
              "5     Jul 1, 2014\n",
              "6     Jul 1, 2018\n",
              "7    Jul 19, 2018\n",
              "8     Jul 1, 2017\n",
              "9     Jul 1, 2016\n",
              "Name: Joined, dtype: object"
            ]
          },
          "metadata": {},
          "execution_count": 25
        }
      ]
    },
    {
      "cell_type": "code",
      "source": [
        "df[[\"Joined_Month\", \"Joined_Year\"]] = df[\"Joined\"].str.split(',',  expand=True)\n",
        "df.drop(columns=[\"Joined\"], inplace=True)"
      ],
      "metadata": {
        "id": "Y6332xmizlKe"
      },
      "execution_count": null,
      "outputs": []
    },
    {
      "cell_type": "code",
      "source": [
        "df[\"Joined_Year\"].head(10)"
      ],
      "metadata": {
        "colab": {
          "base_uri": "https://localhost:8080/"
        },
        "id": "zVyFONvgTXmg",
        "outputId": "9fb25346-16de-483c-d219-d4f330ae5a91"
      },
      "execution_count": null,
      "outputs": [
        {
          "output_type": "execute_result",
          "data": {
            "text/plain": [
              "0     2004\n",
              "1     2018\n",
              "2     2014\n",
              "3     2015\n",
              "4     2017\n",
              "5     2014\n",
              "6     2018\n",
              "7     2018\n",
              "8     2017\n",
              "9     2016\n",
              "Name: Joined_Year, dtype: object"
            ]
          },
          "metadata": {},
          "execution_count": 27
        }
      ]
    },
    {
      "cell_type": "code",
      "source": [
        "df[\"Joined_Month\"].head(10)"
      ],
      "metadata": {
        "colab": {
          "base_uri": "https://localhost:8080/"
        },
        "id": "mt-mmZRwDgFr",
        "outputId": "31b3ec01-f3d0-448b-a096-534cfc0fe1c7"
      },
      "execution_count": null,
      "outputs": [
        {
          "output_type": "execute_result",
          "data": {
            "text/plain": [
              "0     Jul 1\n",
              "1    Jul 10\n",
              "2    Jul 16\n",
              "3    Aug 30\n",
              "4     Aug 3\n",
              "5     Jul 1\n",
              "6     Jul 1\n",
              "7    Jul 19\n",
              "8     Jul 1\n",
              "9     Jul 1\n",
              "Name: Joined_Month, dtype: object"
            ]
          },
          "metadata": {},
          "execution_count": 28
        }
      ]
    },
    {
      "cell_type": "markdown",
      "source": [
        "### 4. Value converts into INTEGERS\n",
        "\n"
      ],
      "metadata": {
        "id": "LxJIyrcF0rTy"
      }
    },
    {
      "cell_type": "code",
      "source": [
        "temp_value = []\n",
        "\n",
        "for x in range(len(df[\"Value\"])):\n",
        "  value = df[\"Value\"][x]\n",
        "  value = value.replace(\"€\", \"\");\n",
        "  if 'M' in str(value):\n",
        "    value = value.replace(\"M\", \"\");\n",
        "    value = float(value) * 1000000\n",
        "  elif 'K' in str(value) :\n",
        "    value = value.replace(\"K\", \"\");\n",
        "    value = float(value) * 1000\n",
        "  elif  'F' in value:\n",
        "    value = value.replace('F','')\n",
        "    value = value = int(value) / 10\n",
        "  temp_value.append(int(value))\n",
        "\n",
        "df[\"Value\"] = temp_value"
      ],
      "metadata": {
        "id": "P8pE1pMm1XZp"
      },
      "execution_count": null,
      "outputs": []
    },
    {
      "cell_type": "code",
      "source": [
        "value_columns = df[\"Value\"]\n",
        "print(value_columns)"
      ],
      "metadata": {
        "id": "4U0DYEXTWL4k",
        "outputId": "d331df43-ff9a-4df8-b312-ba31c23d1998",
        "colab": {
          "base_uri": "https://localhost:8080/"
        }
      },
      "execution_count": null,
      "outputs": [
        {
          "output_type": "stream",
          "name": "stdout",
          "text": [
            "0        67500000\n",
            "1        46000000\n",
            "2        75000000\n",
            "3        87000000\n",
            "4        90000000\n",
            "           ...   \n",
            "18974       35000\n",
            "18975       60000\n",
            "18976       40000\n",
            "18977       60000\n",
            "18978       60000\n",
            "Name: Value, Length: 18979, dtype: int64\n"
          ]
        }
      ]
    },
    {
      "cell_type": "markdown",
      "source": [
        "### 5. Wage into INTEGERS"
      ],
      "metadata": {
        "id": "xL4qW6VBWpV6"
      }
    },
    {
      "cell_type": "code",
      "source": [
        "temp_wage = []\n",
        "\n",
        "for x in range(len(df[\"Wage\"])):\n",
        "  wage = df[\"Wage\"][x]\n",
        "  wage = wage.replace(\"€\", \"\");\n",
        "  if 'M' in str(wage):\n",
        "    wage = wage.replace(\"M\", \"\");\n",
        "    wage = float(wage) * 1000000\n",
        "  elif 'K' in str(wage) :\n",
        "    wage = wage.replace(\"K\", \"\");\n",
        "    wage = float(wage) * 1000\n",
        "  elif  'F' in wage:\n",
        "    wage = wage.replace('F','')\n",
        "    wage = int(wage) / 10\n",
        "\n",
        "  temp_wage.append(int(wage))\n",
        "print(temp_wage)\n",
        "\n",
        "df[\"Wage\"] = temp_wage"
      ],
      "metadata": {
        "id": "7r5IfKO5WyH8",
        "outputId": "9eab0cec-4021-49fd-a7d6-a53bee52f6b9",
        "colab": {
          "base_uri": "https://localhost:8080/"
        }
      },
      "execution_count": null,
      "outputs": [
        {
          "output_type": "stream",
          "name": "stdout",
          "text": [
            "[560000, 220000, 125000, 370000, 270000, 240000, 160000, 160000, 250000, 250000, 210000, 260000, 310000, 250000, 125000, 350000, 300000, 300000, 190000, 145000, 190000, 195000, 270000, 220000, 140000, 350000, 310000, 100000, 82000, 110000, 230000, 155000, 200000, 195000, 155000, 190000, 165000, 290000, 110000, 125000, 240000, 170000, 105000, 160000, 260000, 115000, 125000, 94000, 160000, 230000, 220000, 135000, 190000, 150000, 130000, 220000, 140000, 93000, 55000, 58000, 220000, 100000, 105000, 80000, 130000, 145000, 150000, 34000, 190000, 94000, 100000, 190000, 135000, 120000, 140000, 115000, 100000, 210000, 115000, 135000, 99000, 120000, 92000, 105000, 165000, 120000, 155000, 59000, 150000, 170000, 94000, 65000, 110000, 130000, 56000, 150000, 220000, 115000, 93000, 56000, 130000, 98000, 47000, 96000, 18000, 70000, 125000, 94000, 145000, 75000, 84000, 155000, 27000, 20000, 120000, 86000, 105000, 77000, 74000, 140000, 92000, 110000, 91000, 130000, 25000, 210000, 105000, 105000, 25000, 46000, 110000, 67000, 85000, 120000, 175000, 90000, 79000, 83000, 54000, 90000, 43000, 110000, 135000, 92000, 175000, 150000, 49000, 115000, 45000, 160000, 100000, 105000, 93000, 41000, 135000, 125000, 500, 47000, 39000, 38000, 23000, 87000, 57000, 46000, 105000, 140000, 51000, 45000, 56000, 120000, 59000, 170000, 125000, 50000, 95000, 73000, 78000, 120000, 115000, 75000, 175000, 69000, 30000, 78000, 82000, 115000, 31000, 125000, 53000, 84000, 63000, 41000, 190000, 35000, 25000, 39000, 160000, 71000, 39000, 35000, 125000, 500, 55000, 125000, 170000, 130000, 21000, 14000, 17000, 33000, 17000, 28000, 110000, 49000, 85000, 32000, 41000, 32000, 70000, 95000, 65000, 98000, 53000, 89000, 30000, 68000, 160000, 70000, 39000, 56000, 31000, 35000, 65000, 36000, 64000, 28000, 26000, 67000, 72000, 48000, 76000, 40000, 59000, 29000, 59000, 120000, 78000, 46000, 100000, 16000, 92000, 105000, 140000, 20000, 125000, 37000, 59000, 93000, 23000, 36000, 98000, 105000, 24000, 82000, 64000, 115000, 110000, 34000, 72000, 59000, 100000, 39000, 41000, 41000, 49000, 51000, 54000, 97000, 105000, 28000, 46000, 70000, 65000, 40000, 100000, 90000, 56000, 43000, 0, 53000, 31000, 48000, 0, 79000, 83000, 30000, 65000, 69000, 39000, 49000, 62000, 17000, 96000, 79000, 82000, 74000, 82000, 35000, 31000, 24000, 73000, 35000, 54000, 14000, 71000, 86000, 83000, 115000, 62000, 14000, 97000, 19000, 58000, 32000, 92000, 80000, 70000, 115000, 60000, 27000, 69000, 84000, 39000, 63000, 19000, 96000, 500, 68000, 45000, 23000, 33000, 21000, 100000, 28000, 19000, 65000, 105000, 63000, 79000, 96000, 26000, 26000, 500, 500, 42000, 87000, 76000, 66000, 18000, 26000, 25000, 32000, 26000, 32000, 54000, 62000, 66000, 13000, 12000, 0, 0, 0, 0, 0, 0, 0, 0, 0, 500, 500, 47000, 115000, 40000, 95000, 21000, 82000, 70000, 69000, 28000, 37000, 140000, 50000, 69000, 18000, 43000, 23000, 28000, 34000, 59000, 51000, 43000, 26000, 96000, 25000, 55000, 46000, 31000, 90000, 86000, 45000, 41000, 76000, 46000, 66000, 100000, 46000, 94000, 74000, 43000, 17000, 17000, 73000, 18000, 81000, 68000, 47000, 37000, 39000, 17000, 69000, 165000, 57000, 37000, 29000, 65000, 49000, 86000, 29000, 82000, 56000, 32000, 76000, 41000, 110000, 84000, 59000, 49000, 23000, 82000, 33000, 46000, 135000, 56000, 31000, 80000, 53000, 30000, 29000, 86000, 53000, 21000, 70000, 40000, 17000, 500, 37000, 31000, 23000, 105000, 42000, 32000, 77000, 38000, 48000, 500, 20000, 41000, 61000, 48000, 45000, 68000, 46000, 105000, 49000, 80000, 63000, 43000, 61000, 13000, 32000, 41000, 85000, 38000, 33000, 98000, 80000, 18000, 81000, 22000, 22000, 53000, 40000, 13000, 94000, 22000, 12000, 0, 0, 0, 0, 93000, 48000, 90000, 500, 20000, 21000, 110000, 32000, 29000, 38000, 29000, 86000, 26000, 85000, 29000, 37000, 80000, 69000, 36000, 31000, 34000, 110000, 26000, 28000, 18000, 54000, 58000, 27000, 26000, 19000, 23000, 42000, 27000, 36000, 32000, 32000, 39000, 40000, 500, 34000, 19000, 67000, 41000, 48000, 100000, 35000, 30000, 11000, 37000, 31000, 36000, 42000, 69000, 13000, 80000, 30000, 57000, 32000, 48000, 57000, 27000, 49000, 57000, 20000, 32000, 29000, 47000, 90000, 20000, 48000, 0, 50000, 21000, 80000, 52000, 69000, 20000, 50000, 500, 20000, 83000, 40000, 37000, 37000, 42000, 77000, 44000, 42000, 23000, 100000, 31000, 46000, 57000, 17000, 48000, 14000, 47000, 78000, 46000, 500, 58000, 58000, 50000, 62000, 34000, 12000, 48000, 40000, 40000, 24000, 76000, 32000, 500, 40000, 62000, 78000, 27000, 12000, 55000, 28000, 31000, 32000, 73000, 44000, 65000, 89000, 12000, 43000, 30000, 34000, 32000, 25000, 16000, 78000, 24000, 30000, 500, 56000, 34000, 42000, 29000, 47000, 0, 500, 15000, 16000, 70000, 83000, 70000, 40000, 89000, 46000, 26000, 50000, 76000, 96000, 16000, 29000, 110000, 36000, 500, 22000, 40000, 43000, 48000, 33000, 76000, 12000, 85000, 500, 35000, 12000, 28000, 15000, 34000, 30000, 11000, 15000, 52000, 38000, 17000, 0, 0, 0, 105000, 39000, 500, 7000, 41000, 28000, 34000, 26000, 14000, 20000, 11000, 34000, 15000, 33000, 19000, 10000, 11000, 66000, 67000, 27000, 19000, 25000, 55000, 59000, 14000, 17000, 77000, 15000, 43000, 33000, 33000, 33000, 43000, 30000, 35000, 45000, 21000, 31000, 20000, 37000, 20000, 11000, 27000, 37000, 73000, 12000, 42000, 32000, 72000, 59000, 500, 55000, 36000, 33000, 65000, 16000, 68000, 46000, 48000, 16000, 28000, 35000, 37000, 27000, 30000, 13000, 19000, 28000, 66000, 48000, 52000, 37000, 51000, 16000, 57000, 20000, 19000, 21000, 59000, 18000, 47000, 16000, 81000, 51000, 36000, 66000, 36000, 16000, 21000, 77000, 28000, 35000, 54000, 48000, 29000, 12000, 50000, 41000, 28000, 25000, 36000, 37000, 69000, 500, 69000, 69000, 54000, 69000, 56000, 17000, 55000, 35000, 54000, 16000, 14000, 36000, 75000, 58000, 28000, 30000, 36000, 60000, 500, 49000, 37000, 25000, 500, 43000, 28000, 73000, 57000, 54000, 30000, 33000, 46000, 43000, 27000, 28000, 55000, 26000, 58000, 58000, 57000, 55000, 13000, 12000, 50000, 41000, 44000, 44000, 16000, 48000, 25000, 25000, 500, 64000, 50000, 41000, 19000, 37000, 72000, 62000, 63000, 46000, 38000, 46000, 39000, 24000, 50000, 33000, 43000, 56000, 24000, 21000, 44000, 38000, 11000, 26000, 37000, 28000, 20000, 27000, 20000, 60000, 7000, 45000, 23000, 18000, 84000, 26000, 24000, 38000, 50000, 26000, 51000, 43000, 32000, 24000, 20000, 47000, 16000, 18000, 500, 41000, 15000, 0, 37000, 32000, 7000, 17000, 37000, 19000, 34000, 15000, 19000, 18000, 27000, 17000, 46000, 56000, 22000, 33000, 40000, 8000, 47000, 21000, 52000, 27000, 38000, 29000, 72000, 31000, 35000, 26000, 22000, 61000, 20000, 60000, 66000, 18000, 47000, 40000, 20000, 45000, 37000, 34000, 11000, 0, 10000, 26000, 0, 21000, 29000, 0, 13000, 0, 27000, 22000, 59000, 25000, 31000, 16000, 24000, 49000, 43000, 11000, 51000, 13000, 41000, 24000, 31000, 21000, 21000, 79000, 41000, 34000, 17000, 0, 13000, 21000, 52000, 28000, 87000, 79000, 45000, 22000, 20000, 40000, 0, 19000, 50000, 50000, 18000, 68000, 34000, 54000, 23000, 25000, 28000, 31000, 44000, 48000, 34000, 36000, 40000, 29000, 6000, 54000, 12000, 77000, 10000, 54000, 13000, 25000, 23000, 500, 100000, 50000, 27000, 9000, 14000, 11000, 14000, 10000, 58000, 12000, 35000, 28000, 10000, 48000, 54000, 65000, 0, 25000, 15000, 59000, 21000, 16000, 24000, 25000, 26000, 33000, 59000, 10000, 33000, 64000, 52000, 30000, 23000, 93000, 500, 19000, 21000, 26000, 35000, 42000, 26000, 23000, 39000, 14000, 21000, 48000, 79000, 22000, 35000, 50000, 30000, 22000, 26000, 36000, 15000, 31000, 33000, 61000, 11000, 52000, 26000, 15000, 41000, 29000, 33000, 23000, 23000, 25000, 0, 43000, 14000, 500, 31000, 23000, 25000, 22000, 28000, 91000, 76000, 36000, 29000, 50000, 31000, 81000, 39000, 49000, 53000, 26000, 20000, 29000, 37000, 7000, 23000, 48000, 0, 52000, 21000, 59000, 25000, 48000, 22000, 58000, 23000, 21000, 125000, 26000, 25000, 68000, 29000, 500, 22000, 500, 41000, 43000, 36000, 26000, 47000, 12000, 14000, 28000, 31000, 33000, 48000, 12000, 29000, 17000, 22000, 37000, 29000, 14000, 12000, 31000, 45000, 17000, 12000, 14000, 27000, 48000, 40000, 26000, 24000, 53000, 42000, 500, 26000, 36000, 14000, 15000, 24000, 22000, 24000, 37000, 38000, 31000, 11000, 49000, 26000, 30000, 20000, 30000, 27000, 22000, 24000, 29000, 31000, 15000, 48000, 18000, 36000, 36000, 49000, 29000, 22000, 31000, 52000, 31000, 125000, 16000, 29000, 47000, 9000, 8000, 14000, 27000, 18000, 11000, 18000, 28000, 25000, 23000, 44000, 64000, 22000, 23000, 23000, 14000, 500, 10000, 34000, 17000, 27000, 34000, 500, 500, 55000, 9000, 34000, 31000, 40000, 58000, 13000, 42000, 9000, 29000, 47000, 26000, 34000, 50000, 500, 0, 14000, 53000, 38000, 0, 37000, 14000, 22000, 23000, 31000, 55000, 20000, 500, 36000, 9000, 26000, 500, 14000, 500, 5000, 20000, 20000, 27000, 8000, 61000, 21000, 31000, 33000, 0, 30000, 15000, 53000, 26000, 39000, 29000, 21000, 17000, 67000, 9000, 36000, 29000, 27000, 22000, 49000, 24000, 17000, 23000, 0, 39000, 51000, 17000, 14000, 48000, 15000, 15000, 0, 37000, 16000, 17000, 30000, 21000, 39000, 24000, 28000, 22000, 22000, 40000, 37000, 19000, 34000, 27000, 66000, 60000, 23000, 0, 46000, 16000, 17000, 0, 52000, 13000, 45000, 35000, 51000, 47000, 14000, 36000, 35000, 23000, 53000, 500, 15000, 18000, 42000, 48000, 33000, 25000, 20000, 34000, 500, 18000, 18000, 29000, 29000, 23000, 74000, 30000, 20000, 42000, 28000, 11000, 21000, 17000, 32000, 85000, 85000, 29000, 15000, 53000, 25000, 54000, 20000, 41000, 9000, 24000, 20000, 27000, 0, 22000, 28000, 9000, 49000, 44000, 17000, 25000, 27000, 15000, 14000, 500, 14000, 63000, 27000, 9000, 38000, 25000, 31000, 21000, 31000, 27000, 8000, 18000, 14000, 19000, 24000, 16000, 26000, 36000, 32000, 24000, 13000, 22000, 26000, 21000, 11000, 25000, 33000, 21000, 44000, 13000, 32000, 5000, 18000, 17000, 13000, 50000, 21000, 42000, 0, 13000, 16000, 13000, 29000, 49000, 31000, 45000, 22000, 49000, 36000, 20000, 0, 25000, 7000, 46000, 21000, 24000, 30000, 26000, 11000, 22000, 500, 30000, 28000, 16000, 28000, 27000, 60000, 30000, 42000, 24000, 24000, 21000, 5000, 35000, 500, 26000, 25000, 44000, 64000, 53000, 42000, 24000, 9000, 10000, 26000, 41000, 34000, 66000, 36000, 30000, 12000, 25000, 30000, 10000, 23000, 12000, 21000, 44000, 35000, 22000, 21000, 21000, 13000, 51000, 29000, 56000, 35000, 9000, 39000, 40000, 500, 64000, 51000, 44000, 17000, 500, 52000, 500, 25000, 30000, 33000, 20000, 9000, 49000, 37000, 60000, 10000, 47000, 42000, 38000, 9000, 14000, 12000, 46000, 28000, 22000, 22000, 61000, 36000, 22000, 28000, 20000, 70000, 20000, 38000, 11000, 40000, 12000, 8000, 23000, 11000, 20000, 0, 34000, 15000, 60000, 22000, 44000, 44000, 40000, 15000, 27000, 500, 18000, 38000, 27000, 10000, 24000, 25000, 500, 27000, 20000, 17000, 32000, 17000, 12000, 15000, 26000, 21000, 18000, 29000, 12000, 20000, 26000, 16000, 18000, 37000, 20000, 50000, 13000, 16000, 22000, 23000, 500, 500, 27000, 13000, 21000, 500, 11000, 20000, 21000, 7000, 500, 13000, 18000, 84000, 8000, 3000, 35000, 74000, 0, 500, 30000, 16000, 8000, 5000, 20000, 36000, 37000, 24000, 19000, 10000, 25000, 23000, 22000, 10000, 26000, 33000, 13000, 25000, 12000, 32000, 33000, 0, 10000, 11000, 30000, 30000, 50000, 21000, 8000, 0, 4000, 28000, 18000, 57000, 23000, 21000, 41000, 9000, 14000, 500, 32000, 17000, 12000, 21000, 14000, 41000, 12000, 34000, 20000, 33000, 6000, 12000, 8000, 26000, 53000, 19000, 21000, 46000, 45000, 13000, 50000, 35000, 18000, 12000, 0, 26000, 21000, 15000, 38000, 28000, 5000, 13000, 12000, 42000, 0, 9000, 15000, 9000, 42000, 32000, 12000, 12000, 33000, 13000, 41000, 15000, 16000, 13000, 51000, 25000, 7000, 13000, 3000, 46000, 26000, 17000, 36000, 23000, 9000, 37000, 23000, 15000, 500, 7000, 39000, 500, 30000, 26000, 42000, 35000, 16000, 13000, 12000, 29000, 19000, 9000, 500, 8000, 41000, 23000, 500, 27000, 15000, 500, 20000, 12000, 21000, 22000, 7000, 44000, 26000, 34000, 22000, 13000, 9000, 32000, 34000, 38000, 8000, 9000, 500, 6000, 22000, 13000, 15000, 7000, 23000, 14000, 15000, 13000, 24000, 18000, 21000, 29000, 20000, 17000, 9000, 37000, 33000, 50000, 16000, 14000, 23000, 15000, 11000, 22000, 15000, 55000, 26000, 30000, 17000, 14000, 11000, 21000, 43000, 37000, 500, 9000, 13000, 23000, 37000, 18000, 18000, 38000, 9000, 30000, 20000, 44000, 25000, 15000, 32000, 13000, 31000, 15000, 22000, 9000, 77000, 15000, 13000, 46000, 34000, 75000, 35000, 57000, 13000, 21000, 22000, 44000, 12000, 21000, 23000, 8000, 34000, 22000, 79000, 30000, 24000, 9000, 46000, 15000, 22000, 21000, 34000, 38000, 18000, 26000, 10000, 45000, 30000, 42000, 38000, 32000, 25000, 44000, 44000, 43000, 18000, 24000, 38000, 10000, 0, 19000, 15000, 25000, 48000, 50000, 27000, 8000, 47000, 18000, 5000, 18000, 11000, 15000, 22000, 7000, 9000, 18000, 11000, 18000, 9000, 23000, 30000, 24000, 16000, 55000, 18000, 22000, 14000, 23000, 23000, 24000, 500, 19000, 34000, 46000, 14000, 24000, 20000, 500, 16000, 8000, 18000, 22000, 16000, 9000, 44000, 25000, 8000, 38000, 30000, 500, 14000, 11000, 22000, 22000, 33000, 7000, 24000, 23000, 24000, 17000, 37000, 19000, 9000, 18000, 27000, 44000, 10000, 28000, 10000, 18000, 30000, 42000, 500, 19000, 15000, 26000, 44000, 27000, 50000, 24000, 0, 46000, 28000, 23000, 9000, 20000, 51000, 43000, 30000, 49000, 500, 51000, 42000, 14000, 41000, 18000, 33000, 23000, 11000, 500, 9000, 8000, 18000, 8000, 60000, 20000, 42000, 27000, 22000, 20000, 23000, 18000, 7000, 20000, 500, 42000, 11000, 24000, 12000, 9000, 25000, 38000, 58000, 500, 9000, 40000, 14000, 32000, 9000, 20000, 55000, 18000, 9000, 500, 40000, 9000, 18000, 21000, 18000, 24000, 16000, 36000, 8000, 11000, 26000, 17000, 71000, 25000, 18000, 20000, 9000, 26000, 16000, 37000, 500, 27000, 15000, 42000, 68000, 25000, 42000, 14000, 21000, 17000, 16000, 34000, 40000, 42000, 33000, 34000, 7000, 16000, 8000, 22000, 50000, 9000, 11000, 500, 33000, 17000, 27000, 8000, 8000, 14000, 23000, 13000, 500, 9000, 14000, 24000, 48000, 17000, 12000, 8000, 14000, 25000, 24000, 40000, 51000, 11000, 22000, 30000, 50000, 18000, 25000, 17000, 8000, 23000, 500, 22000, 47000, 18000, 62000, 25000, 28000, 13000, 26000, 12000, 500, 500, 9000, 9000, 7000, 15000, 11000, 26000, 26000, 18000, 34000, 23000, 7000, 0, 6000, 16000, 23000, 45000, 17000, 8000, 26000, 14000, 34000, 14000, 14000, 27000, 24000, 21000, 16000, 17000, 23000, 19000, 22000, 20000, 25000, 49000, 8000, 24000, 13000, 19000, 21000, 36000, 15000, 19000, 29000, 45000, 34000, 16000, 13000, 18000, 19000, 18000, 24000, 14000, 22000, 7000, 28000, 10000, 26000, 17000, 25000, 15000, 21000, 17000, 21000, 41000, 20000, 21000, 41000, 20000, 11000, 46000, 10000, 24000, 500, 8000, 14000, 35000, 14000, 14000, 6000, 26000, 13000, 36000, 500, 37000, 8000, 4000, 43000, 20000, 16000, 15000, 26000, 16000, 51000, 26000, 21000, 23000, 16000, 53000, 44000, 16000, 42000, 6000, 17000, 49000, 28000, 14000, 10000, 9000, 0, 500, 21000, 14000, 45000, 7000, 500, 12000, 500, 27000, 14000, 22000, 19000, 45000, 16000, 7000, 16000, 21000, 15000, 31000, 8000, 17000, 8000, 500, 15000, 18000, 26000, 500, 500, 24000, 25000, 24000, 27000, 24000, 9000, 500, 25000, 15000, 7000, 15000, 27000, 19000, 8000, 18000, 33000, 26000, 11000, 8000, 17000, 22000, 500, 500, 28000, 23000, 500, 13000, 16000, 500, 500, 500, 19000, 24000, 19000, 22000, 12000, 18000, 18000, 0, 11000, 21000, 8000, 16000, 26000, 41000, 42000, 41000, 16000, 28000, 39000, 41000, 6000, 37000, 15000, 35000, 21000, 9000, 22000, 17000, 23000, 25000, 9000, 11000, 14000, 13000, 11000, 18000, 19000, 17000, 21000, 7000, 24000, 13000, 16000, 8000, 12000, 16000, 12000, 15000, 49000, 14000, 25000, 36000, 21000, 29000, 8000, 29000, 0, 29000, 34000, 26000, 23000, 12000, 43000, 17000, 34000, 49000, 15000, 19000, 15000, 6000, 12000, 38000, 57000, 23000, 21000, 16000, 81000, 19000, 31000, 39000, 26000, 23000, 10000, 14000, 8000, 12000, 23000, 39000, 8000, 11000, 19000, 14000, 15000, 62000, 34000, 500, 6000, 13000, 500, 500, 47000, 20000, 40000, 500, 59000, 12000, 84000, 19000, 26000, 37000, 22000, 500, 16000, 30000, 6000, 55000, 19000, 26000, 21000, 14000, 12000, 500, 9000, 500, 15000, 500, 25000, 16000, 18000, 10000, 15000, 14000, 500, 24000, 14000, 12000, 0, 28000, 26000, 10000, 8000, 21000, 24000, 500, 34000, 24000, 24000, 16000, 31000, 15000, 26000, 17000, 9000, 11000, 38000, 8000, 21000, 13000, 500, 38000, 6000, 8000, 500, 20000, 23000, 29000, 8000, 20000, 14000, 19000, 500, 500, 29000, 12000, 12000, 15000, 13000, 30000, 500, 56000, 30000, 9000, 20000, 18000, 8000, 39000, 39000, 15000, 11000, 24000, 500, 71000, 19000, 12000, 11000, 7000, 500, 24000, 19000, 14000, 31000, 13000, 15000, 15000, 12000, 17000, 14000, 47000, 20000, 30000, 24000, 26000, 14000, 19000, 21000, 13000, 27000, 27000, 26000, 33000, 500, 16000, 39000, 10000, 22000, 47000, 500, 10000, 15000, 17000, 28000, 500, 6000, 14000, 9000, 15000, 21000, 12000, 15000, 24000, 55000, 9000, 9000, 12000, 7000, 26000, 23000, 18000, 16000, 20000, 44000, 6000, 28000, 13000, 16000, 500, 13000, 23000, 7000, 18000, 19000, 15000, 35000, 46000, 9000, 25000, 16000, 16000, 65000, 25000, 8000, 26000, 18000, 62000, 12000, 21000, 34000, 18000, 23000, 18000, 15000, 7000, 10000, 36000, 49000, 7000, 6000, 8000, 35000, 11000, 16000, 14000, 14000, 10000, 11000, 31000, 7000, 17000, 6000, 8000, 14000, 5000, 14000, 12000, 0, 20000, 500, 11000, 12000, 14000, 29000, 28000, 7000, 21000, 12000, 11000, 31000, 19000, 40000, 36000, 6000, 11000, 14000, 32000, 50000, 37000, 24000, 13000, 500, 17000, 500, 5000, 8000, 24000, 16000, 63000, 14000, 36000, 7000, 21000, 57000, 35000, 11000, 13000, 15000, 36000, 4000, 7000, 7000, 20000, 11000, 18000, 45000, 10000, 26000, 500, 15000, 12000, 33000, 15000, 32000, 71000, 13000, 9000, 8000, 21000, 23000, 27000, 11000, 32000, 7000, 17000, 0, 15000, 14000, 13000, 11000, 8000, 14000, 27000, 17000, 16000, 18000, 4000, 13000, 11000, 0, 29000, 8000, 13000, 8000, 9000, 17000, 11000, 11000, 8000, 66000, 12000, 0, 21000, 49000, 17000, 63000, 500, 29000, 22000, 17000, 500, 500, 0, 16000, 500, 26000, 21000, 21000, 9000, 39000, 13000, 19000, 31000, 8000, 13000, 11000, 24000, 6000, 12000, 16000, 500, 16000, 8000, 55000, 13000, 13000, 10000, 12000, 2000, 16000, 24000, 22000, 8000, 9000, 15000, 11000, 13000, 500, 15000, 13000, 20000, 11000, 12000, 9000, 5000, 13000, 12000, 18000, 8000, 11000, 17000, 12000, 12000, 16000, 15000, 16000, 11000, 20000, 13000, 500, 500, 16000, 31000, 50000, 11000, 27000, 55000, 500, 13000, 4000, 52000, 19000, 13000, 16000, 22000, 20000, 7000, 17000, 6000, 0, 9000, 10000, 16000, 13000, 10000, 30000, 500, 11000, 14000, 9000, 41000, 19000, 24000, 32000, 15000, 9000, 22000, 13000, 500, 8000, 15000, 9000, 12000, 8000, 10000, 30000, 15000, 16000, 20000, 34000, 500, 16000, 500, 11000, 9000, 7000, 17000, 11000, 26000, 35000, 11000, 8000, 14000, 24000, 8000, 26000, 500, 16000, 14000, 6000, 12000, 6000, 7000, 18000, 40000, 24000, 18000, 500, 19000, 28000, 21000, 33000, 7000, 11000, 13000, 7000, 27000, 18000, 19000, 8000, 7000, 0, 48000, 10000, 16000, 5000, 13000, 19000, 13000, 24000, 16000, 500, 34000, 8000, 22000, 30000, 9000, 28000, 13000, 26000, 10000, 2000, 500, 6000, 9000, 11000, 8000, 28000, 15000, 15000, 30000, 6000, 42000, 18000, 17000, 500, 12000, 20000, 16000, 38000, 13000, 8000, 17000, 17000, 40000, 3000, 6000, 16000, 18000, 30000, 26000, 17000, 20000, 19000, 500, 16000, 13000, 20000, 500, 0, 19000, 27000, 500, 12000, 19000, 22000, 23000, 20000, 10000, 57000, 9000, 17000, 7000, 33000, 23000, 12000, 47000, 16000, 500, 15000, 14000, 32000, 9000, 42000, 12000, 0, 500, 18000, 15000, 8000, 22000, 4000, 31000, 17000, 8000, 30000, 13000, 8000, 8000, 15000, 22000, 21000, 500, 42000, 15000, 38000, 12000, 500, 12000, 25000, 5000, 10000, 500, 22000, 57000, 14000, 13000, 26000, 12000, 27000, 31000, 8000, 15000, 17000, 0, 23000, 13000, 13000, 12000, 16000, 9000, 12000, 19000, 16000, 13000, 15000, 12000, 6000, 35000, 20000, 500, 12000, 22000, 28000, 12000, 33000, 45000, 9000, 63000, 3000, 41000, 14000, 19000, 27000, 13000, 14000, 44000, 9000, 31000, 6000, 23000, 15000, 32000, 7000, 24000, 26000, 9000, 500, 37000, 8000, 15000, 14000, 13000, 17000, 28000, 7000, 7000, 11000, 12000, 19000, 51000, 15000, 10000, 7000, 7000, 16000, 500, 10000, 29000, 18000, 50000, 27000, 11000, 6000, 500, 16000, 15000, 16000, 6000, 15000, 17000, 9000, 21000, 6000, 21000, 10000, 0, 20000, 500, 5000, 31000, 41000, 8000, 22000, 10000, 15000, 11000, 9000, 21000, 22000, 20000, 0, 11000, 500, 7000, 8000, 17000, 15000, 7000, 9000, 500, 17000, 12000, 21000, 16000, 11000, 11000, 36000, 26000, 14000, 12000, 20000, 6000, 8000, 4000, 12000, 51000, 36000, 11000, 14000, 12000, 35000, 24000, 17000, 25000, 6000, 30000, 12000, 9000, 7000, 49000, 500, 16000, 500, 27000, 7000, 500, 23000, 0, 59000, 500, 32000, 20000, 23000, 10000, 16000, 16000, 11000, 8000, 23000, 17000, 7000, 17000, 7000, 5000, 15000, 5000, 32000, 23000, 21000, 28000, 44000, 21000, 500, 21000, 17000, 9000, 13000, 0, 500, 8000, 28000, 15000, 6000, 8000, 23000, 10000, 13000, 37000, 8000, 14000, 10000, 6000, 17000, 8000, 10000, 17000, 25000, 16000, 15000, 12000, 22000, 8000, 38000, 15000, 20000, 18000, 12000, 20000, 12000, 33000, 500, 12000, 4000, 12000, 15000, 5000, 4000, 14000, 7000, 11000, 22000, 11000, 11000, 6000, 22000, 18000, 12000, 18000, 35000, 17000, 20000, 48000, 4000, 10000, 23000, 9000, 15000, 22000, 15000, 8000, 16000, 18000, 21000, 17000, 8000, 11000, 21000, 17000, 29000, 39000, 39000, 12000, 15000, 9000, 17000, 9000, 500, 500, 7000, 41000, 500, 13000, 500, 500, 13000, 10000, 8000, 11000, 14000, 9000, 500, 20000, 11000, 12000, 12000, 12000, 11000, 7000, 9000, 5000, 15000, 500, 5000, 8000, 500, 27000, 11000, 500, 26000, 10000, 14000, 11000, 14000, 13000, 21000, 500, 15000, 2000, 15000, 10000, 39000, 7000, 19000, 19000, 12000, 8000, 12000, 13000, 32000, 0, 20000, 6000, 48000, 0, 19000, 39000, 38000, 20000, 22000, 500, 15000, 10000, 6000, 13000, 7000, 24000, 500, 8000, 500, 8000, 26000, 14000, 13000, 500, 7000, 14000, 13000, 13000, 16000, 8000, 0, 11000, 21000, 15000, 23000, 9000, 8000, 3000, 6000, 6000, 7000, 14000, 9000, 5000, 25000, 18000, 15000, 14000, 500, 28000, 18000, 4000, 500, 0, 19000, 15000, 20000, 27000, 15000, 13000, 500, 15000, 10000, 19000, 8000, 23000, 12000, 7000, 7000, 7000, 6000, 10000, 23000, 8000, 20000, 6000, 500, 13000, 13000, 0, 6000, 13000, 20000, 12000, 14000, 31000, 3000, 15000, 16000, 27000, 11000, 10000, 17000, 6000, 20000, 7000, 14000, 500, 24000, 15000, 29000, 28000, 25000, 500, 23000, 27000, 23000, 24000, 12000, 15000, 9000, 13000, 3000, 500, 500, 33000, 26000, 11000, 11000, 13000, 13000, 9000, 13000, 29000, 10000, 11000, 14000, 32000, 8000, 10000, 500, 9000, 12000, 12000, 18000, 55000, 11000, 500, 8000, 20000, 5000, 7000, 20000, 12000, 6000, 6000, 14000, 7000, 26000, 8000, 0, 23000, 18000, 5000, 5000, 29000, 15000, 6000, 10000, 21000, 12000, 10000, 17000, 24000, 7000, 6000, 5000, 18000, 10000, 10000, 28000, 500, 12000, 4000, 28000, 7000, 8000, 17000, 23000, 13000, 10000, 20000, 15000, 3000, 500, 12000, 5000, 21000, 500, 19000, 9000, 19000, 4000, 12000, 0, 9000, 15000, 500, 3000, 19000, 12000, 21000, 500, 20000, 12000, 23000, 12000, 10000, 7000, 6000, 500, 16000, 18000, 13000, 15000, 12000, 500, 12000, 24000, 8000, 20000, 15000, 13000, 12000, 10000, 9000, 4000, 17000, 35000, 500, 6000, 25000, 11000, 20000, 18000, 8000, 36000, 11000, 12000, 10000, 18000, 16000, 8000, 21000, 11000, 21000, 12000, 27000, 14000, 18000, 9000, 6000, 6000, 500, 11000, 9000, 500, 6000, 18000, 0, 12000, 26000, 10000, 4000, 13000, 500, 11000, 19000, 19000, 5000, 20000, 6000, 14000, 6000, 6000, 16000, 500, 43000, 500, 6000, 18000, 11000, 4000, 0, 8000, 7000, 500, 15000, 14000, 12000, 5000, 6000, 16000, 15000, 23000, 7000, 3000, 500, 14000, 8000, 21000, 12000, 19000, 0, 18000, 28000, 5000, 7000, 14000, 9000, 17000, 8000, 33000, 12000, 8000, 500, 7000, 10000, 18000, 29000, 15000, 13000, 11000, 6000, 13000, 13000, 17000, 10000, 19000, 12000, 20000, 3000, 28000, 20000, 500, 13000, 17000, 15000, 19000, 10000, 28000, 500, 500, 9000, 26000, 8000, 18000, 16000, 16000, 7000, 32000, 17000, 6000, 5000, 5000, 500, 500, 5000, 22000, 13000, 500, 32000, 38000, 11000, 30000, 11000, 8000, 8000, 9000, 500, 8000, 500, 7000, 60000, 17000, 6000, 6000, 15000, 21000, 13000, 15000, 8000, 500, 12000, 6000, 10000, 19000, 10000, 12000, 5000, 11000, 8000, 7000, 21000, 15000, 16000, 42000, 8000, 11000, 38000, 7000, 18000, 21000, 33000, 11000, 0, 15000, 15000, 500, 6000, 3000, 52000, 15000, 13000, 5000, 16000, 5000, 7000, 17000, 17000, 7000, 15000, 10000, 15000, 12000, 6000, 500, 33000, 10000, 9000, 26000, 12000, 12000, 9000, 6000, 4000, 6000, 8000, 32000, 12000, 12000, 500, 7000, 8000, 38000, 63000, 500, 14000, 18000, 10000, 10000, 11000, 6000, 18000, 7000, 15000, 6000, 13000, 15000, 53000, 6000, 29000, 3000, 500, 6000, 6000, 6000, 10000, 14000, 2000, 500, 15000, 8000, 18000, 10000, 16000, 11000, 12000, 9000, 35000, 17000, 14000, 6000, 9000, 0, 10000, 7000, 11000, 17000, 18000, 10000, 8000, 20000, 12000, 7000, 4000, 14000, 500, 12000, 25000, 12000, 48000, 7000, 16000, 500, 42000, 30000, 8000, 11000, 500, 9000, 9000, 7000, 10000, 43000, 6000, 8000, 8000, 19000, 19000, 18000, 27000, 22000, 10000, 8000, 12000, 15000, 13000, 20000, 14000, 12000, 6000, 5000, 8000, 18000, 8000, 10000, 500, 23000, 12000, 17000, 500, 19000, 19000, 36000, 30000, 21000, 9000, 19000, 13000, 7000, 14000, 22000, 10000, 34000, 2000, 35000, 11000, 11000, 19000, 13000, 6000, 9000, 63000, 12000, 11000, 13000, 19000, 28000, 21000, 11000, 13000, 7000, 3000, 22000, 18000, 13000, 16000, 3000, 16000, 15000, 25000, 18000, 2000, 12000, 30000, 25000, 12000, 11000, 14000, 8000, 29000, 0, 4000, 11000, 28000, 19000, 12000, 27000, 9000, 500, 16000, 8000, 0, 500, 4000, 31000, 0, 13000, 9000, 13000, 500, 19000, 8000, 8000, 12000, 17000, 36000, 7000, 13000, 500, 7000, 14000, 14000, 15000, 11000, 9000, 17000, 7000, 9000, 13000, 5000, 14000, 8000, 500, 7000, 500, 5000, 12000, 16000, 25000, 14000, 10000, 47000, 10000, 9000, 16000, 9000, 16000, 8000, 15000, 21000, 13000, 500, 8000, 11000, 21000, 7000, 7000, 11000, 11000, 21000, 7000, 6000, 25000, 11000, 10000, 7000, 500, 10000, 9000, 6000, 6000, 500, 14000, 20000, 18000, 5000, 9000, 8000, 31000, 8000, 14000, 5000, 1000, 15000, 11000, 9000, 6000, 28000, 6000, 16000, 9000, 18000, 15000, 5000, 9000, 19000, 8000, 20000, 12000, 11000, 8000, 29000, 8000, 8000, 14000, 25000, 31000, 14000, 8000, 11000, 4000, 9000, 500, 500, 10000, 500, 12000, 7000, 12000, 500, 18000, 10000, 28000, 500, 14000, 4000, 9000, 5000, 7000, 12000, 18000, 21000, 12000, 12000, 7000, 13000, 500, 500, 12000, 17000, 6000, 7000, 500, 500, 500, 9000, 4000, 8000, 9000, 8000, 23000, 3000, 15000, 12000, 500, 4000, 29000, 21000, 10000, 18000, 10000, 5000, 6000, 4000, 6000, 25000, 4000, 7000, 4000, 12000, 8000, 8000, 8000, 29000, 8000, 7000, 500, 10000, 16000, 3000, 6000, 20000, 25000, 13000, 20000, 500, 9000, 6000, 6000, 10000, 8000, 4000, 36000, 500, 4000, 6000, 12000, 13000, 9000, 7000, 7000, 500, 5000, 15000, 5000, 12000, 10000, 500, 4000, 7000, 10000, 5000, 10000, 24000, 22000, 19000, 500, 500, 500, 13000, 14000, 6000, 9000, 8000, 3000, 16000, 18000, 6000, 6000, 11000, 9000, 7000, 27000, 13000, 7000, 15000, 6000, 4000, 17000, 18000, 21000, 15000, 6000, 13000, 4000, 0, 17000, 6000, 12000, 10000, 7000, 20000, 5000, 6000, 11000, 6000, 7000, 11000, 7000, 6000, 7000, 13000, 0, 13000, 8000, 22000, 7000, 6000, 5000, 500, 10000, 12000, 13000, 2000, 5000, 24000, 500, 4000, 13000, 7000, 9000, 18000, 11000, 500, 21000, 11000, 5000, 4000, 7000, 20000, 12000, 16000, 6000, 9000, 3000, 500, 6000, 24000, 500, 17000, 2000, 9000, 11000, 11000, 9000, 5000, 500, 5000, 17000, 11000, 19000, 13000, 29000, 10000, 25000, 4000, 19000, 9000, 5000, 22000, 6000, 5000, 0, 12000, 13000, 7000, 6000, 9000, 6000, 500, 13000, 10000, 15000, 12000, 8000, 5000, 29000, 10000, 9000, 4000, 9000, 500, 5000, 14000, 25000, 500, 9000, 8000, 18000, 7000, 12000, 7000, 12000, 11000, 4000, 13000, 16000, 14000, 22000, 6000, 16000, 500, 9000, 3000, 15000, 21000, 11000, 29000, 6000, 5000, 6000, 6000, 7000, 6000, 9000, 18000, 500, 500, 20000, 11000, 3000, 5000, 8000, 19000, 11000, 18000, 5000, 3000, 12000, 16000, 11000, 6000, 9000, 15000, 12000, 16000, 6000, 4000, 4000, 10000, 9000, 6000, 10000, 11000, 5000, 16000, 10000, 17000, 21000, 5000, 9000, 500, 27000, 18000, 35000, 16000, 18000, 8000, 5000, 29000, 18000, 18000, 6000, 15000, 11000, 6000, 14000, 6000, 17000, 11000, 9000, 7000, 14000, 12000, 5000, 19000, 3000, 500, 9000, 3000, 9000, 17000, 15000, 6000, 9000, 11000, 9000, 12000, 9000, 8000, 6000, 16000, 14000, 19000, 5000, 4000, 0, 11000, 22000, 23000, 2000, 27000, 3000, 11000, 19000, 6000, 500, 2000, 6000, 3000, 13000, 21000, 6000, 5000, 11000, 17000, 500, 500, 25000, 5000, 11000, 17000, 10000, 500, 11000, 13000, 14000, 10000, 500, 7000, 9000, 6000, 9000, 24000, 10000, 15000, 15000, 5000, 12000, 15000, 500, 5000, 6000, 9000, 4000, 9000, 17000, 7000, 500, 0, 4000, 7000, 6000, 12000, 28000, 18000, 20000, 8000, 20000, 5000, 11000, 11000, 13000, 500, 6000, 6000, 6000, 38000, 7000, 9000, 5000, 5000, 7000, 10000, 23000, 6000, 23000, 5000, 15000, 21000, 17000, 12000, 6000, 500, 14000, 9000, 23000, 7000, 0, 12000, 5000, 5000, 7000, 4000, 24000, 18000, 16000, 9000, 35000, 500, 6000, 8000, 10000, 6000, 8000, 17000, 25000, 7000, 14000, 14000, 18000, 5000, 5000, 9000, 15000, 7000, 17000, 5000, 9000, 500, 16000, 5000, 13000, 6000, 18000, 15000, 9000, 3000, 9000, 0, 12000, 14000, 9000, 4000, 6000, 9000, 24000, 14000, 8000, 6000, 7000, 10000, 13000, 9000, 20000, 47000, 500, 5000, 8000, 9000, 23000, 14000, 12000, 9000, 8000, 18000, 5000, 9000, 5000, 7000, 5000, 5000, 31000, 6000, 20000, 13000, 5000, 13000, 13000, 7000, 6000, 8000, 15000, 25000, 8000, 6000, 20000, 17000, 15000, 10000, 3000, 500, 8000, 6000, 13000, 14000, 13000, 3000, 6000, 4000, 10000, 30000, 0, 31000, 500, 35000, 9000, 21000, 4000, 15000, 500, 7000, 7000, 12000, 500, 11000, 6000, 500, 17000, 41000, 5000, 500, 25000, 4000, 11000, 6000, 17000, 14000, 5000, 18000, 14000, 9000, 4000, 4000, 4000, 7000, 18000, 14000, 17000, 11000, 5000, 9000, 7000, 12000, 11000, 5000, 13000, 9000, 26000, 5000, 5000, 22000, 13000, 500, 6000, 6000, 16000, 7000, 15000, 0, 5000, 22000, 5000, 6000, 7000, 500, 9000, 0, 10000, 8000, 47000, 500, 6000, 16000, 8000, 14000, 16000, 500, 10000, 8000, 7000, 6000, 11000, 8000, 500, 16000, 8000, 10000, 500, 7000, 7000, 7000, 8000, 6000, 5000, 16000, 15000, 6000, 5000, 14000, 13000, 3000, 9000, 14000, 8000, 47000, 4000, 4000, 5000, 24000, 5000, 500, 9000, 8000, 13000, 3000, 6000, 20000, 5000, 12000, 14000, 7000, 12000, 6000, 5000, 7000, 6000, 8000, 22000, 14000, 7000, 8000, 3000, 22000, 8000, 11000, 14000, 11000, 4000, 5000, 9000, 9000, 4000, 25000, 2000, 500, 16000, 0, 5000, 14000, 7000, 4000, 14000, 4000, 27000, 6000, 500, 15000, 6000, 9000, 14000, 11000, 6000, 7000, 12000, 8000, 6000, 14000, 14000, 5000, 2000, 8000, 8000, 13000, 6000, 2000, 5000, 4000, 7000, 7000, 5000, 11000, 6000, 3000, 500, 2000, 8000, 4000, 6000, 12000, 5000, 9000, 4000, 13000, 8000, 11000, 500, 7000, 14000, 18000, 3000, 4000, 13000, 500, 8000, 9000, 7000, 7000, 7000, 500, 5000, 14000, 5000, 11000, 500, 7000, 4000, 8000, 4000, 500, 11000, 12000, 23000, 9000, 5000, 6000, 7000, 10000, 9000, 3000, 7000, 8000, 4000, 8000, 6000, 11000, 2000, 19000, 4000, 7000, 5000, 7000, 12000, 5000, 7000, 6000, 13000, 5000, 8000, 23000, 15000, 13000, 0, 6000, 5000, 0, 5000, 13000, 6000, 7000, 8000, 5000, 16000, 5000, 6000, 14000, 5000, 4000, 15000, 7000, 12000, 6000, 8000, 5000, 2000, 3000, 5000, 2000, 6000, 6000, 12000, 13000, 5000, 7000, 8000, 9000, 9000, 16000, 4000, 5000, 7000, 4000, 21000, 5000, 2000, 12000, 9000, 5000, 9000, 2000, 19000, 19000, 11000, 13000, 4000, 7000, 8000, 5000, 8000, 13000, 8000, 5000, 36000, 16000, 15000, 21000, 15000, 7000, 6000, 500, 500, 500, 7000, 6000, 7000, 15000, 10000, 7000, 0, 5000, 15000, 5000, 12000, 18000, 3000, 6000, 7000, 5000, 18000, 6000, 0, 3000, 9000, 7000, 5000, 18000, 10000, 9000, 6000, 18000, 4000, 0, 4000, 8000, 3000, 11000, 6000, 18000, 3000, 500, 7000, 500, 7000, 5000, 9000, 5000, 14000, 12000, 9000, 0, 4000, 15000, 12000, 7000, 13000, 9000, 4000, 17000, 4000, 9000, 10000, 10000, 3000, 8000, 10000, 7000, 500, 14000, 11000, 20000, 7000, 3000, 5000, 10000, 7000, 2000, 7000, 5000, 5000, 5000, 8000, 7000, 10000, 2000, 15000, 9000, 7000, 7000, 12000, 4000, 18000, 7000, 11000, 5000, 500, 22000, 4000, 3000, 5000, 4000, 10000, 6000, 7000, 11000, 4000, 9000, 8000, 4000, 6000, 500, 500, 25000, 5000, 13000, 0, 500, 6000, 5000, 11000, 6000, 3000, 7000, 7000, 7000, 5000, 3000, 5000, 5000, 11000, 500, 28000, 10000, 5000, 16000, 500, 5000, 9000, 6000, 500, 3000, 5000, 7000, 500, 8000, 9000, 500, 37000, 500, 9000, 16000, 6000, 12000, 5000, 9000, 6000, 27000, 5000, 13000, 3000, 6000, 14000, 15000, 4000, 0, 5000, 11000, 22000, 17000, 2000, 11000, 17000, 20000, 16000, 11000, 7000, 3000, 9000, 41000, 9000, 14000, 4000, 6000, 0, 6000, 9000, 7000, 6000, 4000, 500, 14000, 43000, 15000, 9000, 500, 9000, 6000, 14000, 7000, 5000, 6000, 10000, 8000, 8000, 6000, 9000, 8000, 4000, 16000, 5000, 8000, 6000, 11000, 15000, 16000, 9000, 500, 13000, 500, 9000, 3000, 5000, 10000, 0, 4000, 5000, 4000, 7000, 4000, 8000, 6000, 13000, 500, 13000, 20000, 12000, 5000, 21000, 11000, 9000, 11000, 29000, 8000, 8000, 5000, 10000, 7000, 0, 500, 500, 8000, 20000, 15000, 1000, 9000, 7000, 2000, 11000, 5000, 8000, 7000, 21000, 9000, 6000, 500, 13000, 3000, 5000, 500, 5000, 8000, 6000, 500, 11000, 9000, 21000, 23000, 500, 10000, 4000, 35000, 9000, 10000, 5000, 13000, 3000, 7000, 9000, 13000, 5000, 29000, 6000, 5000, 15000, 17000, 11000, 18000, 14000, 17000, 9000, 500, 5000, 5000, 7000, 2000, 9000, 3000, 500, 12000, 8000, 12000, 8000, 4000, 4000, 7000, 21000, 6000, 18000, 11000, 17000, 6000, 7000, 5000, 7000, 9000, 42000, 500, 4000, 5000, 17000, 10000, 8000, 17000, 4000, 500, 41000, 14000, 3000, 500, 4000, 11000, 5000, 0, 7000, 7000, 6000, 5000, 11000, 4000, 5000, 12000, 7000, 3000, 9000, 12000, 26000, 3000, 12000, 5000, 7000, 8000, 8000, 6000, 2000, 9000, 20000, 6000, 6000, 15000, 3000, 14000, 11000, 6000, 4000, 5000, 14000, 7000, 18000, 500, 5000, 9000, 10000, 9000, 500, 8000, 7000, 0, 5000, 8000, 5000, 7000, 9000, 4000, 14000, 11000, 10000, 7000, 9000, 15000, 8000, 16000, 5000, 8000, 10000, 4000, 8000, 20000, 17000, 9000, 5000, 4000, 5000, 4000, 1000, 8000, 6000, 6000, 5000, 6000, 50000, 8000, 8000, 5000, 7000, 5000, 6000, 18000, 8000, 9000, 5000, 10000, 12000, 3000, 8000, 500, 8000, 500, 10000, 9000, 12000, 7000, 17000, 12000, 500, 6000, 8000, 10000, 6000, 6000, 15000, 8000, 9000, 7000, 10000, 500, 11000, 5000, 5000, 8000, 4000, 500, 8000, 500, 26000, 10000, 11000, 4000, 24000, 5000, 13000, 11000, 6000, 6000, 10000, 10000, 20000, 5000, 10000, 7000, 8000, 17000, 9000, 33000, 9000, 21000, 8000, 500, 500, 5000, 14000, 4000, 5000, 29000, 5000, 6000, 3000, 4000, 9000, 41000, 0, 5000, 17000, 4000, 5000, 6000, 5000, 6000, 8000, 13000, 7000, 15000, 8000, 6000, 3000, 5000, 15000, 500, 4000, 0, 13000, 18000, 15000, 5000, 4000, 11000, 11000, 9000, 3000, 7000, 6000, 22000, 8000, 16000, 5000, 19000, 6000, 9000, 19000, 6000, 13000, 9000, 13000, 13000, 14000, 22000, 5000, 4000, 23000, 6000, 5000, 5000, 4000, 6000, 0, 5000, 3000, 19000, 14000, 8000, 500, 6000, 10000, 6000, 6000, 5000, 6000, 500, 23000, 3000, 7000, 5000, 8000, 9000, 21000, 10000, 6000, 9000, 8000, 8000, 6000, 4000, 18000, 8000, 16000, 6000, 500, 5000, 7000, 6000, 3000, 8000, 5000, 42000, 7000, 8000, 4000, 15000, 6000, 7000, 13000, 6000, 8000, 11000, 9000, 12000, 1000, 17000, 12000, 5000, 5000, 9000, 13000, 6000, 8000, 10000, 7000, 3000, 5000, 11000, 0, 11000, 7000, 0, 4000, 4000, 4000, 25000, 10000, 9000, 5000, 13000, 7000, 7000, 3000, 4000, 5000, 14000, 5000, 5000, 11000, 13000, 14000, 5000, 6000, 16000, 24000, 7000, 10000, 14000, 5000, 5000, 7000, 7000, 3000, 6000, 4000, 20000, 6000, 6000, 5000, 5000, 3000, 4000, 8000, 3000, 7000, 4000, 9000, 4000, 19000, 2000, 3000, 4000, 25000, 4000, 3000, 6000, 11000, 7000, 9000, 9000, 4000, 15000, 14000, 5000, 4000, 3000, 4000, 500, 4000, 6000, 19000, 8000, 3000, 12000, 2000, 5000, 12000, 4000, 3000, 4000, 4000, 8000, 14000, 0, 3000, 3000, 14000, 3000, 9000, 9000, 13000, 5000, 5000, 9000, 17000, 4000, 3000, 6000, 4000, 16000, 4000, 7000, 13000, 5000, 7000, 6000, 3000, 5000, 9000, 5000, 4000, 4000, 5000, 10000, 0, 4000, 20000, 7000, 500, 5000, 6000, 8000, 5000, 5000, 6000, 4000, 3000, 11000, 7000, 14000, 5000, 1000, 6000, 5000, 5000, 5000, 5000, 4000, 10000, 5000, 3000, 7000, 9000, 5000, 3000, 4000, 3000, 9000, 4000, 6000, 11000, 3000, 5000, 4000, 11000, 11000, 7000, 500, 8000, 500, 6000, 4000, 6000, 3000, 3000, 15000, 3000, 10000, 9000, 500, 12000, 6000, 500, 9000, 11000, 9000, 6000, 15000, 5000, 7000, 5000, 7000, 500, 10000, 13000, 9000, 16000, 6000, 4000, 500, 13000, 8000, 14000, 8000, 12000, 0, 13000, 500, 13000, 4000, 5000, 8000, 7000, 7000, 7000, 0, 3000, 4000, 5000, 9000, 6000, 5000, 7000, 6000, 4000, 8000, 6000, 6000, 5000, 2000, 15000, 3000, 5000, 12000, 4000, 8000, 3000, 5000, 5000, 4000, 14000, 4000, 15000, 3000, 8000, 27000, 14000, 5000, 500, 12000, 15000, 6000, 500, 4000, 5000, 4000, 17000, 1000, 2000, 14000, 4000, 3000, 8000, 4000, 0, 6000, 5000, 9000, 5000, 6000, 0, 1000, 7000, 6000, 3000, 7000, 500, 0, 6000, 13000, 9000, 5000, 5000, 4000, 10000, 9000, 5000, 6000, 5000, 8000, 0, 11000, 9000, 5000, 7000, 500, 6000, 7000, 4000, 20000, 500, 7000, 4000, 6000, 500, 4000, 14000, 9000, 4000, 8000, 7000, 0, 8000, 9000, 5000, 5000, 6000, 500, 16000, 10000, 7000, 500, 5000, 4000, 5000, 10000, 0, 0, 2000, 3000, 14000, 3000, 6000, 16000, 7000, 3000, 15000, 3000, 500, 5000, 3000, 5000, 10000, 5000, 4000, 4000, 17000, 11000, 5000, 4000, 8000, 11000, 2000, 9000, 8000, 18000, 8000, 4000, 11000, 7000, 12000, 5000, 4000, 6000, 8000, 4000, 5000, 5000, 0, 13000, 3000, 6000, 3000, 2000, 5000, 13000, 9000, 5000, 15000, 8000, 8000, 500, 8000, 7000, 0, 500, 8000, 6000, 2000, 16000, 500, 14000, 12000, 9000, 5000, 8000, 13000, 6000, 11000, 12000, 500, 7000, 1000, 3000, 19000, 5000, 8000, 3000, 3000, 8000, 5000, 8000, 5000, 3000, 500, 7000, 3000, 1000, 6000, 5000, 7000, 500, 4000, 6000, 9000, 4000, 4000, 500, 7000, 30000, 3000, 5000, 5000, 5000, 7000, 6000, 2000, 6000, 4000, 16000, 11000, 7000, 4000, 1000, 500, 10000, 4000, 500, 0, 3000, 17000, 3000, 3000, 11000, 7000, 8000, 5000, 3000, 10000, 7000, 5000, 25000, 5000, 5000, 7000, 8000, 7000, 5000, 7000, 7000, 5000, 5000, 7000, 26000, 500, 15000, 7000, 5000, 4000, 8000, 30000, 7000, 3000, 5000, 3000, 22000, 7000, 8000, 500, 4000, 17000, 5000, 5000, 8000, 4000, 6000, 4000, 9000, 6000, 5000, 11000, 3000, 6000, 5000, 2000, 16000, 3000, 500, 4000, 500, 5000, 5000, 10000, 8000, 7000, 6000, 7000, 4000, 5000, 17000, 4000, 4000, 3000, 8000, 8000, 9000, 17000, 4000, 5000, 6000, 6000, 5000, 5000, 5000, 6000, 6000, 5000, 2000, 6000, 2000, 7000, 7000, 500, 4000, 500, 7000, 7000, 9000, 4000, 4000, 6000, 500, 6000, 500, 9000, 7000, 500, 2000, 7000, 8000, 3000, 4000, 4000, 4000, 12000, 500, 5000, 7000, 6000, 5000, 5000, 2000, 8000, 10000, 11000, 6000, 6000, 5000, 3000, 4000, 500, 9000, 7000, 3000, 4000, 4000, 6000, 18000, 12000, 6000, 6000, 6000, 6000, 6000, 6000, 3000, 5000, 8000, 7000, 4000, 7000, 20000, 5000, 5000, 6000, 5000, 6000, 6000, 7000, 5000, 2000, 2000, 13000, 6000, 17000, 8000, 6000, 4000, 10000, 12000, 4000, 13000, 3000, 3000, 0, 9000, 6000, 9000, 6000, 7000, 13000, 7000, 5000, 4000, 2000, 5000, 9000, 12000, 500, 1000, 9000, 8000, 3000, 5000, 7000, 4000, 3000, 17000, 2000, 9000, 10000, 6000, 4000, 9000, 5000, 6000, 19000, 11000, 7000, 7000, 7000, 5000, 500, 12000, 8000, 8000, 8000, 8000, 4000, 8000, 44000, 6000, 4000, 9000, 6000, 8000, 6000, 5000, 12000, 5000, 3000, 5000, 3000, 2000, 7000, 2000, 5000, 500, 18000, 8000, 5000, 16000, 4000, 7000, 5000, 6000, 6000, 7000, 12000, 6000, 5000, 6000, 11000, 8000, 9000, 2000, 3000, 7000, 5000, 4000, 5000, 7000, 3000, 5000, 5000, 13000, 9000, 7000, 4000, 500, 3000, 6000, 5000, 34000, 5000, 6000, 12000, 5000, 4000, 6000, 6000, 13000, 6000, 6000, 18000, 4000, 13000, 4000, 9000, 5000, 13000, 7000, 3000, 17000, 10000, 4000, 4000, 7000, 2000, 8000, 4000, 7000, 2000, 3000, 11000, 6000, 4000, 3000, 6000, 13000, 2000, 1000, 9000, 3000, 6000, 14000, 6000, 20000, 14000, 3000, 7000, 7000, 6000, 500, 11000, 5000, 8000, 4000, 22000, 5000, 12000, 11000, 500, 9000, 8000, 500, 2000, 0, 500, 13000, 6000, 4000, 2000, 2000, 3000, 500, 7000, 4000, 3000, 8000, 3000, 4000, 5000, 9000, 11000, 2000, 4000, 4000, 4000, 4000, 13000, 5000, 12000, 4000, 6000, 8000, 6000, 8000, 16000, 5000, 10000, 6000, 3000, 500, 10000, 4000, 7000, 6000, 4000, 7000, 14000, 3000, 15000, 5000, 4000, 18000, 10000, 7000, 500, 8000, 7000, 44000, 500, 4000, 5000, 5000, 3000, 6000, 9000, 8000, 8000, 2000, 7000, 500, 4000, 4000, 8000, 12000, 4000, 4000, 28000, 4000, 2000, 4000, 8000, 500, 7000, 14000, 7000, 4000, 3000, 10000, 4000, 3000, 7000, 8000, 4000, 5000, 6000, 500, 10000, 19000, 3000, 6000, 6000, 5000, 4000, 4000, 2000, 4000, 12000, 0, 5000, 7000, 5000, 33000, 8000, 3000, 500, 9000, 4000, 0, 4000, 3000, 22000, 5000, 6000, 4000, 6000, 3000, 4000, 3000, 3000, 5000, 5000, 500, 7000, 5000, 11000, 0, 7000, 4000, 5000, 5000, 11000, 500, 5000, 6000, 10000, 6000, 6000, 9000, 4000, 8000, 13000, 4000, 12000, 3000, 500, 6000, 3000, 10000, 17000, 4000, 3000, 0, 4000, 9000, 6000, 500, 4000, 6000, 6000, 5000, 500, 14000, 500, 7000, 8000, 14000, 11000, 9000, 11000, 5000, 7000, 4000, 6000, 2000, 6000, 14000, 7000, 5000, 7000, 3000, 8000, 5000, 7000, 4000, 3000, 500, 7000, 7000, 8000, 10000, 2000, 3000, 21000, 2000, 11000, 3000, 9000, 3000, 4000, 500, 5000, 5000, 32000, 2000, 7000, 4000, 8000, 7000, 500, 7000, 500, 3000, 3000, 8000, 3000, 5000, 2000, 6000, 4000, 5000, 2000, 6000, 6000, 6000, 7000, 4000, 3000, 5000, 6000, 7000, 3000, 3000, 2000, 7000, 4000, 500, 3000, 6000, 3000, 8000, 3000, 17000, 2000, 13000, 15000, 5000, 11000, 3000, 4000, 3000, 2000, 500, 7000, 5000, 3000, 17000, 4000, 5000, 7000, 9000, 5000, 2000, 2000, 8000, 3000, 6000, 2000, 8000, 8000, 500, 4000, 8000, 4000, 2000, 19000, 2000, 6000, 6000, 3000, 5000, 5000, 2000, 8000, 2000, 3000, 6000, 14000, 5000, 3000, 2000, 11000, 6000, 4000, 4000, 9000, 4000, 5000, 500, 5000, 6000, 5000, 22000, 500, 6000, 500, 0, 4000, 0, 3000, 4000, 2000, 8000, 7000, 13000, 3000, 500, 12000, 4000, 7000, 500, 8000, 2000, 9000, 8000, 8000, 3000, 9000, 2000, 5000, 5000, 5000, 3000, 3000, 4000, 6000, 6000, 11000, 8000, 4000, 500, 5000, 3000, 11000, 4000, 8000, 4000, 5000, 5000, 2000, 5000, 5000, 3000, 5000, 4000, 3000, 5000, 8000, 5000, 7000, 3000, 500, 13000, 12000, 4000, 4000, 4000, 5000, 5000, 12000, 4000, 8000, 3000, 9000, 7000, 5000, 4000, 3000, 3000, 5000, 5000, 3000, 14000, 500, 8000, 6000, 3000, 3000, 3000, 4000, 500, 8000, 6000, 3000, 6000, 3000, 4000, 2000, 8000, 3000, 4000, 5000, 7000, 4000, 2000, 0, 3000, 4000, 0, 11000, 500, 4000, 12000, 13000, 500, 18000, 2000, 3000, 500, 13000, 6000, 13000, 9000, 19000, 6000, 5000, 5000, 4000, 1000, 4000, 7000, 7000, 2000, 8000, 5000, 2000, 5000, 5000, 24000, 7000, 4000, 9000, 5000, 4000, 2000, 10000, 3000, 3000, 10000, 5000, 2000, 5000, 5000, 11000, 3000, 5000, 9000, 5000, 2000, 5000, 4000, 3000, 3000, 5000, 11000, 4000, 4000, 500, 3000, 3000, 6000, 3000, 4000, 6000, 10000, 3000, 7000, 4000, 2000, 3000, 3000, 22000, 8000, 3000, 3000, 0, 4000, 3000, 9000, 2000, 4000, 7000, 500, 9000, 8000, 3000, 500, 4000, 4000, 4000, 7000, 3000, 5000, 500, 15000, 6000, 11000, 9000, 1000, 3000, 5000, 6000, 1000, 6000, 6000, 3000, 9000, 2000, 6000, 4000, 4000, 2000, 3000, 2000, 11000, 36000, 4000, 8000, 500, 5000, 2000, 500, 3000, 4000, 6000, 5000, 7000, 12000, 3000, 500, 5000, 6000, 950, 3000, 2000, 5000, 5000, 2000, 4000, 2000, 3000, 4000, 8000, 4000, 500, 4000, 12000, 3000, 9000, 8000, 8000, 10000, 6000, 500, 1000, 3000, 5000, 2000, 9000, 5000, 5000, 13000, 4000, 3000, 5000, 3000, 2000, 3000, 7000, 4000, 11000, 7000, 3000, 4000, 3000, 5000, 9000, 7000, 36000, 4000, 3000, 5000, 3000, 500, 9000, 5000, 3000, 11000, 6000, 4000, 3000, 500, 3000, 500, 2000, 11000, 3000, 2000, 4000, 3000, 4000, 4000, 2000, 500, 5000, 3000, 5000, 5000, 5000, 5000, 12000, 3000, 13000, 9000, 3000, 8000, 5000, 2000, 7000, 500, 5000, 500, 5000, 4000, 5000, 3000, 3000, 4000, 3000, 4000, 4000, 500, 2000, 500, 4000, 3000, 5000, 500, 3000, 6000, 0, 2000, 10000, 3000, 500, 5000, 2000, 4000, 5000, 2000, 4000, 5000, 4000, 7000, 10000, 6000, 5000, 500, 5000, 9000, 3000, 10000, 3000, 6000, 6000, 5000, 7000, 2000, 6000, 4000, 11000, 500, 22000, 5000, 13000, 15000, 6000, 4000, 2000, 11000, 5000, 7000, 500, 4000, 3000, 3000, 9000, 1000, 3000, 3000, 7000, 5000, 3000, 5000, 10000, 9000, 5000, 4000, 4000, 3000, 18000, 1000, 3000, 500, 5000, 3000, 2000, 4000, 6000, 3000, 4000, 41000, 16000, 3000, 500, 500, 4000, 500, 4000, 2000, 4000, 6000, 4000, 7000, 5000, 14000, 2000, 3000, 5000, 5000, 3000, 9000, 15000, 8000, 3000, 19000, 8000, 4000, 7000, 500, 3000, 6000, 3000, 3000, 6000, 6000, 3000, 6000, 3000, 5000, 4000, 5000, 6000, 6000, 4000, 4000, 9000, 500, 500, 7000, 0, 8000, 8000, 3000, 9000, 4000, 3000, 3000, 4000, 4000, 3000, 4000, 500, 3000, 4000, 500, 5000, 7000, 13000, 2000, 6000, 3000, 6000, 4000, 11000, 2000, 3000, 500, 4000, 3000, 6000, 4000, 3000, 4000, 3000, 2000, 5000, 6000, 5000, 4000, 6000, 3000, 6000, 2000, 7000, 2000, 6000, 7000, 5000, 15000, 6000, 14000, 5000, 6000, 10000, 3000, 4000, 5000, 10000, 3000, 6000, 500, 7000, 500, 4000, 8000, 4000, 3000, 4000, 14000, 5000, 500, 3000, 500, 2000, 6000, 6000, 7000, 4000, 8000, 5000, 8000, 9000, 500, 12000, 500, 4000, 7000, 3000, 7000, 4000, 3000, 3000, 6000, 5000, 8000, 12000, 2000, 4000, 4000, 6000, 15000, 3000, 5000, 4000, 2000, 500, 3000, 3000, 6000, 4000, 6000, 2000, 3000, 11000, 3000, 6000, 3000, 3000, 4000, 3000, 6000, 6000, 2000, 4000, 5000, 6000, 3000, 4000, 2000, 10000, 10000, 8000, 4000, 6000, 5000, 6000, 3000, 4000, 16000, 4000, 9000, 2000, 4000, 4000, 15000, 5000, 7000, 7000, 8000, 4000, 3000, 14000, 3000, 6000, 4000, 4000, 6000, 500, 550, 4000, 4000, 6000, 4000, 8000, 13000, 4000, 3000, 22000, 4000, 6000, 5000, 0, 5000, 11000, 2000, 5000, 5000, 5000, 3000, 3000, 7000, 5000, 3000, 3000, 6000, 3000, 4000, 10000, 4000, 5000, 2000, 9000, 20000, 5000, 4000, 3000, 2000, 5000, 2000, 2000, 4000, 3000, 3000, 7000, 8000, 3000, 500, 2000, 4000, 6000, 5000, 3000, 4000, 13000, 4000, 7000, 5000, 3000, 5000, 1000, 5000, 1000, 16000, 4000, 5000, 3000, 6000, 6000, 5000, 6000, 4000, 3000, 16000, 3000, 5000, 3000, 2000, 3000, 3000, 5000, 3000, 6000, 3000, 4000, 5000, 500, 10000, 3000, 7000, 5000, 500, 2000, 11000, 4000, 18000, 8000, 2000, 500, 3000, 1000, 3000, 500, 13000, 7000, 9000, 4000, 7000, 3000, 5000, 4000, 7000, 2000, 4000, 4000, 21000, 3000, 6000, 3000, 4000, 4000, 6000, 5000, 5000, 4000, 6000, 4000, 2000, 4000, 4000, 6000, 15000, 7000, 4000, 4000, 2000, 3000, 6000, 6000, 4000, 4000, 0, 3000, 4000, 8000, 500, 2000, 9000, 7000, 4000, 8000, 11000, 3000, 7000, 4000, 2000, 10000, 3000, 0, 3000, 4000, 4000, 500, 9000, 5000, 4000, 1000, 6000, 6000, 24000, 3000, 4000, 3000, 4000, 7000, 16000, 5000, 7000, 4000, 15000, 5000, 4000, 2000, 4000, 4000, 3000, 7000, 4000, 4000, 3000, 6000, 6000, 2000, 14000, 9000, 3000, 4000, 11000, 6000, 5000, 2000, 4000, 7000, 2000, 500, 14000, 3000, 4000, 11000, 5000, 4000, 6000, 6000, 4000, 4000, 2000, 0, 500, 3000, 4000, 7000, 3000, 7000, 7000, 3000, 4000, 500, 5000, 3000, 3000, 2000, 10000, 13000, 36000, 2000, 12000, 2000, 4000, 2000, 4000, 2000, 500, 5000, 2000, 8000, 8000, 500, 3000, 5000, 1000, 3000, 3000, 2000, 12000, 3000, 3000, 4000, 2000, 3000, 11000, 7000, 5000, 950, 4000, 3000, 500, 8000, 3000, 3000, 4000, 4000, 500, 3000, 5000, 4000, 3000, 6000, 6000, 4000, 4000, 5000, 2000, 5000, 11000, 2000, 4000, 3000, 5000, 5000, 3000, 4000, 3000, 3000, 5000, 4000, 3000, 4000, 6000, 11000, 4000, 0, 6000, 3000, 8000, 500, 4000, 11000, 4000, 4000, 3000, 5000, 4000, 500, 3000, 7000, 14000, 4000, 10000, 9000, 5000, 6000, 4000, 4000, 3000, 4000, 4000, 3000, 1000, 4000, 9000, 2000, 14000, 3000, 7000, 3000, 500, 3000, 5000, 14000, 6000, 3000, 4000, 3000, 2000, 5000, 6000, 2000, 4000, 8000, 6000, 3000, 4000, 4000, 5000, 500, 2000, 3000, 5000, 5000, 4000, 2000, 4000, 500, 2000, 6000, 500, 7000, 4000, 4000, 3000, 5000, 2000, 3000, 2000, 500, 4000, 3000, 3000, 7000, 4000, 5000, 500, 4000, 1000, 6000, 4000, 3000, 4000, 7000, 3000, 3000, 4000, 8000, 0, 3000, 4000, 3000, 3000, 500, 3000, 3000, 3000, 500, 2000, 6000, 4000, 3000, 3000, 3000, 3000, 2000, 3000, 11000, 3000, 3000, 1000, 6000, 3000, 3000, 2000, 2000, 500, 6000, 3000, 2000, 5000, 5000, 4000, 4000, 4000, 5000, 900, 3000, 4000, 2000, 4000, 6000, 4000, 500, 4000, 3000, 3000, 6000, 0, 500, 4000, 4000, 3000, 500, 5000, 4000, 4000, 4000, 5000, 3000, 4000, 500, 500, 4000, 6000, 0, 7000, 4000, 3000, 6000, 2000, 9000, 6000, 3000, 2000, 4000, 4000, 3000, 2000, 11000, 3000, 6000, 7000, 1000, 3000, 3000, 950, 2000, 3000, 500, 7000, 3000, 13000, 2000, 5000, 6000, 3000, 500, 4000, 3000, 3000, 3000, 2000, 500, 500, 500, 6000, 500, 1000, 3000, 4000, 3000, 3000, 2000, 500, 3000, 5000, 3000, 1000, 5000, 1000, 5000, 7000, 2000, 4000, 2000, 2000, 500, 5000, 6000, 4000, 650, 9000, 5000, 4000, 12000, 2000, 1000, 3000, 4000, 5000, 4000, 4000, 3000, 2000, 3000, 3000, 2000, 5000, 12000, 3000, 3000, 0, 3000, 4000, 9000, 4000, 4000, 8000, 5000, 3000, 13000, 4000, 8000, 1000, 2000, 9000, 2000, 4000, 5000, 6000, 500, 500, 4000, 3000, 3000, 2000, 2000, 7000, 5000, 500, 3000, 4000, 12000, 1000, 2000, 7000, 500, 4000, 0, 3000, 4000, 3000, 500, 500, 4000, 500, 500, 9000, 5000, 6000, 6000, 4000, 2000, 5000, 13000, 500, 4000, 7000, 500, 3000, 11000, 11000, 3000, 4000, 4000, 4000, 3000, 3000, 3000, 6000, 5000, 8000, 6000, 4000, 4000, 2000, 2000, 7000, 6000, 2000, 500, 13000, 2000, 8000, 8000, 5000, 3000, 13000, 7000, 6000, 4000, 3000, 2000, 5000, 1000, 500, 500, 2000, 500, 2000, 15000, 2000, 5000, 2000, 500, 6000, 0, 7000, 6000, 3000, 6000, 500, 3000, 5000, 5000, 2000, 4000, 11000, 4000, 7000, 12000, 6000, 5000, 3000, 2000, 500, 0, 3000, 5000, 2000, 3000, 2000, 3000, 4000, 5000, 3000, 12000, 2000, 6000, 2000, 3000, 4000, 9000, 2000, 4000, 8000, 3000, 13000, 11000, 3000, 3000, 8000, 3000, 3000, 3000, 7000, 4000, 3000, 3000, 3000, 2000, 4000, 0, 3000, 5000, 2000, 4000, 4000, 500, 6000, 5000, 1000, 3000, 5000, 5000, 500, 11000, 500, 6000, 2000, 18000, 500, 3000, 4000, 5000, 8000, 4000, 5000, 500, 5000, 9000, 12000, 8000, 11000, 3000, 11000, 9000, 3000, 3000, 5000, 6000, 5000, 500, 3000, 8000, 5000, 5000, 6000, 500, 12000, 2000, 3000, 4000, 1000, 3000, 3000, 500, 16000, 6000, 3000, 4000, 5000, 4000, 5000, 3000, 8000, 3000, 4000, 500, 2000, 3000, 4000, 2000, 4000, 3000, 4000, 4000, 2000, 2000, 5000, 2000, 3000, 5000, 3000, 6000, 0, 14000, 500, 10000, 6000, 500, 500, 24000, 3000, 2000, 3000, 5000, 7000, 3000, 3000, 3000, 11000, 2000, 2000, 7000, 5000, 7000, 5000, 6000, 12000, 700, 5000, 3000, 1000, 3000, 500, 8000, 4000, 3000, 500, 18000, 500, 11000, 5000, 2000, 2000, 2000, 6000, 4000, 3000, 2000, 6000, 2000, 5000, 6000, 4000, 5000, 2000, 2000, 1000, 4000, 5000, 500, 500, 2000, 3000, 4000, 3000, 3000, 3000, 7000, 4000, 3000, 1000, 4000, 7000, 2000, 2000, 3000, 3000, 4000, 500, 8000, 3000, 5000, 500, 6000, 2000, 3000, 4000, 2000, 500, 3000, 4000, 2000, 3000, 2000, 4000, 500, 8000, 3000, 7000, 10000, 14000, 9000, 24000, 8000, 4000, 3000, 4000, 2000, 1000, 5000, 11000, 5000, 5000, 13000, 3000, 2000, 7000, 0, 4000, 3000, 5000, 500, 5000, 3000, 4000, 3000, 1000, 3000, 4000, 3000, 500, 5000, 5000, 9000, 6000, 3000, 4000, 4000, 14000, 3000, 11000, 9000, 1000, 2000, 5000, 11000, 500, 4000, 5000, 2000, 2000, 2000, 3000, 500, 3000, 5000, 2000, 5000, 6000, 3000, 5000, 5000, 12000, 13000, 3000, 4000, 6000, 2000, 4000, 4000, 11000, 5000, 2000, 2000, 7000, 4000, 8000, 2000, 500, 3000, 2000, 13000, 500, 4000, 6000, 4000, 4000, 3000, 3000, 6000, 3000, 3000, 2000, 2000, 3000, 7000, 2000, 11000, 2000, 500, 500, 4000, 7000, 3000, 6000, 3000, 15000, 4000, 5000, 2000, 2000, 2000, 4000, 2000, 3000, 2000, 1000, 2000, 6000, 0, 3000, 6000, 5000, 2000, 18000, 6000, 500, 2000, 4000, 500, 3000, 2000, 3000, 2000, 2000, 500, 6000, 5000, 3000, 2000, 7000, 2000, 500, 500, 3000, 3000, 4000, 4000, 11000, 2000, 3000, 1000, 2000, 2000, 3000, 1000, 5000, 5000, 4000, 3000, 3000, 7000, 6000, 3000, 3000, 9000, 4000, 4000, 4000, 3000, 5000, 6000, 3000, 3000, 2000, 3000, 4000, 5000, 7000, 6000, 5000, 3000, 3000, 3000, 500, 4000, 2000, 5000, 3000, 500, 3000, 4000, 8000, 3000, 500, 7000, 2000, 8000, 4000, 3000, 1000, 5000, 3000, 1000, 4000, 4000, 9000, 14000, 4000, 1000, 3000, 3000, 6000, 3000, 2000, 5000, 3000, 3000, 4000, 14000, 5000, 5000, 4000, 3000, 2000, 6000, 3000, 6000, 8000, 4000, 5000, 5000, 4000, 3000, 3000, 9000, 2000, 2000, 3000, 4000, 7000, 5000, 5000, 500, 5000, 2000, 500, 7000, 4000, 3000, 4000, 3000, 4000, 9000, 3000, 4000, 3000, 16000, 6000, 5000, 12000, 2000, 500, 2000, 5000, 1000, 7000, 3000, 8000, 5000, 3000, 3000, 3000, 2000, 2000, 5000, 5000, 5000, 6000, 3000, 4000, 4000, 12000, 5000, 2000, 8000, 500, 5000, 3000, 19000, 9000, 5000, 2000, 500, 2000, 3000, 4000, 5000, 4000, 0, 2000, 2000, 3000, 0, 3000, 3000, 1000, 600, 4000, 3000, 3000, 3000, 4000, 500, 5000, 7000, 2000, 13000, 2000, 9000, 3000, 12000, 5000, 5000, 3000, 3000, 2000, 4000, 500, 5000, 12000, 3000, 3000, 3000, 3000, 5000, 3000, 500, 3000, 2000, 6000, 2000, 8000, 5000, 11000, 4000, 3000, 3000, 4000, 12000, 5000, 6000, 5000, 19000, 4000, 3000, 5000, 3000, 9000, 4000, 2000, 4000, 3000, 3000, 5000, 5000, 3000, 3000, 5000, 6000, 6000, 4000, 3000, 4000, 3000, 2000, 12000, 4000, 2000, 950, 5000, 500, 3000, 500, 5000, 500, 15000, 3000, 3000, 3000, 3000, 4000, 3000, 5000, 1000, 5000, 7000, 6000, 13000, 4000, 6000, 7000, 3000, 4000, 3000, 2000, 4000, 3000, 4000, 8000, 4000, 3000, 3000, 3000, 3000, 3000, 3000, 3000, 11000, 3000, 3000, 2000, 3000, 16000, 3000, 3000, 5000, 4000, 5000, 3000, 6000, 0, 3000, 2000, 6000, 500, 8000, 2000, 9000, 13000, 2000, 0, 5000, 3000, 5000, 5000, 2000, 4000, 2000, 9000, 3000, 3000, 500, 12000, 2000, 2000, 3000, 3000, 5000, 5000, 1000, 3000, 6000, 2000, 3000, 3000, 4000, 2000, 2000, 3000, 4000, 2000, 6000, 0, 1000, 3000, 2000, 3000, 2000, 500, 5000, 4000, 7000, 3000, 5000, 6000, 2000, 3000, 10000, 3000, 4000, 1000, 500, 2000, 7000, 5000, 4000, 4000, 500, 650, 2000, 3000, 5000, 4000, 2000, 4000, 1000, 4000, 2000, 500, 2000, 3000, 3000, 1000, 2000, 4000, 5000, 3000, 1000, 3000, 4000, 4000, 500, 1000, 3000, 5000, 3000, 5000, 4000, 3000, 600, 5000, 2000, 3000, 3000, 2000, 3000, 3000, 7000, 2000, 5000, 3000, 2000, 2000, 5000, 3000, 4000, 1000, 2000, 1000, 5000, 4000, 2000, 1000, 3000, 3000, 500, 500, 14000, 3000, 5000, 3000, 500, 3000, 3000, 2000, 4000, 3000, 11000, 2000, 1000, 5000, 2000, 6000, 8000, 4000, 5000, 2000, 500, 2000, 6000, 1000, 2000, 5000, 500, 6000, 20000, 3000, 3000, 2000, 6000, 1000, 2000, 3000, 500, 4000, 6000, 2000, 2000, 3000, 2000, 3000, 2000, 500, 3000, 7000, 2000, 3000, 3000, 6000, 6000, 3000, 3000, 2000, 3000, 3000, 3000, 2000, 2000, 6000, 3000, 3000, 3000, 2000, 2000, 3000, 3000, 2000, 3000, 4000, 2000, 5000, 2000, 3000, 2000, 6000, 1000, 3000, 2000, 3000, 4000, 7000, 500, 3000, 3000, 2000, 500, 4000, 5000, 4000, 4000, 2000, 3000, 0, 3000, 3000, 1000, 4000, 0, 3000, 2000, 500, 1000, 3000, 6000, 2000, 4000, 14000, 2000, 1000, 4000, 3000, 3000, 3000, 3000, 2000, 2000, 2000, 3000, 4000, 3000, 11000, 9000, 2000, 3000, 5000, 4000, 4000, 2000, 4000, 3000, 4000, 1000, 1000, 1000, 2000, 6000, 3000, 1000, 4000, 3000, 3000, 4000, 2000, 4000, 2000, 7000, 4000, 2000, 2000, 2000, 7000, 3000, 1000, 500, 2000, 3000, 2000, 5000, 9000, 3000, 0, 3000, 6000, 2000, 7000, 5000, 500, 3000, 500, 2000, 2000, 3000, 2000, 4000, 3000, 4000, 2000, 1000, 4000, 2000, 4000, 5000, 6000, 3000, 2000, 6000, 2000, 4000, 5000, 11000, 4000, 4000, 6000, 2000, 3000, 4000, 3000, 4000, 6000, 500, 2000, 3000, 3000, 2000, 2000, 2000, 4000, 2000, 2000, 2000, 2000, 5000, 2000, 3000, 3000, 3000, 500, 4000, 2000, 8000, 4000, 2000, 3000, 500, 5000, 2000, 2000, 2000, 2000, 1000, 500, 4000, 3000, 2000, 2000, 2000, 6000, 6000, 6000, 6000, 3000, 2000, 5000, 5000, 4000, 500, 2000, 4000, 2000, 4000, 1000, 4000, 0, 5000, 3000, 6000, 2000, 3000, 5000, 2000, 2000, 3000, 2000, 2000, 2000, 4000, 2000, 7000, 2000, 4000, 7000, 7000, 5000, 2000, 5000, 4000, 500, 4000, 1000, 4000, 4000, 4000, 2000, 2000, 1000, 2000, 3000, 3000, 1000, 4000, 20000, 5000, 7000, 4000, 8000, 4000, 500, 500, 2000, 2000, 3000, 5000, 2000, 1000, 3000, 500, 6000, 4000, 3000, 5000, 11000, 2000, 2000, 3000, 500, 3000, 2000, 3000, 500, 2000, 5000, 500, 5000, 3000, 3000, 9000, 500, 6000, 1000, 3000, 500, 2000, 7000, 1000, 500, 3000, 3000, 3000, 2000, 5000, 4000, 2000, 2000, 3000, 3000, 9000, 500, 0, 3000, 2000, 3000, 3000, 3000, 3000, 3000, 3000, 3000, 3000, 4000, 2000, 900, 8000, 4000, 2000, 2000, 2000, 4000, 1000, 5000, 2000, 5000, 3000, 3000, 2000, 2000, 3000, 2000, 2000, 3000, 6000, 4000, 4000, 2000, 3000, 15000, 4000, 5000, 500, 2000, 2000, 3000, 3000, 5000, 800, 5000, 2000, 8000, 500, 4000, 4000, 9000, 9000, 3000, 5000, 2000, 1000, 4000, 2000, 4000, 3000, 2000, 3000, 4000, 2000, 14000, 5000, 1000, 3000, 2000, 4000, 3000, 3000, 500, 1000, 500, 2000, 3000, 3000, 3000, 2000, 2000, 3000, 5000, 3000, 500, 2000, 600, 500, 4000, 3000, 3000, 7000, 4000, 5000, 950, 2000, 3000, 500, 3000, 1000, 2000, 3000, 2000, 500, 5000, 3000, 2000, 2000, 3000, 1000, 2000, 0, 5000, 5000, 500, 1000, 4000, 4000, 3000, 4000, 5000, 3000, 1000, 4000, 2000, 3000, 6000, 2000, 3000, 1000, 3000, 3000, 5000, 1000, 3000, 2000, 2000, 5000, 3000, 9000, 2000, 4000, 500, 7000, 1000, 3000, 3000, 2000, 500, 4000, 5000, 500, 4000, 2000, 3000, 2000, 2000, 2000, 3000, 500, 2000, 6000, 4000, 2000, 4000, 1000, 1000, 4000, 3000, 9000, 7000, 2000, 500, 4000, 2000, 800, 6000, 2000, 4000, 5000, 4000, 500, 3000, 9000, 8000, 7000, 500, 2000, 2000, 3000, 2000, 4000, 500, 5000, 3000, 2000, 4000, 5000, 7000, 500, 9000, 3000, 3000, 3000, 7000, 8000, 4000, 2000, 3000, 4000, 4000, 500, 3000, 3000, 3000, 500, 500, 3000, 2000, 3000, 12000, 3000, 3000, 4000, 2000, 3000, 4000, 3000, 2000, 3000, 3000, 2000, 5000, 3000, 8000, 2000, 2000, 4000, 2000, 3000, 8000, 2000, 7000, 2000, 3000, 750, 3000, 4000, 4000, 3000, 6000, 3000, 500, 1000, 500, 2000, 4000, 650, 1000, 800, 500, 6000, 6000, 2000, 2000, 2000, 11000, 3000, 3000, 10000, 5000, 2000, 2000, 3000, 2000, 4000, 3000, 4000, 5000, 2000, 0, 3000, 2000, 2000, 2000, 5000, 2000, 2000, 2000, 3000, 7000, 3000, 5000, 750, 2000, 2000, 1000, 2000, 3000, 6000, 3000, 4000, 4000, 550, 500, 2000, 2000, 3000, 2000, 500, 2000, 3000, 3000, 2000, 3000, 3000, 2000, 3000, 500, 500, 3000, 5000, 3000, 3000, 2000, 2000, 4000, 2000, 6000, 5000, 7000, 6000, 500, 5000, 7000, 1000, 3000, 3000, 6000, 500, 6000, 10000, 3000, 4000, 3000, 2000, 5000, 2000, 2000, 0, 3000, 4000, 3000, 1000, 2000, 3000, 2000, 3000, 2000, 500, 4000, 3000, 500, 500, 3000, 3000, 2000, 3000, 3000, 5000, 2000, 4000, 2000, 5000, 2000, 6000, 2000, 1000, 6000, 8000, 1000, 3000, 4000, 2000, 4000, 1000, 12000, 900, 6000, 3000, 3000, 4000, 4000, 0, 2000, 4000, 4000, 1000, 1000, 2000, 3000, 5000, 5000, 4000, 1000, 1000, 5000, 2000, 2000, 2000, 3000, 4000, 3000, 3000, 3000, 2000, 4000, 3000, 8000, 5000, 6000, 5000, 500, 3000, 3000, 3000, 2000, 8000, 2000, 3000, 3000, 6000, 4000, 4000, 3000, 3000, 3000, 5000, 9000, 4000, 3000, 5000, 5000, 500, 2000, 2000, 3000, 1000, 1000, 500, 3000, 6000, 2000, 3000, 500, 3000, 3000, 3000, 2000, 12000, 2000, 11000, 3000, 2000, 12000, 500, 3000, 1000, 4000, 3000, 3000, 3000, 3000, 5000, 1000, 2000, 3000, 3000, 9000, 500, 3000, 500, 7000, 3000, 3000, 2000, 2000, 2000, 7000, 3000, 2000, 3000, 2000, 3000, 8000, 3000, 500, 3000, 2000, 0, 500, 2000, 3000, 3000, 3000, 2000, 5000, 12000, 1000, 4000, 2000, 3000, 3000, 3000, 6000, 15000, 3000, 500, 3000, 15000, 5000, 11000, 500, 3000, 3000, 2000, 500, 2000, 8000, 5000, 4000, 4000, 8000, 3000, 3000, 3000, 3000, 5000, 500, 4000, 2000, 3000, 500, 2000, 3000, 2000, 4000, 4000, 1000, 5000, 4000, 3000, 11000, 4000, 7000, 1000, 3000, 2000, 3000, 4000, 5000, 4000, 3000, 6000, 3000, 3000, 1000, 3000, 4000, 3000, 3000, 2000, 5000, 4000, 6000, 4000, 500, 8000, 3000, 3000, 12000, 2000, 5000, 4000, 2000, 2000, 4000, 2000, 5000, 3000, 2000, 2000, 500, 3000, 4000, 2000, 2000, 3000, 3000, 6000, 1000, 500, 2000, 5000, 2000, 2000, 5000, 2000, 2000, 3000, 2000, 3000, 3000, 3000, 4000, 4000, 650, 1000, 4000, 2000, 12000, 3000, 12000, 7000, 2000, 3000, 2000, 5000, 3000, 5000, 2000, 1000, 2000, 1000, 6000, 3000, 2000, 4000, 7000, 500, 2000, 2000, 9000, 5000, 2000, 4000, 3000, 3000, 4000, 2000, 9000, 2000, 3000, 2000, 3000, 4000, 2000, 3000, 4000, 4000, 3000, 4000, 4000, 4000, 3000, 2000, 500, 1000, 3000, 3000, 2000, 2000, 2000, 7000, 4000, 800, 4000, 2000, 500, 2000, 0, 2000, 6000, 500, 500, 3000, 4000, 2000, 3000, 2000, 3000, 2000, 2000, 6000, 4000, 500, 3000, 3000, 5000, 5000, 2000, 1000, 3000, 0, 3000, 4000, 5000, 2000, 4000, 4000, 3000, 3000, 3000, 4000, 2000, 4000, 3000, 2000, 3000, 4000, 2000, 2000, 2000, 6000, 2000, 3000, 3000, 2000, 2000, 2000, 3000, 4000, 2000, 4000, 5000, 2000, 2000, 7000, 500, 3000, 500, 650, 2000, 500, 2000, 4000, 4000, 3000, 3000, 750, 2000, 3000, 4000, 1000, 500, 1000, 2000, 3000, 3000, 2000, 12000, 2000, 3000, 3000, 0, 2000, 3000, 8000, 4000, 2000, 2000, 3000, 5000, 5000, 4000, 5000, 3000, 3000, 4000, 1000, 2000, 500, 3000, 2000, 900, 1000, 500, 3000, 2000, 1000, 3000, 11000, 3000, 2000, 6000, 4000, 3000, 6000, 2000, 5000, 1000, 2000, 2000, 2000, 500, 2000, 4000, 1000, 2000, 3000, 6000, 4000, 2000, 5000, 800, 2000, 7000, 5000, 3000, 3000, 1000, 2000, 1000, 4000, 6000, 6000, 2000, 3000, 2000, 1000, 500, 950, 3000, 2000, 4000, 2000, 1000, 3000, 500, 1000, 7000, 950, 1000, 1000, 2000, 500, 2000, 2000, 2000, 5000, 3000, 4000, 900, 3000, 3000, 2000, 4000, 3000, 2000, 2000, 3000, 500, 1000, 2000, 950, 5000, 2000, 1000, 500, 500, 2000, 3000, 4000, 2000, 3000, 2000, 5000, 2000, 7000, 2000, 4000, 2000, 2000, 1000, 3000, 4000, 2000, 4000, 0, 2000, 3000, 2000, 2000, 3000, 2000, 500, 5000, 2000, 3000, 2000, 2000, 3000, 3000, 6000, 3000, 3000, 2000, 2000, 10000, 4000, 3000, 2000, 1000, 500, 3000, 500, 1000, 3000, 3000, 3000, 2000, 500, 500, 500, 3000, 3000, 4000, 3000, 5000, 3000, 1000, 650, 1000, 2000, 1000, 1000, 2000, 2000, 4000, 1000, 4000, 500, 3000, 500, 3000, 2000, 1000, 4000, 500, 4000, 1000, 3000, 4000, 3000, 2000, 3000, 5000, 2000, 2000, 9000, 2000, 500, 1000, 4000, 500, 2000, 3000, 2000, 2000, 500, 2000, 2000, 1000, 3000, 2000, 650, 3000, 500, 500, 4000, 8000, 4000, 6000, 500, 3000, 500, 3000, 5000, 3000, 950, 3000, 500, 2000, 4000, 2000, 2000, 500, 3000, 0, 3000, 500, 4000, 11000, 500, 3000, 3000, 4000, 3000, 6000, 2000, 2000, 1000, 2000, 1000, 500, 3000, 3000, 4000, 5000, 1000, 3000, 6000, 2000, 3000, 2000, 1000, 2000, 1000, 950, 2000, 5000, 900, 2000, 2000, 3000, 4000, 3000, 6000, 3000, 0, 6000, 3000, 1000, 3000, 3000, 4000, 500, 1000, 2000, 1000, 4000, 2000, 4000, 600, 2000, 6000, 4000, 3000, 3000, 500, 3000, 4000, 900, 1000, 500, 500, 500, 2000, 2000, 1000, 4000, 1000, 4000, 2000, 500, 3000, 1000, 1000, 2000, 2000, 1000, 3000, 3000, 4000, 2000, 2000, 3000, 500, 500, 2000, 2000, 8000, 4000, 2000, 3000, 2000, 2000, 2000, 1000, 2000, 2000, 3000, 3000, 4000, 3000, 2000, 500, 3000, 3000, 9000, 2000, 3000, 2000, 800, 1000, 3000, 3000, 2000, 3000, 2000, 3000, 3000, 1000, 3000, 2000, 2000, 3000, 3000, 1000, 500, 1000, 8000, 3000, 3000, 3000, 3000, 2000, 4000, 3000, 7000, 8000, 5000, 2000, 8000, 3000, 1000, 500, 2000, 3000, 2000, 2000, 2000, 9000, 3000, 3000, 3000, 4000, 3000, 1000, 4000, 3000, 1000, 500, 3000, 1000, 5000, 2000, 500, 1000, 2000, 2000, 2000, 2000, 5000, 3000, 700, 2000, 4000, 2000, 3000, 9000, 500, 2000, 4000, 3000, 950, 3000, 2000, 2000, 3000, 2000, 500, 2000, 4000, 3000, 5000, 5000, 4000, 4000, 500, 4000, 2000, 3000, 1000, 500, 2000, 2000, 2000, 2000, 3000, 3000, 1000, 2000, 2000, 2000, 1000, 3000, 6000, 1000, 500, 2000, 4000, 1000, 2000, 3000, 3000, 3000, 2000, 5000, 7000, 2000, 1000, 500, 850, 4000, 2000, 2000, 5000, 5000, 2000, 1000, 2000, 1000, 5000, 3000, 2000, 2000, 2000, 2000, 4000, 2000, 3000, 3000, 3000, 2000, 3000, 3000, 1000, 1000, 3000, 4000, 3000, 0, 2000, 13000, 500, 3000, 8000, 2000, 2000, 5000, 4000, 2000, 5000, 4000, 1000, 500, 600, 600, 2000, 2000, 3000, 2000, 2000, 500, 3000, 2000, 8000, 3000, 2000, 1000, 4000, 3000, 8000, 3000, 2000, 2000, 1000, 1000, 4000, 1000, 4000, 3000, 4000, 500, 3000, 2000, 500, 0, 3000, 3000, 4000, 3000, 3000, 2000, 1000, 5000, 8000, 2000, 2000, 3000, 500, 2000, 2000, 2000, 2000, 12000, 3000, 2000, 5000, 1000, 5000, 3000, 2000, 4000, 2000, 2000, 3000, 2000, 500, 2000, 0, 2000, 5000, 4000, 2000, 2000, 1000, 2000, 8000, 2000, 2000, 2000, 3000, 500, 4000, 3000, 2000, 2000, 11000, 1000, 2000, 2000, 3000, 2000, 1000, 2000, 2000, 4000, 2000, 3000, 3000, 2000, 3000, 500, 1000, 5000, 500, 1000, 2000, 2000, 0, 2000, 500, 2000, 4000, 3000, 4000, 2000, 2000, 6000, 3000, 500, 2000, 2000, 3000, 4000, 2000, 750, 7000, 4000, 3000, 900, 4000, 1000, 500, 3000, 2000, 1000, 2000, 2000, 2000, 2000, 1000, 3000, 4000, 1000, 900, 500, 4000, 3000, 3000, 10000, 4000, 6000, 12000, 4000, 4000, 2000, 1000, 2000, 1000, 3000, 2000, 2000, 500, 2000, 500, 3000, 1000, 3000, 3000, 2000, 2000, 2000, 2000, 2000, 2000, 2000, 6000, 3000, 8000, 4000, 5000, 850, 2000, 500, 2000, 700, 2000, 2000, 500, 500, 2000, 5000, 6000, 2000, 500, 3000, 8000, 1000, 5000, 5000, 0, 2000, 4000, 2000, 2000, 5000, 3000, 2000, 3000, 1000, 3000, 3000, 5000, 500, 2000, 7000, 2000, 2000, 800, 3000, 1000, 500, 2000, 5000, 3000, 2000, 4000, 2000, 5000, 500, 3000, 1000, 2000, 2000, 3000, 2000, 2000, 2000, 2000, 3000, 1000, 10000, 2000, 2000, 2000, 1000, 3000, 2000, 4000, 3000, 4000, 4000, 3000, 4000, 2000, 5000, 5000, 2000, 3000, 5000, 7000, 2000, 1000, 6000, 3000, 2000, 4000, 500, 3000, 1000, 1000, 3000, 3000, 2000, 2000, 2000, 2000, 1000, 5000, 2000, 2000, 1000, 2000, 4000, 3000, 750, 3000, 2000, 3000, 2000, 3000, 4000, 1000, 500, 1000, 3000, 2000, 500, 2000, 2000, 2000, 2000, 3000, 1000, 500, 2000, 4000, 500, 5000, 1000, 800, 8000, 2000, 3000, 1000, 6000, 1000, 2000, 2000, 3000, 500, 3000, 9000, 500, 2000, 3000, 2000, 7000, 2000, 5000, 2000, 3000, 4000, 2000, 7000, 9000, 2000, 3000, 2000, 2000, 500, 2000, 3000, 1000, 3000, 3000, 2000, 3000, 1000, 3000, 500, 4000, 2000, 2000, 4000, 4000, 1000, 2000, 3000, 1000, 3000, 2000, 2000, 2000, 2000, 2000, 2000, 4000, 2000, 3000, 2000, 2000, 500, 2000, 2000, 4000, 1000, 1000, 2000, 3000, 3000, 3000, 2000, 2000, 2000, 2000, 4000, 1000, 2000, 1000, 4000, 2000, 2000, 2000, 2000, 500, 500, 2000, 3000, 500, 3000, 15000, 2000, 2000, 3000, 2000, 500, 3000, 1000, 500, 500, 2000, 2000, 500, 9000, 3000, 500, 2000, 1000, 500, 500, 2000, 4000, 2000, 3000, 2000, 4000, 2000, 3000, 3000, 7000, 3000, 3000, 3000, 3000, 500, 500, 5000, 2000, 500, 4000, 500, 3000, 9000, 2000, 10000, 1000, 2000, 0, 4000, 3000, 3000, 4000, 2000, 1000, 500, 2000, 5000, 3000, 3000, 2000, 3000, 500, 5000, 950, 2000, 2000, 10000, 1000, 4000, 2000, 2000, 3000, 3000, 2000, 500, 4000, 2000, 2000, 2000, 1000, 3000, 7000, 3000, 4000, 4000, 3000, 3000, 2000, 500, 3000, 2000, 8000, 500, 4000, 3000, 7000, 3000, 500, 2000, 500, 3000, 4000, 2000, 3000, 1000, 2000, 4000, 2000, 500, 2000, 9000, 1000, 2000, 500, 3000, 1000, 4000, 1000, 2000, 3000, 9000, 6000, 4000, 3000, 750, 4000, 4000, 4000, 3000, 500, 500, 5000, 4000, 500, 850, 2000, 1000, 3000, 2000, 2000, 2000, 2000, 2000, 1000, 8000, 5000, 1000, 4000, 3000, 800, 2000, 5000, 4000, 2000, 3000, 1000, 2000, 2000, 900, 3000, 2000, 1000, 3000, 1000, 3000, 2000, 2000, 3000, 2000, 3000, 3000, 3000, 2000, 2000, 2000, 1000, 4000, 1000, 11000, 4000, 1000, 2000, 3000, 2000, 950, 1000, 500, 500, 3000, 2000, 11000, 3000, 1000, 4000, 2000, 4000, 750, 6000, 500, 2000, 1000, 0, 3000, 2000, 2000, 3000, 4000, 3000, 2000, 3000, 500, 2000, 2000, 2000, 2000, 5000, 2000, 1000, 500, 500, 2000, 2000, 2000, 750, 9000, 2000, 2000, 3000, 2000, 3000, 900, 2000, 650, 3000, 2000, 3000, 1000, 850, 1000, 500, 500, 2000, 1000, 1000, 750, 3000, 1000, 3000, 5000, 2000, 1000, 4000, 2000, 2000, 950, 2000, 2000, 5000, 3000, 1000, 500, 850, 2000, 3000, 5000, 3000, 3000, 1000, 500, 500, 2000, 2000, 1000, 2000, 1000, 2000, 3000, 3000, 2000, 500, 3000, 2000, 2000, 3000, 2000, 2000, 2000, 9000, 2000, 2000, 500, 4000, 3000, 1000, 900, 2000, 2000, 2000, 6000, 2000, 1000, 4000, 850, 3000, 2000, 5000, 500, 3000, 3000, 3000, 3000, 3000, 500, 2000, 500, 500, 2000, 4000, 900, 3000, 2000, 3000, 750, 3000, 500, 1000, 2000, 2000, 1000, 2000, 2000, 500, 800, 3000, 1000, 4000, 4000, 500, 2000, 2000, 2000, 1000, 2000, 2000, 10000, 0, 3000, 1000, 3000, 3000, 1000, 850, 1000, 1000, 900, 5000, 2000, 1000, 3000, 3000, 1000, 9000, 2000, 3000, 3000, 850, 2000, 2000, 2000, 500, 6000, 3000, 2000, 1000, 2000, 1000, 2000, 2000, 3000, 2000, 2000, 1000, 2000, 3000, 2000, 1000, 2000, 500, 12000, 5000, 1000, 1000, 500, 2000, 2000, 5000, 3000, 2000, 2000, 4000, 3000, 4000, 500, 2000, 1000, 2000, 3000, 2000, 1000, 2000, 4000, 2000, 1000, 5000, 20000, 900, 2000, 1000, 950, 1000, 500, 2000, 950, 1000, 3000, 900, 3000, 2000, 6000, 750, 5000, 3000, 2000, 4000, 2000, 1000, 2000, 1000, 2000, 1000, 900, 850, 7000, 2000, 2000, 3000, 4000, 2000, 3000, 3000, 1000, 2000, 550, 4000, 2000, 500, 5000, 2000, 1000, 500, 3000, 1000, 2000, 4000, 18000, 2000, 2000, 1000, 1000, 2000, 3000, 950, 2000, 0, 2000, 2000, 650, 8000, 1000, 1000, 1000, 1000, 8000, 2000, 2000, 500, 6000, 4000, 3000, 3000, 2000, 2000, 2000, 2000, 1000, 3000, 500, 9000, 2000, 2000, 9000, 2000, 3000, 2000, 2000, 1000, 500, 1000, 3000, 16000, 2000, 4000, 3000, 5000, 2000, 6000, 2000, 2000, 3000, 5000, 1000, 3000, 2000, 2000, 2000, 2000, 3000, 2000, 2000, 2000, 3000, 500, 5000, 2000, 6000, 2000, 3000, 1000, 2000, 5000, 3000, 8000, 1000, 500, 500, 4000, 2000, 2000, 650, 2000, 2000, 2000, 5000, 2000, 5000, 1000, 2000, 2000, 6000, 3000, 2000, 1000, 3000, 3000, 2000, 6000, 2000, 9000, 2000, 550, 500, 2000, 2000, 5000, 3000, 2000, 500, 500, 2000, 2000, 1000, 1000, 2000, 700, 1000, 900, 950, 2000, 2000, 500, 5000, 2000, 0, 3000, 500, 1000, 2000, 2000, 1000, 500, 1000, 2000, 500, 3000, 4000, 2000, 5000, 500, 4000, 3000, 14000, 3000, 3000, 3000, 950, 12000, 500, 500, 2000, 2000, 1000, 550, 2000, 2000, 2000, 3000, 850, 1000, 2000, 900, 6000, 3000, 1000, 4000, 1000, 2000, 1000, 5000, 2000, 3000, 2000, 1000, 3000, 2000, 0, 2000, 500, 2000, 2000, 2000, 2000, 550, 500, 6000, 2000, 800, 4000, 500, 1000, 5000, 1000, 3000, 3000, 2000, 2000, 500, 3000, 2000, 500, 2000, 500, 500, 3000, 3000, 3000, 1000, 2000, 4000, 2000, 3000, 1000, 1000, 900, 2000, 3000, 1000, 2000, 7000, 500, 3000, 700, 2000, 3000, 2000, 1000, 550, 2000, 3000, 1000, 3000, 2000, 2000, 3000, 9000, 3000, 4000, 4000, 1000, 2000, 900, 500, 3000, 1000, 3000, 2000, 3000, 1000, 500, 1000, 3000, 5000, 2000, 3000, 2000, 2000, 2000, 7000, 4000, 2000, 3000, 2000, 3000, 4000, 8000, 8000, 3000, 7000, 2000, 7000, 2000, 2000, 2000, 2000, 1000, 500, 900, 1000, 3000, 500, 5000, 2000, 4000, 3000, 4000, 500, 5000, 3000, 1000, 3000, 500, 4000, 2000, 3000, 3000, 1000, 4000, 3000, 900, 3000, 4000, 5000, 1000, 4000, 500, 2000, 500, 1000, 2000, 1000, 2000, 500, 2000, 4000, 2000, 950, 3000, 9000, 7000, 2000, 2000, 950, 2000, 3000, 3000, 4000, 2000, 500, 1000, 2000, 5000, 1000, 8000, 3000, 6000, 2000, 500, 5000, 1000, 5000, 3000, 4000, 2000, 3000, 2000, 2000, 2000, 2000, 5000, 4000, 1000, 1000, 2000, 3000, 900, 2000, 0, 2000, 2000, 3000, 2000, 2000, 5000, 5000, 9000, 3000, 2000, 2000, 1000, 750, 2000, 2000, 2000, 1000, 500, 3000, 500, 2000, 2000, 1000, 2000, 500, 3000, 3000, 3000, 1000, 3000, 1000, 2000, 800, 500, 500, 2000, 3000, 2000, 2000, 4000, 3000, 6000, 2000, 3000, 500, 1000, 3000, 500, 3000, 2000, 2000, 2000, 3000, 5000, 2000, 3000, 500, 2000, 2000, 4000, 2000, 2000, 3000, 2000, 2000, 500, 1000, 2000, 3000, 1000, 2000, 4000, 3000, 500, 4000, 3000, 2000, 750, 500, 2000, 3000, 850, 5000, 3000, 4000, 2000, 2000, 700, 1000, 10000, 3000, 500, 3000, 3000, 3000, 12000, 500, 2000, 3000, 4000, 2000, 1000, 1000, 1000, 6000, 2000, 2000, 850, 6000, 3000, 8000, 5000, 2000, 500, 1000, 600, 500, 18000, 1000, 2000, 500, 2000, 700, 2000, 5000, 500, 2000, 1000, 3000, 3000, 1000, 2000, 4000, 2000, 3000, 6000, 3000, 2000, 500, 4000, 500, 3000, 7000, 1000, 500, 2000, 1000, 2000, 6000, 1000, 1000, 5000, 5000, 500, 3000, 500, 3000, 950, 2000, 1000, 950, 2000, 700, 3000, 2000, 2000, 1000, 3000, 2000, 2000, 2000, 1000, 7000, 3000, 500, 7000, 2000, 900, 2000, 1000, 8000, 2000, 2000, 4000, 7000, 500, 1000, 2000, 800, 2000, 1000, 8000, 950, 9000, 750, 2000, 3000, 1000, 2000, 2000, 5000, 4000, 800, 500, 3000, 9000, 3000, 2000, 2000, 500, 2000, 6000, 2000, 7000, 4000, 2000, 0, 1000, 6000, 3000, 950, 3000, 950, 6000, 1000, 2000, 2000, 4000, 2000, 2000, 2000, 2000, 500, 3000, 4000, 2000, 1000, 1000, 2000, 900, 3000, 500, 2000, 3000, 6000, 3000, 2000, 14000, 3000, 2000, 8000, 2000, 3000, 7000, 2000, 2000, 1000, 2000, 3000, 2000, 2000, 1000, 2000, 1000, 2000, 2000, 2000, 5000, 2000, 7000, 2000, 1000, 1000, 1000, 2000, 5000, 550, 8000, 3000, 500, 3000, 2000, 3000, 2000, 2000, 2000, 2000, 4000, 4000, 2000, 1000, 3000, 3000, 3000, 2000, 1000, 3000, 2000, 500, 4000, 1000, 4000, 4000, 1000, 4000, 3000, 2000, 2000, 3000, 3000, 2000, 3000, 700, 2000, 1000, 2000, 4000, 3000, 4000, 850, 2000, 2000, 2000, 1000, 4000, 5000, 2000, 5000, 900, 2000, 2000, 3000, 500, 2000, 2000, 0, 3000, 3000, 500, 3000, 0, 2000, 0, 850, 2000, 10000, 2000, 3000, 2000, 2000, 2000, 3000, 3000, 1000, 1000, 1000, 2000, 3000, 500, 1000, 9000, 3000, 2000, 1000, 1000, 500, 500, 700, 2000, 3000, 2000, 3000, 550, 2000, 3000, 2000, 1000, 950, 2000, 3000, 500, 2000, 3000, 1000, 1000, 6000, 2000, 3000, 3000, 3000, 2000, 1000, 1000, 2000, 2000, 2000, 3000, 4000, 500, 2000, 2000, 500, 3000, 3000, 4000, 2000, 1000, 950, 3000, 2000, 1000, 2000, 2000, 3000, 800, 4000, 500, 3000, 850, 6000, 4000, 3000, 3000, 3000, 2000, 0, 2000, 500, 2000, 1000, 1000, 1000, 2000, 2000, 4000, 1000, 3000, 500, 8000, 2000, 1000, 500, 3000, 900, 4000, 2000, 1000, 1000, 3000, 1000, 2000, 2000, 1000, 2000, 3000, 4000, 3000, 500, 900, 3000, 2000, 3000, 1000, 2000, 7000, 2000, 2000, 3000, 1000, 2000, 2000, 3000, 2000, 2000, 3000, 3000, 3000, 1000, 3000, 500, 4000, 900, 2000, 2000, 7000, 1000, 1000, 2000, 500, 1000, 2000, 1000, 2000, 6000, 2000, 1000, 1000, 900, 2000, 2000, 7000, 2000, 3000, 900, 24000, 1000, 4000, 6000, 500, 5000, 4000, 850, 0, 2000, 500, 1000, 2000, 2000, 500, 500, 3000, 1000, 500, 2000, 2000, 3000, 3000, 2000, 750, 2000, 1000, 2000, 3000, 2000, 4000, 3000, 2000, 7000, 1000, 1000, 3000, 2000, 4000, 2000, 3000, 4000, 1000, 10000, 750, 1000, 3000, 2000, 2000, 1000, 1000, 2000, 1000, 2000, 2000, 500, 850, 1000, 1000, 1000, 2000, 2000, 2000, 3000, 3000, 5000, 2000, 750, 3000, 2000, 3000, 3000, 4000, 3000, 2000, 5000, 1000, 4000, 950, 3000, 3000, 2000, 2000, 2000, 2000, 1000, 2000, 950, 1000, 2000, 5000, 3000, 1000, 900, 500, 1000, 2000, 1000, 2000, 3000, 850, 5000, 2000, 2000, 1000, 2000, 1000, 500, 2000, 2000, 2000, 2000, 3000, 2000, 1000, 3000, 2000, 6000, 2000, 2000, 3000, 1000, 2000, 750, 1000, 2000, 3000, 3000, 1000, 1000, 2000, 2000, 2000, 1000, 3000, 3000, 2000, 3000, 4000, 2000, 900, 2000, 2000, 2000, 2000, 1000, 2000, 950, 2000, 2000, 1000, 2000, 3000, 4000, 2000, 2000, 500, 3000, 4000, 1000, 3000, 3000, 2000, 2000, 2000, 2000, 4000, 2000, 2000, 1000, 2000, 2000, 2000, 1000, 1000, 3000, 5000, 1000, 3000, 2000, 1000, 900, 5000, 1000, 3000, 1000, 3000, 2000, 2000, 2000, 1000, 2000, 3000, 2000, 1000, 1000, 5000, 1000, 3000, 1000, 5000, 4000, 1000, 2000, 2000, 2000, 3000, 500, 4000, 2000, 2000, 3000, 5000, 3000, 1000, 2000, 2000, 1000, 1000, 4000, 3000, 3000, 1000, 2000, 1000, 550, 2000, 2000, 1000, 2000, 500, 500, 700, 1000, 500, 800, 1000, 850, 5000, 500, 4000, 1000, 2000, 3000, 2000, 2000, 2000, 3000, 800, 3000, 2000, 800, 2000, 500, 1000, 1000, 7000, 2000, 1000, 2000, 3000, 1000, 3000, 6000, 500, 3000, 2000, 500, 4000, 1000, 600, 2000, 1000, 3000, 2000, 2000, 500, 500, 1000, 1000, 2000, 2000, 2000, 3000, 2000, 650, 1000, 1000, 1000, 3000, 3000, 9000, 2000, 6000, 1000, 500, 1000, 1000, 2000, 550, 2000, 2000, 3000, 1000, 4000, 5000, 500, 3000, 2000, 500, 1000, 0, 5000, 2000, 1000, 2000, 3000, 800, 2000, 3000, 700, 2000, 500, 500, 2000, 3000, 1000, 1000, 2000, 3000, 2000, 1000, 2000, 3000, 4000, 2000, 2000, 550, 950, 0, 3000, 2000, 2000, 800, 500, 3000, 3000, 1000, 2000, 1000, 3000, 1000, 2000, 2000, 2000, 500, 2000, 1000, 3000, 750, 800, 3000, 2000, 3000, 2000, 3000, 1000, 4000, 2000, 2000, 3000, 600, 500, 2000, 2000, 1000, 5000, 2000, 2000, 3000, 800, 2000, 0, 1000, 4000, 850, 3000, 950, 1000, 1000, 4000, 3000, 1000, 500, 500, 1000, 650, 2000, 2000, 1000, 2000, 500, 2000, 3000, 500, 1000, 3000, 2000, 3000, 2000, 3000, 1000, 650, 1000, 3000, 4000, 500, 2000, 750, 900, 800, 500, 900, 1000, 4000, 500, 750, 750, 900, 2000, 800, 2000, 1000, 2000, 5000, 6000, 750, 500, 4000, 1000, 3000, 1000, 3000, 1000, 1000, 2000, 1000, 2000, 2000, 3000, 2000, 800, 3000, 500, 15000, 1000, 2000, 650, 1000, 500, 2000, 500, 8000, 5000, 1000, 5000, 500, 6000, 800, 500, 1000, 3000, 750, 2000, 5000, 4000, 2000, 1000, 1000, 2000, 3000, 2000, 3000, 1000, 3000, 1000, 2000, 2000, 3000, 2000, 500, 3000, 4000, 3000, 1000, 1000, 1000, 1000, 3000, 2000, 800, 2000, 500, 3000, 2000, 2000, 2000, 2000, 1000, 500, 3000, 2000, 1000, 2000, 2000, 3000, 11000, 3000, 5000, 2000, 4000, 2000, 2000, 0, 2000, 2000, 5000, 2000, 5000, 2000, 1000, 500, 1000, 2000, 1000, 3000, 2000, 2000, 800, 2000, 500, 2000, 2000, 850, 1000, 3000, 3000, 1000, 7000, 1000, 500, 2000, 3000, 2000, 2000, 1000, 2000, 3000, 500, 2000, 750, 3000, 0, 900, 850, 4000, 2000, 3000, 2000, 3000, 2000, 2000, 2000, 3000, 2000, 2000, 2000, 3000, 8000, 3000, 1000, 2000, 1000, 2000, 500, 1000, 1000, 2000, 3000, 3000, 1000, 1000, 1000, 1000, 2000, 4000, 7000, 2000, 900, 900, 5000, 1000, 3000, 2000, 4000, 1000, 1000, 3000, 3000, 500, 2000, 4000, 3000, 1000, 3000, 1000, 3000, 750, 600, 6000, 2000, 900, 850, 4000, 500, 2000, 2000, 4000, 2000, 2000, 500, 1000, 1000, 1000, 2000, 2000, 800, 2000, 3000, 2000, 2000, 800, 4000, 2000, 500, 2000, 850, 500, 750, 500, 3000, 5000, 2000, 1000, 1000, 2000, 11000, 1000, 7000, 2000, 2000, 2000, 2000, 4000, 500, 2000, 600, 500, 8000, 3000, 3000, 650, 1000, 2000, 5000, 1000, 8000, 500, 3000, 2000, 500, 2000, 3000, 2000, 3000, 4000, 950, 2000, 1000, 1000, 1000, 2000, 2000, 1000, 1000, 2000, 850, 3000, 1000, 500, 500, 500, 2000, 2000, 2000, 3000, 1000, 2000, 5000, 2000, 1000, 2000, 1000, 3000, 1000, 6000, 2000, 2000, 1000, 3000, 500, 4000, 4000, 2000, 2000, 2000, 3000, 2000, 2000, 1000, 2000, 850, 2000, 500, 4000, 1000, 2000, 2000, 1000, 500, 2000, 2000, 750, 750, 2000, 4000, 2000, 2000, 1000, 3000, 2000, 3000, 2000, 2000, 2000, 1000, 2000, 1000, 3000, 1000, 500, 2000, 800, 6000, 1000, 900, 2000, 2000, 5000, 1000, 2000, 2000, 2000, 500, 2000, 500, 1000, 500, 500, 3000, 500, 2000, 2000, 1000, 2000, 900, 3000, 1000, 1000, 950, 2000, 500, 500, 1000, 2000, 500, 4000, 1000, 2000, 2000, 3000, 2000, 3000, 1000, 800, 2000, 1000, 3000, 500, 2000, 2000, 2000, 3000, 2000, 1000, 3000, 2000, 4000, 2000, 2000, 3000, 900, 3000, 1000, 2000, 2000, 2000, 3000, 8000, 6000, 2000, 500, 1000, 3000, 4000, 2000, 3000, 1000, 2000, 1000, 1000, 2000, 7000, 2000, 1000, 650, 2000, 800, 2000, 2000, 500, 1000, 5000, 2000, 1000, 2000, 2000, 1000, 2000, 2000, 1000, 3000, 1000, 10000, 2000, 1000, 2000, 1000, 3000, 2000, 500, 1000, 1000, 11000, 4000, 2000, 2000, 3000, 5000, 2000, 900, 800, 1000, 3000, 3000, 2000, 3000, 6000, 2000, 500, 500, 2000, 950, 1000, 2000, 2000, 700, 2000, 2000, 2000, 1000, 3000, 1000, 550, 500, 3000, 2000, 1000, 2000, 1000, 2000, 2000, 1000, 2000, 950, 1000, 2000, 950, 3000, 7000, 7000, 2000, 1000, 1000, 1000, 6000, 2000, 2000, 500, 4000, 4000, 2000, 4000, 550, 1000, 500, 2000, 4000, 2000, 2000, 500, 1000, 2000, 6000, 2000, 3000, 3000, 2000, 500, 2000, 1000, 1000, 500, 2000, 5000, 0, 500, 500, 500, 6000, 2000, 1000, 900, 3000, 2000, 4000, 2000, 2000, 2000, 1000, 600, 2000, 3000, 2000, 3000, 3000, 2000, 2000, 500, 950, 700, 2000, 900, 950, 4000, 2000, 1000, 1000, 1000, 2000, 700, 2000, 500, 4000, 3000, 1000, 1000, 2000, 500, 2000, 1000, 5000, 3000, 3000, 2000, 2000, 2000, 2000, 3000, 1000, 2000, 3000, 2000, 500, 2000, 2000, 1000, 2000, 4000, 500, 3000, 1000, 3000, 500, 2000, 500, 2000, 3000, 500, 500, 2000, 2000, 3000, 900, 7000, 3000, 750, 2000, 3000, 2000, 7000, 1000, 2000, 2000, 5000, 1000, 1000, 3000, 3000, 2000, 500, 2000, 3000, 3000, 1000, 0, 0, 2000, 500, 4000, 1000, 2000, 1000, 2000, 2000, 1000, 500, 2000, 3000, 2000, 550, 800, 4000, 1000, 1000, 500, 650, 800, 2000, 750, 3000, 0, 500, 2000, 1000, 1000, 2000, 1000, 500, 1000, 3000, 2000, 8000, 750, 950, 1000, 1000, 1000, 2000, 4000, 1000, 500, 500, 3000, 1000, 1000, 1000, 2000, 500, 500, 2000, 2000, 2000, 3000, 500, 800, 3000, 850, 700, 850, 5000, 10000, 1000, 4000, 4000, 3000, 1000, 950, 2000, 500, 1000, 3000, 2000, 2000, 500, 1000, 1000, 2000, 1000, 750, 500, 3000, 950, 3000, 2000, 6000, 500, 2000, 1000, 2000, 1000, 2000, 1000, 950, 1000, 3000, 1000, 3000, 500, 500, 750, 3000, 500, 1000, 3000, 800, 500, 2000, 3000, 2000, 900, 3000, 2000, 1000, 2000, 500, 600, 2000, 2000, 650, 1000, 2000, 2000, 3000, 2000, 850, 1000, 4000, 2000, 1000, 4000, 550, 500, 2000, 2000, 3000, 1000, 2000, 2000, 500, 850, 2000, 1000, 2000, 5000, 550, 500, 2000, 3000, 2000, 700, 4000, 500, 2000, 1000, 500, 3000, 2000, 2000, 3000, 6000, 1000, 500, 1000, 750, 1000, 1000, 3000, 6000, 650, 650, 1000, 550, 2000, 2000, 2000, 1000, 500, 2000, 3000, 500, 500, 5000, 500, 3000, 2000, 3000, 500, 1000, 500, 500, 1000, 3000, 9000, 600, 1000, 3000, 1000, 6000, 5000, 3000, 1000, 550, 1000, 500, 2000, 1000, 900, 2000, 750, 500, 3000, 4000, 650, 550, 2000, 2000, 2000, 1000, 2000, 800, 950, 3000, 1000, 1000, 1000, 5000, 2000, 1000, 550, 700, 1000, 950, 2000, 5000, 2000, 2000, 3000, 500, 2000, 3000, 900, 4000, 2000, 4000, 5000, 2000, 500, 500, 1000, 2000, 500, 850, 900, 750, 1000, 2000, 2000, 3000, 800, 1000, 500, 500, 1000, 500, 1000, 2000, 2000, 2000, 500, 2000, 2000, 2000, 1000, 1000, 500, 700, 2000, 850, 3000, 750, 1000, 500, 2000, 3000, 1000, 1000, 2000, 1000, 2000, 3000, 1000, 500, 500, 2000, 3000, 2000, 2000, 2000, 800, 650, 1000, 1000, 550, 4000, 3000, 3000, 2000, 3000, 550, 2000, 4000, 2000, 2000, 3000, 950, 1000, 500, 3000, 1000, 2000, 850, 1000, 800, 3000, 9000, 750, 900, 550, 0, 600, 5000, 750, 2000, 2000, 1000, 700, 9000, 2000, 0, 3000, 6000, 1000, 4000, 1000, 850, 3000, 4000, 1000, 1000, 800, 2000, 2000, 4000, 2000, 900, 900, 2000, 2000, 500, 2000, 2000, 2000, 1000, 500, 900, 2000, 2000, 1000, 1000, 2000, 500, 500, 2000, 500, 500, 1000, 3000, 500, 700, 3000, 2000, 3000, 11000, 650, 2000, 3000, 2000, 500, 5000, 750, 900, 1000, 2000, 2000, 750, 2000, 1000, 1000, 3000, 550, 2000, 2000, 500, 1000, 4000, 1000, 2000, 3000, 2000, 1000, 1000, 2000, 500, 500, 3000, 4000, 950, 1000, 6000, 750, 850, 4000, 6000, 2000, 500, 1000, 2000, 2000, 2000, 3000, 3000, 600, 3000, 3000, 3000, 2000, 2000, 2000, 500, 2000, 1000, 2000, 500, 0, 2000, 1000, 800, 500, 750, 1000, 2000, 950, 700, 900, 750, 1000, 850, 1000, 3000, 500, 1000, 2000, 2000, 2000, 2000, 500, 1000, 2000, 500, 2000, 900, 2000, 650, 1000, 700, 2000, 2000, 1000, 1000, 2000, 2000, 500, 2000, 4000, 650, 2000, 1000, 500, 4000, 1000, 4000, 3000, 4000, 1000, 700, 2000, 500, 2000, 900, 3000, 3000, 1000, 1000, 4000, 500, 4000, 500, 500, 3000, 500, 2000, 850, 2000, 2000, 3000, 2000, 800, 950, 1000, 5000, 500, 850, 2000, 2000, 2000, 800, 1000, 500, 1000, 3000, 2000, 2000, 900, 500, 700, 850, 2000, 6000, 500, 2000, 2000, 2000, 3000, 1000, 2000, 1000, 2000, 4000, 2000, 950, 2000, 4000, 900, 1000, 2000, 2000, 2000, 500, 3000, 500, 3000, 4000, 2000, 2000, 2000, 2000, 500, 2000, 1000, 2000, 1000, 2000, 3000, 750, 1000, 750, 3000, 500, 2000, 500, 2000, 900, 1000, 500, 1000, 500, 2000, 500, 5000, 8000, 500, 500, 3000, 5000, 3000, 3000, 2000, 500, 600, 850, 4000, 700, 1000, 3000, 750, 2000, 2000, 3000, 4000, 5000, 500, 2000, 6000, 500, 500, 2000, 4000, 500, 1000, 500, 2000, 3000, 2000, 1000, 850, 2000, 3000, 700, 950, 500, 650, 2000, 2000, 1000, 2000, 1000, 2000, 2000, 1000, 500, 2000, 2000, 1000, 500, 2000, 2000, 650, 1000, 600, 650, 600, 3000, 1000, 500, 600, 500, 2000, 2000, 550, 3000, 2000, 2000, 650, 2000, 4000, 3000, 500, 3000, 750, 1000, 900, 3000, 2000, 2000, 900, 1000, 3000, 2000, 2000, 2000, 3000, 700, 3000, 500, 2000, 500, 2000, 2000, 2000, 1000, 500, 1000, 2000, 1000, 2000, 3000, 4000, 7000, 700, 1000, 550, 1000, 3000, 950, 950, 3000, 3000, 950, 4000, 1000, 4000, 3000, 800, 3000, 2000, 2000, 1000, 2000, 4000, 3000, 5000, 900, 3000, 1000, 3000, 4000, 950, 4000, 550, 500, 500, 3000, 750, 1000, 1000, 1000, 3000, 3000, 5000, 500, 1000, 500, 1000, 4000, 900, 5000, 2000, 2000, 950, 3000, 500, 950, 2000, 2000, 2000, 2000, 900, 1000, 1000, 2000, 900, 2000, 1000, 2000, 1000, 950, 4000, 1000, 500, 3000, 850, 500, 2000, 3000, 500, 3000, 700, 2000, 2000, 500, 2000, 1000, 3000, 1000, 800, 2000, 1000, 500, 1000, 1000, 6000, 1000, 2000, 850, 3000, 500, 4000, 2000, 1000, 1000, 700, 2000, 5000, 2000, 700, 2000, 1000, 1000, 500, 850, 500, 500, 500, 500, 750, 2000, 2000, 900, 2000, 2000, 2000, 750, 2000, 1000, 900, 2000, 2000, 700, 1000, 1000, 2000, 4000, 1000, 2000, 2000, 2000, 2000, 2000, 2000, 1000, 800, 1000, 800, 500, 950, 500, 550, 500, 3000, 2000, 2000, 3000, 500, 500, 2000, 1000, 1000, 2000, 1000, 7000, 3000, 2000, 1000, 6000, 3000, 2000, 2000, 4000, 700, 1000, 1000, 2000, 2000, 600, 700, 2000, 2000, 1000, 1000, 1000, 1000, 4000, 2000, 1000, 2000, 2000, 2000, 7000, 4000, 1000, 2000, 5000, 500, 2000, 5000, 2000, 500, 1000, 9000, 500, 2000, 1000, 500, 3000, 6000, 800, 2000, 1000, 1000, 500, 2000, 500, 0, 800, 1000, 2000, 2000, 2000, 950, 3000, 2000, 1000, 500, 2000, 2000, 800, 2000, 5000, 2000, 1000, 2000, 500, 2000, 500, 550, 2000, 500, 500, 6000, 2000, 500, 4000, 2000, 2000, 500, 1000, 2000, 1000, 2000, 2000, 2000, 4000, 2000, 3000, 650, 2000, 1000, 6000, 2000, 2000, 2000, 600, 2000, 500, 1000, 2000, 2000, 500, 900, 2000, 3000, 750, 1000, 1000, 1000, 4000, 2000, 1000, 2000, 650, 500, 3000, 2000, 6000, 3000, 750, 4000, 2000, 1000, 3000, 1000, 2000, 750, 1000, 1000, 750, 5000, 700, 1000, 1000, 500, 800, 4000, 2000, 2000, 2000, 2000, 3000, 3000, 1000, 850, 750, 3000, 2000, 2000, 2000, 2000, 500, 2000, 2000, 950, 550, 500, 1000, 2000, 750, 500, 600, 4000, 600, 500, 1000, 5000, 900, 2000, 2000, 2000, 1000, 2000, 1000, 2000, 700, 1000, 2000, 2000, 3000, 3000, 2000, 500, 2000, 1000, 900, 500, 2000, 900, 7000, 1000, 3000, 2000, 6000, 500, 500, 3000, 1000, 500, 1000, 3000, 1000, 600, 3000, 950, 2000, 3000, 1000, 5000, 800, 2000, 1000, 3000, 800, 2000, 900, 1000, 5000, 3000, 1000, 2000, 4000, 2000, 2000, 2000, 1000, 2000, 950, 2000, 1000, 2000, 950, 2000, 650, 3000, 1000, 1000, 1000, 950, 1000, 1000, 3000, 500, 4000, 500, 6000, 2000, 2000, 1000, 2000, 3000, 1000, 500, 2000, 500, 1000, 3000, 850, 2000, 6000, 1000, 2000, 1000, 3000, 850, 900, 1000, 950, 900, 1000, 600, 950, 800, 1000, 5000, 1000, 1000, 1000, 2000, 3000, 1000, 2000, 4000, 2000, 500, 600, 500, 650, 800, 1000, 1000, 750, 3000, 900, 2000, 500, 850, 500, 500, 4000, 2000, 2000, 3000, 700, 650, 1000, 900, 4000, 550, 2000, 500, 2000, 1000, 1000, 1000, 2000, 650, 1000, 650, 1000, 800, 3000, 2000, 1000, 1000, 2000, 500, 3000, 4000, 3000, 3000, 2000, 2000, 3000, 1000, 500, 2000, 700, 4000, 600, 2000, 900, 1000, 1000, 500, 3000, 850, 500, 1000, 950, 500, 650, 2000, 1000, 2000, 1000, 1000, 500, 2000, 2000, 0, 2000, 1000, 2000, 2000, 2000, 500, 800, 900, 5000, 1000, 2000, 2000, 2000, 500, 950, 1000, 1000, 4000, 1000, 2000, 1000, 2000, 1000, 0, 2000, 2000, 1000, 1000, 2000, 1000, 500, 1000, 3000, 700, 1000, 1000, 500, 850, 900, 2000, 4000, 1000, 1000, 500, 500, 2000, 0, 2000, 900, 2000, 2000, 3000, 1000, 500, 1000, 2000, 2000, 850, 1000, 800, 0, 1000, 1000, 1000, 1000, 500, 550, 4000, 1000, 900, 500, 500, 900, 2000, 1000, 1000, 5000, 3000, 600, 1000, 1000, 2000, 500, 500, 3000, 800, 500, 2000, 2000, 2000, 500, 2000, 900, 1000, 2000, 2000, 600, 1000, 1000, 1000, 4000, 2000, 3000, 500, 500, 2000, 500, 2000, 3000, 1000, 4000, 500, 3000, 750, 2000, 2000, 700, 3000, 850, 2000, 1000, 2000, 1000, 1000, 2000, 1000, 650, 2000, 1000, 1000, 600, 500, 4000, 2000, 1000, 1000, 1000, 750, 4000, 2000, 600, 1000, 500, 3000, 500, 1000, 2000, 1000, 950, 1000, 2000, 4000, 2000, 3000, 750, 1000, 1000, 9000, 500, 2000, 500, 3000, 650, 3000, 500, 2000, 1000, 2000, 2000, 3000, 1000, 3000, 650, 2000, 2000, 500, 3000, 4000, 1000, 2000, 500, 500, 2000, 1000, 550, 1000, 500, 3000, 550, 500, 550, 700, 550, 500, 1000, 900, 500, 2000, 1000, 750, 13000, 500, 950, 3000, 2000, 500, 4000, 2000, 2000, 2000, 600, 2000, 2000, 500, 2000, 2000, 2000, 500, 1000, 6000, 2000, 500, 1000, 1000, 2000, 3000, 2000, 2000, 800, 1000, 2000, 2000, 2000, 5000, 1000, 8000, 3000, 2000, 850, 2000, 850, 2000, 600, 2000, 2000, 2000, 2000, 1000, 3000, 500, 2000, 650, 750, 1000, 2000, 500, 2000, 1000, 850, 1000, 1000, 1000, 500, 2000, 3000, 1000, 500, 8000, 1000, 3000, 5000, 3000, 550, 2000, 900, 4000, 3000, 3000, 3000, 2000, 2000, 800, 2000, 2000, 3000, 2000, 2000, 2000, 750, 2000, 2000, 2000, 1000, 2000, 2000, 2000, 1000, 3000, 2000, 650, 500, 3000, 950, 900, 2000, 1000, 500, 800, 2000, 4000, 950, 4000, 650, 500, 6000, 2000, 1000, 2000, 2000, 3000, 3000, 1000, 500, 500, 2000, 2000, 2000, 500, 500, 3000, 1000, 500, 2000, 650, 2000, 1000, 500, 500, 3000, 2000, 600, 500, 2000, 800, 2000, 4000, 3000, 600, 500, 750, 2000, 2000, 5000, 900, 2000, 1000, 500, 500, 2000, 2000, 500, 1000, 2000, 500, 500, 1000, 3000, 600, 900, 2000, 3000, 1000, 750, 2000, 1000, 800, 500, 2000, 500, 3000, 2000, 2000, 2000, 2000, 6000, 7000, 950, 500, 1000, 0, 850, 1000, 1000, 5000, 2000, 500, 3000, 2000, 5000, 500, 1000, 1000, 2000, 3000, 2000, 2000, 2000, 2000, 2000, 3000, 2000, 800, 2000, 500, 500, 500, 750, 1000, 600, 4000, 2000, 1000, 4000, 1000, 500, 4000, 1000, 800, 500, 500, 2000, 1000, 1000, 1000, 1000, 2000, 500, 2000, 1000, 2000, 500, 1000, 2000, 2000, 500, 1000, 2000, 1000, 950, 750, 500, 500, 800, 950, 500, 2000, 650, 1000, 500, 2000, 850, 1000, 2000, 2000, 800, 2000, 2000, 900, 1000, 1000, 500, 2000, 1000, 1000, 500, 500, 500, 3000, 500, 550, 600, 500, 500, 2000, 1000, 2000, 2000, 3000, 2000, 1000, 950, 550, 500, 500, 3000, 2000, 2000, 500, 950, 4000, 3000, 4000, 500, 900, 1000, 500, 3000, 3000, 2000, 500, 2000, 2000, 3000, 2000, 2000, 800, 4000, 2000, 2000, 1000, 3000, 1000, 3000, 500, 2000, 3000, 5000, 500, 5000, 2000, 5000, 700, 1000, 650, 850, 1000, 2000, 3000, 500, 700, 650, 2000, 500, 500, 850, 500, 500, 500, 3000, 500, 2000, 1000, 2000, 3000, 1000, 2000, 1000, 700, 2000, 1000, 900, 500, 3000, 500, 950, 850, 800, 4000, 3000, 500, 1000, 1000, 700, 1000, 850, 3000, 2000, 500, 1000, 550, 500, 3000, 500, 500, 2000, 500, 1000, 2000, 2000, 5000, 500, 2000, 3000, 1000, 2000, 4000, 2000, 1000, 2000, 2000, 2000, 2000, 500, 700, 3000, 1000, 2000, 500, 6000, 500, 600, 650, 500, 500, 500, 500, 1000, 500, 1000, 850, 850, 800, 2000, 500, 1000, 500, 1000, 2000, 3000, 0, 650, 500, 500, 900, 500, 1000, 2000, 750, 1000, 2000, 4000, 2000, 2000, 4000, 850, 1000, 4000, 800, 500, 3000, 2000, 4000, 3000, 700, 1000, 4000, 500, 3000, 3000, 3000, 500, 2000, 700, 2000, 2000, 2000, 3000, 550, 2000, 5000, 850, 3000, 500, 2000, 750, 500, 500, 950, 850, 550, 3000, 1000, 500, 2000, 900, 2000, 500, 2000, 1000, 500, 500, 1000, 3000, 500, 800, 700, 2000, 750, 500, 2000, 1000, 1000, 2000, 2000, 2000, 500, 4000, 2000, 1000, 3000, 550, 3000, 2000, 1000, 3000, 500, 2000, 2000, 500, 2000, 2000, 1000, 2000, 2000, 1000, 900, 950, 900, 500, 3000, 1000, 6000, 3000, 2000, 2000, 1000, 500, 500, 800, 2000, 700, 600, 1000, 3000, 1000, 500, 2000, 2000, 3000, 900, 500, 1000, 550, 800, 500, 800, 750, 3000, 900, 500, 2000, 2000, 1000, 500, 2000, 500, 1000, 5000, 1000, 2000, 1000, 500, 2000, 1000, 1000, 3000, 500, 3000, 1000, 500, 1000, 2000, 550, 500, 500, 2000, 1000, 2000, 500, 2000, 700, 2000, 2000, 2000, 3000, 800, 900, 3000, 2000, 1000, 1000, 700, 3000, 550, 3000, 4000, 900, 8000, 850, 3000, 500, 1000, 700, 4000, 1000, 2000, 500, 3000, 1000, 500, 1000, 2000, 2000, 1000, 500, 0, 950, 4000, 1000, 600, 1000, 2000, 3000, 6000, 1000, 2000, 1000, 3000, 3000, 1000, 900, 0, 3000, 5000, 1000, 500, 3000, 900, 3000, 2000, 650, 600, 1000, 3000, 4000, 1000, 700, 1000, 2000, 1000, 3000, 2000, 2000, 5000, 2000, 2000, 500, 900, 1000, 2000, 3000, 1000, 2000, 500, 500, 950, 800, 1000, 2000, 500, 1000, 750, 3000, 3000, 500, 3000, 2000, 2000, 3000, 1000, 3000, 950, 3000, 3000, 2000, 500, 3000, 1000, 550, 800, 3000, 500, 2000, 3000, 500, 1000, 1000, 1000, 2000, 750, 900, 550, 1000, 500, 850, 5000, 500, 3000, 4000, 500, 500, 700, 500, 1000, 1000, 850, 2000, 2000, 1000, 750, 2000, 2000, 550, 2000, 1000, 1000, 500, 1000, 1000, 1000, 800, 500, 2000, 3000, 3000, 950, 3000, 3000, 2000, 950, 550, 2000, 950, 1000, 3000, 500, 1000, 500, 2000, 900, 1000, 1000, 2000, 700, 650, 1000, 2000, 2000, 3000, 2000, 500, 2000, 850, 2000, 2000, 2000, 500, 2000, 500, 850, 2000, 800, 950, 1000, 600, 800, 500, 4000, 2000, 1000, 500, 750, 2000, 750, 500, 1000, 1000, 1000, 2000, 2000, 650, 4000, 1000, 3000, 500, 1000, 600, 600, 500, 2000, 500, 2000, 500, 2000, 2000, 500, 500, 550, 2000, 500, 1000, 3000, 1000, 2000, 5000, 2000, 6000, 2000, 2000, 7000, 500, 1000, 2000, 2000, 3000, 2000, 650, 500, 2000, 3000, 3000, 2000, 500, 2000, 2000, 2000, 500, 500, 650, 1000, 500, 1000, 1000, 3000, 550, 750, 1000, 3000, 1000, 1000, 1000, 0, 4000, 3000, 2000, 3000, 650, 500, 500, 500, 600, 1000, 2000, 2000, 700, 5000, 4000, 500, 500, 600, 1000, 3000, 500, 750, 500, 2000, 1000, 600, 650, 2000, 1000, 1000, 2000, 1000, 1000, 900, 900, 4000, 500, 3000, 5000, 500, 1000, 2000, 2000, 650, 1000, 1000, 650, 2000, 1000, 500, 750, 850, 2000, 2000, 750, 2000, 950, 900, 500, 600, 1000, 1000, 500, 900, 500, 750, 700, 500, 2000, 500, 500, 750, 500, 1000, 2000, 500, 500, 750, 500, 850, 2000, 2000, 3000, 3000, 8000, 500, 4000, 500, 500, 850, 500, 500, 700, 3000, 2000, 500, 500, 650, 2000, 1000, 1000, 1000, 500, 1000, 700, 2000, 1000, 1000, 2000, 1000, 2000, 1000, 950, 500, 2000, 2000, 950, 2000, 5000, 600, 1000, 2000, 2000, 500, 800, 500, 1000, 4000, 3000, 2000, 900, 500, 550, 500, 1000, 4000, 3000, 500, 500, 2000, 700, 500, 1000, 500, 1000, 2000, 950, 550, 500, 2000, 500, 2000, 2000, 3000, 1000, 2000, 3000, 1000, 3000, 950, 2000, 500, 2000, 500, 500, 3000, 2000, 500, 2000, 500, 2000, 1000, 2000, 3000, 1000, 1000, 3000, 2000, 5000, 7000, 500, 2000, 5000, 2000, 1000, 1000, 3000, 1000, 650, 1000, 3000, 500, 800, 950, 500, 2000, 1000, 1000, 2000, 900, 1000, 500, 1000, 2000, 1000, 900, 3000, 800, 4000, 3000, 1000, 900, 650, 500, 5000, 5000, 5000, 500, 1000, 900, 2000, 750, 800, 2000, 500, 500, 1000, 1000, 600, 2000, 800, 850, 2000, 600, 3000, 500, 500, 1000, 1000, 2000, 3000, 500, 500, 1000, 500, 650, 2000, 1000, 1000, 3000, 2000, 600, 500, 600, 5000, 950, 500, 500, 500, 3000, 1000, 1000, 6000, 1000, 850, 1000, 850, 2000, 2000, 900, 700, 2000, 2000, 500, 500, 2000, 500, 2000, 500, 500, 500, 1000, 2000, 1000, 550, 500, 500, 1000, 1000, 2000, 2000, 500, 2000, 1000, 650, 500, 650, 1000, 2000, 2000, 1000, 900, 3000, 5000, 2000, 850, 850, 3000, 3000, 750, 2000, 1000, 4000, 2000, 650, 1000, 900, 500, 2000, 500, 500, 500, 3000, 650, 500, 2000, 750, 2000, 1000, 2000, 0, 1000, 500, 1000, 550, 1000, 500, 6000, 1000, 2000, 1000, 500, 550, 1000, 3000, 1000, 700, 3000, 900, 650, 3000, 950, 1000, 2000, 500, 3000, 2000, 2000, 800, 1000, 3000, 2000, 2000, 500, 1000, 650, 1000, 1000, 1000, 500, 500, 6000, 500, 500, 500, 500, 500, 6000, 550, 2000, 950, 2000, 1000, 2000, 2000, 550, 1000, 2000, 850, 600, 2000, 550, 2000, 2000, 900, 2000, 550, 2000, 1000, 3000, 1000, 500, 2000, 2000, 2000, 2000, 550, 800, 2000, 3000, 500, 750, 750, 4000, 850, 2000, 500, 2000, 2000, 1000, 850, 6000, 500, 2000, 3000, 2000, 700, 1000, 3000, 1000, 500, 2000, 550, 3000, 1000, 2000, 1000, 2000, 500, 1000, 4000, 500, 750, 2000, 1000, 2000, 3000, 500, 1000, 2000, 2000, 2000, 800, 3000, 700, 3000, 1000, 550, 3000, 2000, 500, 3000, 500, 550, 700, 500, 2000, 600, 3000, 3000, 900, 600, 500, 2000, 2000, 900, 2000, 500, 0, 850, 2000, 5000, 1000, 800, 1000, 500, 950, 2000, 4000, 500, 0, 2000, 6000, 700, 500, 2000, 0, 1000, 800, 2000, 3000, 500, 1000, 2000, 700, 550, 0, 800, 500, 950, 750, 500, 3000, 500, 900, 1000, 650, 750, 3000, 1000, 600, 2000, 2000, 1000, 3000, 750, 500, 1000, 950, 2000, 2000, 2000, 0, 2000, 500, 950, 2000, 0, 2000, 2000, 2000, 3000, 4000, 900, 2000, 500, 650, 3000, 3000, 1000, 2000, 700, 2000, 2000, 800, 4000, 500, 1000, 700, 500, 1000, 3000, 1000, 1000, 3000, 1000, 3000, 500, 650, 750, 1000, 500, 2000, 1000, 750, 3000, 1000, 2000, 600, 500, 750, 550, 500, 4000, 2000, 650, 500, 3000, 600, 2000, 3000, 3000, 3000, 2000, 1000, 5000, 600, 2000, 800, 500, 1000, 700, 950, 1000, 3000, 500, 1000, 4000, 900, 500, 2000, 1000, 1000, 500, 4000, 1000, 3000, 500, 1000, 3000, 2000, 2000, 3000, 1000, 2000, 1000, 1000, 1000, 750, 500, 2000, 3000, 2000, 3000, 500, 500, 1000, 950, 2000, 2000, 500, 1000, 2000, 1000, 500, 2000, 950, 4000, 500, 2000, 2000, 500, 500, 500, 1000, 2000, 650, 500, 2000, 800, 950, 500, 500, 1000, 800, 2000, 2000, 500, 500, 500, 500, 5000, 500, 1000, 2000, 650, 4000, 750, 500, 3000, 1000, 2000, 500, 1000, 3000, 2000, 2000, 500, 2000, 1000, 1000, 1000, 2000, 750, 850, 600, 1000, 900, 500, 4000, 1000, 1000, 2000, 500, 2000, 900, 500, 850, 1000, 2000, 500, 1000, 3000, 2000, 1000, 500, 3000, 1000, 500, 2000, 2000, 1000, 4000, 850, 500, 500, 1000, 2000, 500, 500, 500, 1000, 700, 500, 3000, 2000, 1000, 500, 700, 600, 500, 8000, 2000, 2000, 3000, 500, 1000, 3000, 1000, 4000, 600, 550, 500, 5000, 500, 2000, 500, 3000, 700, 1000, 850, 700, 2000, 4000, 500, 500, 750, 850, 600, 750, 700, 1000, 3000, 700, 600, 850, 1000, 2000, 3000, 2000, 750, 1000, 4000, 2000, 500, 3000, 700, 650, 2000, 6000, 500, 4000, 650, 1000, 1000, 1000, 3000, 1000, 2000, 2000, 800, 6000, 500, 2000, 1000, 1000, 4000, 2000, 3000, 2000, 500, 850, 1000, 500, 3000, 1000, 500, 500, 850, 4000, 1000, 1000, 500, 500, 2000, 2000, 3000, 2000, 500, 500, 2000, 2000, 1000, 950, 550, 1000, 1000, 3000, 3000, 4000, 4000, 650, 2000, 1000, 2000, 2000, 3000, 600, 500, 4000, 500, 500, 700, 500, 2000, 2000, 2000, 2000, 1000, 3000, 700, 1000, 500, 850, 500, 2000, 1000, 2000, 1000, 2000, 500, 2000, 1000, 500, 800, 3000, 500, 3000, 8000, 600, 700, 500, 550, 1000, 1000, 2000, 500, 500, 650, 1000, 1000, 1000, 500, 1000, 500, 3000, 500, 500, 600, 1000, 550, 500, 2000, 700, 500, 1000, 2000, 2000, 600, 6000, 550, 4000, 3000, 1000, 550, 900, 3000, 3000, 1000, 2000, 650, 2000, 500, 600, 850, 750, 1000, 2000, 2000, 1000, 900, 3000, 900, 2000, 500, 2000, 500, 650, 850, 500, 3000, 2000, 600, 1000, 500, 3000, 2000, 1000, 550, 850, 1000, 750, 2000, 500, 950, 2000, 3000, 2000, 2000, 0, 1000, 500, 3000, 3000, 950, 750, 2000, 2000, 1000, 2000, 1000, 500, 500, 750, 1000, 1000, 600, 850, 550, 3000, 2000, 4000, 3000, 1000, 500, 700, 750, 550, 3000, 1000, 2000, 1000, 700, 950, 2000, 950, 550, 550, 3000, 4000, 2000, 2000, 500, 2000, 1000, 500, 1000, 1000, 500, 550, 900, 550, 750, 2000, 3000, 500, 1000, 500, 500, 500, 1000, 1000, 500, 750, 2000, 1000, 2000, 2000, 550, 500, 2000, 500, 1000, 750, 500, 3000, 3000, 2000, 2000, 2000, 2000, 2000, 2000, 1000, 1000, 1000, 500, 950, 500, 850, 4000, 850, 0, 5000, 500, 550, 0, 2000, 500, 2000, 500, 600, 1000, 500, 750, 2000, 850, 500, 2000, 1000, 900, 3000, 950, 0, 1000, 500, 550, 2000, 500, 2000, 2000, 1000, 1000, 0, 500, 2000, 5000, 700, 2000, 500, 500, 900, 1000, 700, 0, 3000, 750, 1000, 2000, 4000, 2000, 850, 650, 800, 3000, 750, 2000, 500, 500, 1000, 2000, 2000, 1000, 950, 850, 2000, 2000, 3000, 2000, 500, 2000, 2000, 2000, 500, 500, 2000, 1000, 1000, 1000, 1000, 3000, 4000, 1000, 1000, 1000, 750, 3000, 500, 3000, 550, 500, 750, 650, 2000, 900, 850, 500, 500, 1000, 700, 600, 2000, 600, 500, 500, 1000, 1000, 500, 4000, 2000, 2000, 600, 3000, 550, 500, 650, 700, 2000, 3000, 600, 500, 3000, 2000, 1000, 2000, 2000, 650, 3000, 5000, 550, 500, 4000, 550, 700, 2000, 2000, 2000, 2000, 500, 2000, 2000, 500, 550, 2000, 650, 600, 1000, 2000, 3000, 3000, 2000, 5000, 500, 2000, 1000, 4000, 1000, 1000, 2000, 500, 500, 1000, 2000, 3000, 5000, 700, 2000, 600, 500, 1000, 950, 500, 650, 700, 500, 1000, 1000, 500, 600, 900, 3000, 4000, 1000, 1000, 500, 1000, 500, 700, 2000, 2000, 850, 2000, 1000, 2000, 2000, 500, 550, 700, 800, 500, 2000, 2000, 500, 850, 2000, 500, 1000, 3000, 5000, 5000, 500, 500, 2000, 3000, 2000, 1000, 500, 1000, 2000, 500, 2000, 2000, 3000, 3000, 1000, 500, 2000, 2000, 1000, 500, 500, 1000, 500, 500, 2000, 4000, 4000, 500, 1000, 3000, 1000, 3000, 500, 500, 500, 500, 500, 3000, 500, 600, 2000, 500, 0, 2000, 650, 2000, 500, 500, 2000, 1000, 500, 700, 500, 1000, 500, 550, 2000, 500, 600, 3000, 600, 500, 500, 900, 1000, 1000, 500, 600, 1000, 500, 2000, 900, 700, 3000, 700, 1000, 1000, 500, 950, 2000, 500, 2000, 500, 950, 3000, 1000, 950, 1000, 3000, 2000, 800, 2000, 550, 650, 2000, 1000, 1000, 3000, 850, 2000, 2000, 2000, 900, 2000, 1000, 1000, 500, 950, 850, 3000, 2000, 750, 4000, 550, 1000, 2000, 950, 2000, 1000, 2000, 500, 2000, 1000, 1000, 1000, 750, 1000, 550, 1000, 850, 500, 500, 500, 1000, 1000, 950, 2000, 2000, 2000, 550, 2000, 2000, 1000, 1000, 850, 3000, 3000, 2000, 1000, 3000, 700, 700, 900, 500, 2000, 3000, 800, 2000, 2000, 2000, 1000, 3000, 750, 1000, 2000, 800, 2000, 2000, 500, 850, 1000, 600, 600, 800, 2000, 2000, 3000, 550, 550, 500, 700, 500, 500, 2000, 550, 650, 500, 1000, 2000, 1000, 2000, 500, 2000, 600, 800, 800, 1000, 1000, 3000, 950, 500, 500, 500, 500, 6000, 4000, 900, 500, 1000, 4000, 3000, 1000, 750, 1000, 500, 500, 2000, 550, 850, 550, 2000, 1000, 850, 500, 1000, 4000, 1000, 3000, 2000, 1000, 1000, 800, 800, 2000, 1000, 500, 2000, 950, 1000, 1000, 2000, 1000, 4000, 4000, 1000, 2000, 1000, 950, 2000, 2000, 500, 3000, 2000, 900, 2000, 2000, 2000, 500, 2000, 700, 3000, 2000, 800, 500, 1000, 2000, 4000, 500, 7000, 2000, 6000, 1000, 2000, 1000, 900, 1000, 2000, 750, 850, 2000, 650, 2000, 600, 800, 2000, 900, 1000, 500, 700, 2000, 1000, 550, 2000, 1000, 900, 750, 1000, 750, 500, 1000, 850, 500, 2000, 550, 3000, 1000, 2000, 800, 1000, 1000, 1000, 3000, 2000, 2000, 3000, 500, 3000, 500, 600, 550, 2000, 700, 500, 2000, 2000, 850, 500, 950, 0, 500, 2000, 500, 2000, 2000, 750, 750, 500, 2000, 750, 1000, 1000, 500, 500, 2000, 500, 500, 2000, 800, 850, 550, 650, 2000, 600, 750, 700, 500, 2000, 0, 500, 2000, 5000, 550, 1000, 0, 500, 500, 1000, 2000, 1000, 0, 1000, 600, 2000, 650, 500, 700, 500, 1000, 2000, 700, 2000, 1000, 1000, 550, 1000, 2000, 2000, 2000, 900, 800, 650, 500, 500, 500, 2000, 700, 500, 500, 500, 2000, 3000, 1000, 800, 850, 650, 500, 2000, 1000, 500, 2000, 850, 1000, 750, 950, 4000, 750, 500, 500, 500, 500, 2000, 4000, 850, 500, 4000, 500, 700, 2000, 500, 500, 1000, 1000, 500, 3000, 1000, 650, 3000, 2000, 900, 2000, 2000, 500, 500, 500, 4000, 850, 1000, 2000, 1000, 500, 6000, 500, 850, 500, 1000, 500, 850, 2000, 500, 3000, 2000, 500, 2000, 3000, 600, 2000, 2000, 1000, 600, 500, 600, 750, 7000, 500, 2000, 750, 4000, 1000, 750, 1000, 1000, 2000, 1000, 2000, 1000, 750, 1000, 2000, 3000, 850, 500, 650, 2000, 750, 1000, 500, 2000, 950, 700, 1000, 2000, 850, 2000, 500, 2000, 1000, 2000, 750, 1000, 1000, 500, 550, 850, 500, 1000, 500, 2000, 500, 500, 1000, 3000, 4000, 6000, 500, 2000, 1000, 3000, 1000, 1000, 700, 500, 1000, 950, 1000, 4000, 1000, 2000, 2000, 2000, 1000, 850, 550, 500, 2000, 500, 800, 700, 1000, 950, 500, 850, 3000, 700, 900, 1000, 4000, 3000, 500, 500, 3000, 1000, 1000, 500, 500, 2000, 700, 2000, 1000, 5000, 8000, 750, 2000, 2000, 2000, 1000, 2000, 500, 1000, 2000, 500, 3000, 2000, 2000, 2000, 1000, 2000, 2000, 650, 550, 700, 2000, 4000, 2000, 500, 3000, 4000, 2000, 500, 500, 3000, 600, 1000, 1000, 1000, 700, 2000, 850, 500, 2000, 2000, 650, 1000, 500, 750, 500, 500, 600, 850, 4000, 500, 5000, 2000, 4000, 800, 500, 500, 5000, 3000, 750, 2000, 5000, 500, 1000, 900, 500, 950, 500, 500, 2000, 500, 2000, 900, 500, 550, 600, 1000, 950, 850, 2000, 500, 550, 650, 800, 500, 1000, 1000, 2000, 600, 1000, 500, 600, 1000, 1000, 1000, 2000, 1000, 500, 600, 1000, 650, 1000, 2000, 650, 2000, 1000, 500, 1000, 3000, 900, 600, 1000, 500, 650, 500, 3000, 500, 0, 850, 2000, 2000, 500, 800, 500, 600, 900, 5000, 800, 1000, 1000, 550, 1000, 1000, 600, 500, 2000, 600, 1000, 500, 2000, 500, 1000, 1000, 2000, 500, 1000, 500, 950, 3000, 2000, 1000, 1000, 500, 1000, 500, 2000, 1000, 5000, 3000, 500, 4000, 500, 2000, 750, 1000, 2000, 500, 4000, 700, 650, 500, 600, 700, 2000, 2000, 4000, 500, 2000, 500, 2000, 1000, 2000, 3000, 950, 2000, 550, 500, 3000, 4000, 3000, 2000, 500, 600, 3000, 500, 2000, 700, 500, 2000, 750, 650, 2000, 750, 800, 2000, 3000, 650, 2000, 1000, 2000, 700, 1000, 1000, 500, 1000, 500, 0, 500, 500, 500, 1000, 2000, 3000, 1000, 850, 500, 500, 1000, 500, 500, 500, 500, 500, 550, 3000, 500, 3000, 1000, 2000, 650, 2000, 750, 500, 500, 600, 2000, 500, 1000, 2000, 500, 700, 2000, 700, 1000, 500, 650, 550, 2000, 2000, 500, 500, 900, 1000, 500, 1000, 4000, 500, 3000, 2000, 500, 500, 500, 750, 500, 1000, 950, 500, 500, 550, 3000, 2000, 3000, 600, 1000, 2000, 2000, 2000, 1000, 700, 500, 500, 1000, 550, 1000, 750, 500, 500, 500, 2000, 600, 2000, 500, 600, 500, 500, 500, 1000, 1000, 500, 4000, 500, 500, 2000, 500, 500, 500, 600, 2000, 800, 900, 500, 2000, 2000, 1000, 500, 500, 1000, 500, 550, 850, 500, 1000, 2000, 2000, 2000, 2000, 700, 3000, 1000, 2000, 550, 1000, 500, 600, 700, 4000, 500, 500, 500, 650, 500, 900, 4000, 500, 2000, 650, 800, 850, 850, 1000, 500, 2000, 2000, 1000, 500, 500, 500, 500, 900, 600, 1000, 1000, 500, 900, 2000, 4000, 500, 2000, 900, 500, 2000, 500, 550, 1000, 2000, 750, 500, 650, 500, 500, 550, 500, 2000, 2000, 1000, 950, 1000, 2000, 500, 1000, 3000, 2000, 2000, 4000, 500, 500, 2000, 1000, 1000, 500, 500, 500, 500, 500, 2000, 2000, 2000, 500, 500, 500, 700, 3000, 500, 3000, 500, 500, 500, 700, 500, 500, 800, 500, 500, 1000, 4000, 500, 500, 2000, 850, 700, 500, 600, 850, 500, 2000, 700, 2000, 500, 2000, 500, 700, 500, 2000, 650, 500, 2000, 2000, 500, 1000, 700, 2000, 2000, 500, 500, 5000, 2000, 600, 500, 500, 1000, 500, 500, 500, 2000, 600, 3000, 3000, 650, 500, 2000, 2000, 2000, 1000, 2000, 650, 2000, 2000, 1000, 500, 800, 750, 500, 500, 750, 1000, 2000, 750, 850, 2000, 500, 1000, 500, 1000, 1000, 750, 800, 550, 2000, 500, 500, 1000, 600, 500, 2000, 2000, 1000, 600, 800, 900, 2000, 700, 1000, 2000, 700, 500, 500, 750, 800, 2000, 2000, 500, 2000, 600, 1000, 500, 500, 550, 500, 500, 600, 500, 1000, 500, 1000, 3000, 1000, 1000, 500, 2000, 500, 650, 3000, 500, 500, 2000, 2000, 500, 500, 500, 500, 650, 550, 850, 1000, 1000, 600, 2000, 600, 750, 500, 500, 500, 1000, 500, 600, 500, 500, 2000, 500, 850, 2000, 0, 3000, 0, 500, 600, 950, 1000, 650, 500, 2000, 500, 500, 2000, 950, 500, 3000, 600, 1000, 500, 500, 500, 850, 500, 950, 600, 4000, 1000, 950, 500, 1000, 3000, 500, 1000, 1000, 2000, 1000, 500, 2000, 500, 2000, 500, 2000, 1000, 2000, 900, 500, 2000, 1000, 500, 600, 4000, 850, 3000, 500, 1000, 500, 500, 2000, 800, 2000, 4000, 2000, 1000, 900, 500, 500, 2000, 500, 600, 600, 1000, 1000, 500, 2000, 2000, 1000, 1000, 500, 500, 850, 2000, 1000, 500, 550, 600, 2000, 1000, 1000, 1000, 500, 1000, 500, 2000, 800, 550, 500, 500, 1000, 500, 500, 1000, 600, 900, 650, 1000, 2000, 500, 500, 550, 500, 500, 1000, 500, 500, 500, 600, 800, 1000, 500, 4000, 500, 500, 600, 1000, 2000, 2000, 850, 2000, 2000, 1000, 2000, 500, 500, 500, 500, 1000, 2000, 500, 500, 750, 700, 5000, 500, 900, 2000, 800, 3000, 500, 550, 550, 1000, 500, 1000, 900, 700, 4000, 2000, 500, 3000, 1000, 650, 700, 500, 850, 1000, 500, 950, 500, 950, 1000, 500, 2000, 500, 2000, 1000, 500, 3000, 2000, 3000, 2000, 3000, 850, 800, 900, 1000, 500, 1000, 500, 1000, 2000, 1000, 1000, 600, 500, 900, 2000, 1000, 500, 1000, 500, 800, 2000, 750, 600, 1000, 3000, 1000, 500, 700, 550, 500, 3000, 2000, 850, 1000, 900, 550, 750, 900, 500, 500, 1000, 850, 500, 500, 3000, 2000, 500, 2000, 1000, 500, 650, 500, 800, 1000, 750, 500, 950, 2000, 2000, 500, 2000, 800, 2000, 3000, 500, 500, 850, 1000, 1000, 500, 500, 2000, 1000, 550, 500, 500, 500, 500, 600, 500, 850, 3000, 2000, 600, 1000, 500, 500, 500, 2000, 500, 2000, 500, 1000, 500, 500, 500, 550, 500, 600, 2000, 850, 500, 2000, 700, 650, 1000, 1000, 750, 500, 500, 500, 2000, 3000, 500, 750, 4000, 1000, 3000, 500, 600, 1000, 3000, 650, 750, 1000, 500, 500, 500, 1000, 1000, 3000, 600, 500, 500, 500, 5000, 1000, 500, 650, 500, 1000, 500, 2000, 5000, 3000, 500, 650, 800, 2000, 500, 850, 5000, 500, 2000, 700, 700, 500, 1000, 2000, 2000, 900, 500, 850, 750, 900, 500, 500, 600, 800, 850, 1000, 5000, 1000, 3000, 900, 600, 1000, 2000, 1000, 2000, 500, 1000, 2000, 850, 850, 2000, 500, 500, 550, 600, 3000, 550, 1000, 500, 500, 500, 500, 600, 600, 2000, 1000, 500, 650, 550, 500, 500, 500, 2000, 600, 500, 500, 2000, 1000, 1000, 500, 1000, 500, 500, 1000, 800, 500, 500, 500, 2000, 600, 500, 5000, 2000, 500, 500, 500, 500, 500, 3000, 500, 1000, 500, 500, 500, 2000, 500, 650, 800, 600, 2000, 500, 500, 500, 550, 1000, 500, 950, 800, 500, 650, 2000, 1000, 500, 2000, 500, 800, 1000, 800, 4000, 1000, 4000, 500, 500, 2000, 550, 1000, 3000, 500, 3000, 500, 2000, 500, 650, 1000, 500, 500, 500, 500, 600, 650, 1000, 500, 500, 3000, 3000, 500, 1000, 3000, 2000, 2000, 500, 550, 650, 500, 2000, 1000, 1000, 800, 950, 500, 2000, 500, 1000, 2000, 2000, 500, 550, 2000, 500, 1000, 500, 500, 500, 2000, 1000, 500, 1000, 4000, 500, 850, 600, 2000, 2000, 2000, 750, 500, 500, 500, 3000, 500, 500, 800, 500, 500, 500, 1000, 1000, 3000, 750, 850, 650, 1000, 4000, 1000, 2000, 1000, 500, 650, 500, 800, 500, 1000, 1000, 500, 0, 2000, 500, 3000, 3000, 500, 500, 500, 1000, 500, 500, 600, 500, 2000, 850, 500, 1000, 500, 950, 500, 800, 3000, 3000, 900, 1000, 1000, 500, 1000, 500, 500, 950, 650, 500, 600, 800, 2000, 600, 500, 2000, 1000, 2000, 900, 2000, 600, 600, 2000, 2000, 500, 1000, 1000, 2000, 500, 500, 500, 500, 1000, 800, 500, 500, 550, 800, 500, 4000, 3000, 1000, 600, 500, 500, 700, 550, 2000, 1000, 1000, 2000, 1000, 2000, 900, 500, 2000, 4000, 650, 500, 650, 900, 1000, 1000, 1000, 2000, 650, 500, 4000, 850, 2000, 500, 2000, 2000, 3000, 1000, 500, 3000, 2000, 1000, 500, 500, 500, 650, 1000, 1000, 2000, 850, 650, 500, 500, 550, 500, 500, 3000, 750, 800, 3000, 500, 500, 500, 500, 500, 500, 2000, 1000, 500, 1000, 500, 800, 500, 1000, 3000, 3000, 500, 2000, 2000, 650, 5000, 2000, 950, 2000, 600, 1000, 500, 2000, 1000, 500, 500, 700, 500, 500, 500, 2000, 850, 500, 1000, 1000, 2000, 500, 850, 500, 500, 850, 850, 2000, 3000, 2000, 500, 800, 2000, 500, 800, 1000, 1000, 1000, 1000, 2000, 3000, 550, 1000, 500, 1000, 700, 500, 600, 500, 2000, 1000, 2000, 500, 500, 500, 500, 500, 600, 1000, 1000, 500, 500, 500, 1000, 500, 1000, 500, 500, 500, 550, 750, 600, 500, 600, 500, 500, 750, 800, 1000, 2000, 1000, 600, 3000, 500, 500, 2000, 500, 600, 500, 2000, 600, 1000, 500, 800, 600, 500, 900, 500, 500, 500, 500, 2000, 2000, 650, 1000, 500, 1000, 500, 600, 4000, 500, 500, 550, 2000, 500, 2000, 850, 600, 1000, 2000, 500, 500, 500, 1000, 500, 500, 500, 500, 500, 550, 500, 850, 500, 1000, 500, 1000, 500, 500, 700, 500, 1000, 950, 2000, 1000, 2000, 500, 500, 500, 500, 500, 500, 500, 500, 500, 850, 500, 500, 500, 500, 500, 500, 3000, 500, 500, 850, 500, 1000, 500, 1000, 500, 1000, 500, 500, 1000, 800, 600, 2000, 900, 1000, 650, 500, 600, 500, 3000, 500, 500, 600, 950, 500, 1000, 4000, 2000, 600, 500, 2000, 750, 5000, 1000, 500, 500, 3000, 500, 700, 3000, 500, 500, 500, 550, 2000, 500, 500, 500, 1000, 1000, 550, 1000, 2000, 2000, 500, 500, 500, 1000, 2000, 1000, 500, 750, 600, 1000, 500, 500, 2000, 600, 1000, 500, 500, 1000, 500, 500, 550, 500, 800, 500, 1000, 500, 500, 800, 600, 1000, 2000, 750, 500, 1000, 1000, 500, 750, 850, 500, 500, 1000, 500, 650, 500, 1000, 500, 500, 500, 1000, 500, 500, 500, 1000, 500, 500, 1000, 1000, 500, 1000, 1000, 650, 500, 550, 500, 500, 550, 1000, 500, 650, 500, 600, 500, 1000, 500, 500, 500, 500, 950, 500, 500, 3000, 500, 1000, 500, 2000, 500, 500, 600, 500, 1000, 2000, 850, 2000, 1000, 500, 500, 800, 1000, 1000, 1000, 2000, 2000, 500, 2000, 500, 1000, 1000, 500, 500, 550, 700, 750, 500, 500, 500, 700, 500, 2000, 500, 3000, 500, 500, 1000, 5000, 500, 750, 2000, 850, 1000, 1000, 2000, 500, 500, 500, 1000, 650, 500, 2000, 500, 500, 850, 500, 550, 600, 3000, 500, 500, 2000, 500, 700, 500, 2000, 500, 800, 500, 1000, 850, 650, 1000, 1000, 850, 500, 500, 700, 500, 500, 500, 500, 850, 500, 500, 550, 500, 650, 1000, 500, 500, 500, 1000, 1000, 500, 2000, 500, 800, 950, 2000, 500, 1000, 500, 500, 4000, 850, 700, 850, 600, 2000, 500, 500, 500, 500, 500, 1000, 900, 1000, 500, 500, 500, 500, 2000, 500, 500, 700, 500, 500, 500, 650, 2000, 1000, 500, 900, 500, 2000, 600, 2000, 2000, 500, 700, 500, 500, 500, 2000, 500, 500, 500, 1000, 3000, 500, 2000, 500, 2000, 500, 950, 1000, 2000, 500, 500, 500, 650, 500, 500, 1000, 500, 2000, 600, 500, 500, 1000, 500, 550, 950, 500, 500, 500, 950, 500, 500, 500, 500, 500, 500, 500, 500, 700, 500, 800, 500, 500, 500, 500, 500, 500, 500, 850, 500, 2000, 750, 1000, 2000, 2000, 1000, 500, 500, 500, 500, 1000, 1000, 2000, 500, 650, 1000, 500, 500, 2000, 500, 500, 1000, 650, 500, 500, 650, 500, 900, 500, 500, 500, 500, 500, 800, 500, 2000, 500, 550, 1000, 500, 500, 900, 2000, 2000, 1000, 500, 2000, 1000, 500, 2000, 500, 500, 500, 500, 500, 500, 500, 700, 500, 2000, 1000, 1000, 500, 500, 500, 500, 500, 500, 500, 500, 650, 500, 500, 500, 1000, 500, 1000, 1000, 550, 500, 500, 500, 500, 500, 500, 550, 1000, 500, 2000, 500, 500, 2000, 500, 900, 1000, 800, 1000, 2000, 500, 1000, 2000, 1000, 2000, 500, 1000, 500, 500, 2000, 1000, 700, 1000, 600, 550, 500, 2000, 2000, 500, 2000, 1000, 1000, 1000, 2000, 1000, 1000, 1000, 500, 1000, 500, 500]\n"
          ]
        }
      ]
    },
    {
      "cell_type": "code",
      "source": [
        "wage_columns = df[\"Wage\"]\n",
        "print(wage_columns)"
      ],
      "metadata": {
        "id": "mdUx3VkOXNmg",
        "outputId": "730a9acf-9548-4e57-9489-80e41ab02efc",
        "colab": {
          "base_uri": "https://localhost:8080/"
        }
      },
      "execution_count": null,
      "outputs": [
        {
          "output_type": "stream",
          "name": "stdout",
          "text": [
            "0        560000\n",
            "1        220000\n",
            "2        125000\n",
            "3        370000\n",
            "4        270000\n",
            "          ...  \n",
            "18974      1000\n",
            "18975       500\n",
            "18976      1000\n",
            "18977       500\n",
            "18978       500\n",
            "Name: Wage, Length: 18979, dtype: int64\n"
          ]
        }
      ]
    },
    {
      "cell_type": "markdown",
      "source": [
        "### 6. Team Position"
      ],
      "metadata": {
        "id": "P0Xk0FkGY-zm"
      }
    },
    {
      "cell_type": "code",
      "source": [
        "count = 0\n",
        "unique_value = df[\"Positions\"].unique()\n",
        "unique_value\n",
        "for x in unique_value:\n",
        "  count += 1\n",
        "print(count)"
      ],
      "metadata": {
        "id": "YxWkdMPYbNnK",
        "outputId": "f9ecf57f-0d36-4ea7-df25-e37350a1c17c",
        "colab": {
          "base_uri": "https://localhost:8080/"
        }
      },
      "execution_count": null,
      "outputs": [
        {
          "output_type": "stream",
          "name": "stdout",
          "text": [
            "640\n"
          ]
        }
      ]
    },
    {
      "cell_type": "code",
      "source": [
        "temp_position = []\n",
        "for x in range(len(df[\"Positions\"])):\n",
        "  value = sorted(df[\"Positions\"][x].split(\" \"))\n",
        "  yx = ' '.join(value) #join the words into a single string with spaces between them\n",
        "  temp_position.append(yx)\n",
        "\n",
        "df[\"Positions\"] = temp_position"
      ],
      "metadata": {
        "id": "dWIlVgUJY-hC"
      },
      "execution_count": null,
      "outputs": []
    },
    {
      "cell_type": "code",
      "source": [
        "count = 0\n",
        "unique_value = df[\"Positions\"].unique()\n",
        "unique_value\n",
        "for x in unique_value:\n",
        "  count += 1\n",
        "print(count)"
      ],
      "metadata": {
        "id": "_QwlvjPDbyuP",
        "outputId": "20f57b5b-3cb2-49aa-e5ba-efe40a7ac551",
        "colab": {
          "base_uri": "https://localhost:8080/"
        }
      },
      "execution_count": null,
      "outputs": [
        {
          "output_type": "stream",
          "name": "stdout",
          "text": [
            "238\n"
          ]
        }
      ]
    },
    {
      "cell_type": "markdown",
      "source": [
        "### 7. Hits\n"
      ],
      "metadata": {
        "id": "2EaKW4EfHz6r"
      }
    },
    {
      "cell_type": "code",
      "source": [
        "hits_value = []\n",
        "\n",
        "for value in df[\"Hits\"]:\n",
        "    if isinstance(value, str):  #check if the value is a string(), then perform the necessary conversions\n",
        "        value = value.replace(\"\\n\", \"\").replace(\"K\", \"000\")  # Replace '\\n' and 'K' with '000'\n",
        "        value = int(float(value)) if '.' in value else int(value)  # Convert to integer\n",
        "    hits_value.append(value)\n",
        "\n",
        "df[\"Hits\"] = hits_value\n"
      ],
      "metadata": {
        "id": "REGhHVliPKiz"
      },
      "execution_count": null,
      "outputs": []
    },
    {
      "cell_type": "markdown",
      "source": [
        "## Data Structure after Cleaning"
      ],
      "metadata": {
        "id": "RUGJeTS5RjYZ"
      }
    },
    {
      "cell_type": "code",
      "source": [
        "df.info()"
      ],
      "metadata": {
        "id": "-5Xyf_mqXc8T",
        "outputId": "57931768-439e-4782-fea2-53c636ca2dcd",
        "colab": {
          "base_uri": "https://localhost:8080/"
        }
      },
      "execution_count": null,
      "outputs": [
        {
          "output_type": "stream",
          "name": "stdout",
          "text": [
            "<class 'pandas.core.frame.DataFrame'>\n",
            "RangeIndex: 18979 entries, 0 to 18978\n",
            "Data columns (total 75 columns):\n",
            " #   Column             Non-Null Count  Dtype \n",
            "---  ------             --------------  ----- \n",
            " 0   LongName           18979 non-null  object\n",
            " 1   Nationality        18979 non-null  object\n",
            " 2   Positions          18979 non-null  object\n",
            " 3   Name               18979 non-null  object\n",
            " 4   Age                18979 non-null  int64 \n",
            " 5   ↓OVA               18979 non-null  int64 \n",
            " 6   POT                18979 non-null  int64 \n",
            " 7   ID                 18979 non-null  int64 \n",
            " 8   Height             18979 non-null  int64 \n",
            " 9   Weight             18979 non-null  int64 \n",
            " 10  foot               18979 non-null  object\n",
            " 11  BOV                18979 non-null  int64 \n",
            " 12  BP                 18979 non-null  object\n",
            " 13  Growth             18979 non-null  int64 \n",
            " 14  Value              18979 non-null  int64 \n",
            " 15  Wage               18979 non-null  int64 \n",
            " 16  Attacking          18979 non-null  int64 \n",
            " 17  Crossing           18979 non-null  int64 \n",
            " 18  Finishing          18979 non-null  int64 \n",
            " 19  Heading Accuracy   18979 non-null  int64 \n",
            " 20  Short Passing      18979 non-null  int64 \n",
            " 21  Volleys            18979 non-null  int64 \n",
            " 22  Skill              18979 non-null  int64 \n",
            " 23  Dribbling          18979 non-null  int64 \n",
            " 24  Curve              18979 non-null  int64 \n",
            " 25  FK Accuracy        18979 non-null  int64 \n",
            " 26  Long Passing       18979 non-null  int64 \n",
            " 27  Ball Control       18979 non-null  int64 \n",
            " 28  Movement           18979 non-null  int64 \n",
            " 29  Acceleration       18979 non-null  int64 \n",
            " 30  Sprint Speed       18979 non-null  int64 \n",
            " 31  Agility            18979 non-null  int64 \n",
            " 32  Reactions          18979 non-null  int64 \n",
            " 33  Balance            18979 non-null  int64 \n",
            " 34  Power              18979 non-null  int64 \n",
            " 35  Shot Power         18979 non-null  int64 \n",
            " 36  Jumping            18979 non-null  int64 \n",
            " 37  Stamina            18979 non-null  int64 \n",
            " 38  Strength           18979 non-null  int64 \n",
            " 39  Long Shots         18979 non-null  int64 \n",
            " 40  Mentality          18979 non-null  int64 \n",
            " 41  Aggression         18979 non-null  int64 \n",
            " 42  Interceptions      18979 non-null  int64 \n",
            " 43  Positioning        18979 non-null  int64 \n",
            " 44  Vision             18979 non-null  int64 \n",
            " 45  Penalties          18979 non-null  int64 \n",
            " 46  Composure          18979 non-null  int64 \n",
            " 47  Defending          18979 non-null  int64 \n",
            " 48  Marking            18979 non-null  int64 \n",
            " 49  Standing Tackle    18979 non-null  int64 \n",
            " 50  Sliding Tackle     18979 non-null  int64 \n",
            " 51  Goalkeeping        18979 non-null  int64 \n",
            " 52  GK Diving          18979 non-null  int64 \n",
            " 53  GK Handling        18979 non-null  int64 \n",
            " 54  GK Kicking         18979 non-null  int64 \n",
            " 55  GK Positioning     18979 non-null  int64 \n",
            " 56  GK Reflexes        18979 non-null  int64 \n",
            " 57  Total Stats        18979 non-null  int64 \n",
            " 58  Base Stats         18979 non-null  int64 \n",
            " 59  W/F                18979 non-null  object\n",
            " 60  SM                 18979 non-null  object\n",
            " 61  A/W                18979 non-null  object\n",
            " 62  D/W                18979 non-null  object\n",
            " 63  IR                 18979 non-null  object\n",
            " 64  PAC                18979 non-null  int64 \n",
            " 65  SHO                18979 non-null  int64 \n",
            " 66  PAS                18979 non-null  int64 \n",
            " 67  DRI                18979 non-null  int64 \n",
            " 68  DEF                18979 non-null  int64 \n",
            " 69  PHY                18979 non-null  int64 \n",
            " 70  Hits               18979 non-null  int64 \n",
            " 71  Team               18979 non-null  object\n",
            " 72  Contract Duration  18979 non-null  object\n",
            " 73  Joined_Month       18979 non-null  object\n",
            " 74  Joined_Year        18979 non-null  object\n",
            "dtypes: int64(60), object(15)\n",
            "memory usage: 10.9+ MB\n"
          ]
        }
      ]
    },
    {
      "cell_type": "code",
      "source": [
        "df.to_csv(\"fifa_21_cleaned.csv\")"
      ],
      "metadata": {
        "id": "_5DvcLHRY89e"
      },
      "execution_count": null,
      "outputs": []
    },
    {
      "cell_type": "code",
      "source": [
        "final_categorical_features = df.select_dtypes(\"object\")\n",
        "# T: transposes\n",
        "# cat_summary_stats = categorical_features.describe().T\n",
        "final_html_categorical = create_scrollable_table(final_categorical_features.head(), \"categorical_features\", \"Categorical Features After Cleaning\")\n",
        "\n",
        "display(HTML(final_html_categorical))"
      ],
      "metadata": {
        "colab": {
          "base_uri": "https://localhost:8080/",
          "height": 258
        },
        "id": "RXCN1h5nGBbt",
        "outputId": "01fd2420-c33c-4407-e252-c256e9457fb9"
      },
      "execution_count": null,
      "outputs": [
        {
          "output_type": "display_data",
          "data": {
            "text/plain": [
              "<IPython.core.display.HTML object>"
            ],
            "text/html": [
              "<h3>Categorical Features After Cleaning</h3><div id=\"categorical_features\" style=\"height: 200px; overflow:auto;\"><table border=\"1\" class=\"dataframe\">\n",
              "  <thead>\n",
              "    <tr style=\"text-align: right;\">\n",
              "      <th></th>\n",
              "      <th>LongName</th>\n",
              "      <th>Nationality</th>\n",
              "      <th>Positions</th>\n",
              "      <th>Name</th>\n",
              "      <th>foot</th>\n",
              "      <th>BP</th>\n",
              "      <th>W/F</th>\n",
              "      <th>SM</th>\n",
              "      <th>A/W</th>\n",
              "      <th>D/W</th>\n",
              "      <th>IR</th>\n",
              "      <th>Team</th>\n",
              "      <th>Contract Duration</th>\n",
              "      <th>Joined_Month</th>\n",
              "      <th>Joined_Year</th>\n",
              "    </tr>\n",
              "  </thead>\n",
              "  <tbody>\n",
              "    <tr>\n",
              "      <th>0</th>\n",
              "      <td>Lionel Messi</td>\n",
              "      <td>Argentina</td>\n",
              "      <td>CF RW ST</td>\n",
              "      <td>L. Messi</td>\n",
              "      <td>Left</td>\n",
              "      <td>RW</td>\n",
              "      <td>4 ★</td>\n",
              "      <td>4★</td>\n",
              "      <td>Medium</td>\n",
              "      <td>Low</td>\n",
              "      <td>5 ★</td>\n",
              "      <td>FC Barcelona</td>\n",
              "      <td>2004 ~ 2021</td>\n",
              "      <td>Jul 1</td>\n",
              "      <td>2004</td>\n",
              "    </tr>\n",
              "    <tr>\n",
              "      <th>1</th>\n",
              "      <td>C. Ronaldo dos Santos Aveiro</td>\n",
              "      <td>Portugal</td>\n",
              "      <td>LW ST</td>\n",
              "      <td>Cristiano Ronaldo</td>\n",
              "      <td>Right</td>\n",
              "      <td>ST</td>\n",
              "      <td>4 ★</td>\n",
              "      <td>5★</td>\n",
              "      <td>High</td>\n",
              "      <td>Low</td>\n",
              "      <td>5 ★</td>\n",
              "      <td>Juventus</td>\n",
              "      <td>2018 ~ 2022</td>\n",
              "      <td>Jul 10</td>\n",
              "      <td>2018</td>\n",
              "    </tr>\n",
              "    <tr>\n",
              "      <th>2</th>\n",
              "      <td>Jan Oblak</td>\n",
              "      <td>Slovenia</td>\n",
              "      <td>GK</td>\n",
              "      <td>J. Oblak</td>\n",
              "      <td>Right</td>\n",
              "      <td>GK</td>\n",
              "      <td>3 ★</td>\n",
              "      <td>1★</td>\n",
              "      <td>Medium</td>\n",
              "      <td>Medium</td>\n",
              "      <td>3 ★</td>\n",
              "      <td>Atlético Madrid</td>\n",
              "      <td>2014 ~ 2023</td>\n",
              "      <td>Jul 16</td>\n",
              "      <td>2014</td>\n",
              "    </tr>\n",
              "    <tr>\n",
              "      <th>3</th>\n",
              "      <td>Kevin De Bruyne</td>\n",
              "      <td>Belgium</td>\n",
              "      <td>CAM CM</td>\n",
              "      <td>K. De Bruyne</td>\n",
              "      <td>Right</td>\n",
              "      <td>CAM</td>\n",
              "      <td>5 ★</td>\n",
              "      <td>4★</td>\n",
              "      <td>High</td>\n",
              "      <td>High</td>\n",
              "      <td>4 ★</td>\n",
              "      <td>Manchester City</td>\n",
              "      <td>2015 ~ 2023</td>\n",
              "      <td>Aug 30</td>\n",
              "      <td>2015</td>\n",
              "    </tr>\n",
              "    <tr>\n",
              "      <th>4</th>\n",
              "      <td>Neymar da Silva Santos Jr.</td>\n",
              "      <td>Brazil</td>\n",
              "      <td>CAM LW</td>\n",
              "      <td>Neymar Jr</td>\n",
              "      <td>Right</td>\n",
              "      <td>LW</td>\n",
              "      <td>5 ★</td>\n",
              "      <td>5★</td>\n",
              "      <td>High</td>\n",
              "      <td>Medium</td>\n",
              "      <td>5 ★</td>\n",
              "      <td>Paris Saint-Germain</td>\n",
              "      <td>2017 ~ 2022</td>\n",
              "      <td>Aug 3</td>\n",
              "      <td>2017</td>\n",
              "    </tr>\n",
              "  </tbody>\n",
              "</table></div>"
            ]
          },
          "metadata": {}
        }
      ]
    },
    {
      "cell_type": "code",
      "source": [
        "final_numerical_features = df.select_dtypes(\"int64\", \"float64\")\n",
        "\n",
        "final_html_numerical = create_scrollable_table(final_numerical_features.head(), \"categorical_features\", \"Numerical Features After Cleaning\")\n",
        "\n",
        "display(HTML(final_html_numerical))"
      ],
      "metadata": {
        "colab": {
          "base_uri": "https://localhost:8080/",
          "height": 258
        },
        "id": "ZH1m5AgdHfp9",
        "outputId": "f3de7fb6-a479-455a-ae70-216daaafb388"
      },
      "execution_count": null,
      "outputs": [
        {
          "output_type": "display_data",
          "data": {
            "text/plain": [
              "<IPython.core.display.HTML object>"
            ],
            "text/html": [
              "<h3>Numerical Features After Cleaning</h3><div id=\"categorical_features\" style=\"height: 200px; overflow:auto;\"><table border=\"1\" class=\"dataframe\">\n",
              "  <thead>\n",
              "    <tr style=\"text-align: right;\">\n",
              "      <th></th>\n",
              "      <th>Age</th>\n",
              "      <th>↓OVA</th>\n",
              "      <th>POT</th>\n",
              "      <th>ID</th>\n",
              "      <th>Height</th>\n",
              "      <th>Weight</th>\n",
              "      <th>BOV</th>\n",
              "      <th>Growth</th>\n",
              "      <th>Value</th>\n",
              "      <th>Wage</th>\n",
              "      <th>Attacking</th>\n",
              "      <th>Crossing</th>\n",
              "      <th>Finishing</th>\n",
              "      <th>Heading Accuracy</th>\n",
              "      <th>Short Passing</th>\n",
              "      <th>Volleys</th>\n",
              "      <th>Skill</th>\n",
              "      <th>Dribbling</th>\n",
              "      <th>Curve</th>\n",
              "      <th>FK Accuracy</th>\n",
              "      <th>Long Passing</th>\n",
              "      <th>Ball Control</th>\n",
              "      <th>Movement</th>\n",
              "      <th>Acceleration</th>\n",
              "      <th>Sprint Speed</th>\n",
              "      <th>Agility</th>\n",
              "      <th>Reactions</th>\n",
              "      <th>Balance</th>\n",
              "      <th>Power</th>\n",
              "      <th>Shot Power</th>\n",
              "      <th>Jumping</th>\n",
              "      <th>Stamina</th>\n",
              "      <th>Strength</th>\n",
              "      <th>Long Shots</th>\n",
              "      <th>Mentality</th>\n",
              "      <th>Aggression</th>\n",
              "      <th>Interceptions</th>\n",
              "      <th>Positioning</th>\n",
              "      <th>Vision</th>\n",
              "      <th>Penalties</th>\n",
              "      <th>Composure</th>\n",
              "      <th>Defending</th>\n",
              "      <th>Marking</th>\n",
              "      <th>Standing Tackle</th>\n",
              "      <th>Sliding Tackle</th>\n",
              "      <th>Goalkeeping</th>\n",
              "      <th>GK Diving</th>\n",
              "      <th>GK Handling</th>\n",
              "      <th>GK Kicking</th>\n",
              "      <th>GK Positioning</th>\n",
              "      <th>GK Reflexes</th>\n",
              "      <th>Total Stats</th>\n",
              "      <th>Base Stats</th>\n",
              "      <th>PAC</th>\n",
              "      <th>SHO</th>\n",
              "      <th>PAS</th>\n",
              "      <th>DRI</th>\n",
              "      <th>DEF</th>\n",
              "      <th>PHY</th>\n",
              "      <th>Hits</th>\n",
              "    </tr>\n",
              "  </thead>\n",
              "  <tbody>\n",
              "    <tr>\n",
              "      <th>0</th>\n",
              "      <td>33</td>\n",
              "      <td>93</td>\n",
              "      <td>93</td>\n",
              "      <td>158023</td>\n",
              "      <td>170</td>\n",
              "      <td>72</td>\n",
              "      <td>93</td>\n",
              "      <td>0</td>\n",
              "      <td>67500000</td>\n",
              "      <td>560000</td>\n",
              "      <td>429</td>\n",
              "      <td>85</td>\n",
              "      <td>95</td>\n",
              "      <td>70</td>\n",
              "      <td>91</td>\n",
              "      <td>88</td>\n",
              "      <td>470</td>\n",
              "      <td>96</td>\n",
              "      <td>93</td>\n",
              "      <td>94</td>\n",
              "      <td>91</td>\n",
              "      <td>96</td>\n",
              "      <td>451</td>\n",
              "      <td>91</td>\n",
              "      <td>80</td>\n",
              "      <td>91</td>\n",
              "      <td>94</td>\n",
              "      <td>95</td>\n",
              "      <td>389</td>\n",
              "      <td>86</td>\n",
              "      <td>68</td>\n",
              "      <td>72</td>\n",
              "      <td>69</td>\n",
              "      <td>94</td>\n",
              "      <td>347</td>\n",
              "      <td>44</td>\n",
              "      <td>40</td>\n",
              "      <td>93</td>\n",
              "      <td>95</td>\n",
              "      <td>75</td>\n",
              "      <td>96</td>\n",
              "      <td>91</td>\n",
              "      <td>32</td>\n",
              "      <td>35</td>\n",
              "      <td>24</td>\n",
              "      <td>54</td>\n",
              "      <td>6</td>\n",
              "      <td>11</td>\n",
              "      <td>15</td>\n",
              "      <td>14</td>\n",
              "      <td>8</td>\n",
              "      <td>2231</td>\n",
              "      <td>466</td>\n",
              "      <td>85</td>\n",
              "      <td>92</td>\n",
              "      <td>91</td>\n",
              "      <td>95</td>\n",
              "      <td>38</td>\n",
              "      <td>65</td>\n",
              "      <td>372</td>\n",
              "    </tr>\n",
              "    <tr>\n",
              "      <th>1</th>\n",
              "      <td>35</td>\n",
              "      <td>92</td>\n",
              "      <td>92</td>\n",
              "      <td>20801</td>\n",
              "      <td>187</td>\n",
              "      <td>83</td>\n",
              "      <td>92</td>\n",
              "      <td>0</td>\n",
              "      <td>46000000</td>\n",
              "      <td>220000</td>\n",
              "      <td>437</td>\n",
              "      <td>84</td>\n",
              "      <td>95</td>\n",
              "      <td>90</td>\n",
              "      <td>82</td>\n",
              "      <td>86</td>\n",
              "      <td>414</td>\n",
              "      <td>88</td>\n",
              "      <td>81</td>\n",
              "      <td>76</td>\n",
              "      <td>77</td>\n",
              "      <td>92</td>\n",
              "      <td>431</td>\n",
              "      <td>87</td>\n",
              "      <td>91</td>\n",
              "      <td>87</td>\n",
              "      <td>95</td>\n",
              "      <td>71</td>\n",
              "      <td>444</td>\n",
              "      <td>94</td>\n",
              "      <td>95</td>\n",
              "      <td>84</td>\n",
              "      <td>78</td>\n",
              "      <td>93</td>\n",
              "      <td>353</td>\n",
              "      <td>63</td>\n",
              "      <td>29</td>\n",
              "      <td>95</td>\n",
              "      <td>82</td>\n",
              "      <td>84</td>\n",
              "      <td>95</td>\n",
              "      <td>84</td>\n",
              "      <td>28</td>\n",
              "      <td>32</td>\n",
              "      <td>24</td>\n",
              "      <td>58</td>\n",
              "      <td>7</td>\n",
              "      <td>11</td>\n",
              "      <td>15</td>\n",
              "      <td>14</td>\n",
              "      <td>11</td>\n",
              "      <td>2221</td>\n",
              "      <td>464</td>\n",
              "      <td>89</td>\n",
              "      <td>93</td>\n",
              "      <td>81</td>\n",
              "      <td>89</td>\n",
              "      <td>35</td>\n",
              "      <td>77</td>\n",
              "      <td>344</td>\n",
              "    </tr>\n",
              "    <tr>\n",
              "      <th>2</th>\n",
              "      <td>27</td>\n",
              "      <td>91</td>\n",
              "      <td>93</td>\n",
              "      <td>200389</td>\n",
              "      <td>187</td>\n",
              "      <td>87</td>\n",
              "      <td>91</td>\n",
              "      <td>2</td>\n",
              "      <td>75000000</td>\n",
              "      <td>125000</td>\n",
              "      <td>95</td>\n",
              "      <td>13</td>\n",
              "      <td>11</td>\n",
              "      <td>15</td>\n",
              "      <td>43</td>\n",
              "      <td>13</td>\n",
              "      <td>109</td>\n",
              "      <td>12</td>\n",
              "      <td>13</td>\n",
              "      <td>14</td>\n",
              "      <td>40</td>\n",
              "      <td>30</td>\n",
              "      <td>307</td>\n",
              "      <td>43</td>\n",
              "      <td>60</td>\n",
              "      <td>67</td>\n",
              "      <td>88</td>\n",
              "      <td>49</td>\n",
              "      <td>268</td>\n",
              "      <td>59</td>\n",
              "      <td>78</td>\n",
              "      <td>41</td>\n",
              "      <td>78</td>\n",
              "      <td>12</td>\n",
              "      <td>140</td>\n",
              "      <td>34</td>\n",
              "      <td>19</td>\n",
              "      <td>11</td>\n",
              "      <td>65</td>\n",
              "      <td>11</td>\n",
              "      <td>68</td>\n",
              "      <td>57</td>\n",
              "      <td>27</td>\n",
              "      <td>12</td>\n",
              "      <td>18</td>\n",
              "      <td>437</td>\n",
              "      <td>87</td>\n",
              "      <td>92</td>\n",
              "      <td>78</td>\n",
              "      <td>90</td>\n",
              "      <td>90</td>\n",
              "      <td>1413</td>\n",
              "      <td>489</td>\n",
              "      <td>87</td>\n",
              "      <td>92</td>\n",
              "      <td>78</td>\n",
              "      <td>90</td>\n",
              "      <td>52</td>\n",
              "      <td>90</td>\n",
              "      <td>86</td>\n",
              "    </tr>\n",
              "    <tr>\n",
              "      <th>3</th>\n",
              "      <td>29</td>\n",
              "      <td>91</td>\n",
              "      <td>91</td>\n",
              "      <td>192985</td>\n",
              "      <td>180</td>\n",
              "      <td>69</td>\n",
              "      <td>91</td>\n",
              "      <td>0</td>\n",
              "      <td>87000000</td>\n",
              "      <td>370000</td>\n",
              "      <td>407</td>\n",
              "      <td>94</td>\n",
              "      <td>82</td>\n",
              "      <td>55</td>\n",
              "      <td>94</td>\n",
              "      <td>82</td>\n",
              "      <td>441</td>\n",
              "      <td>88</td>\n",
              "      <td>85</td>\n",
              "      <td>83</td>\n",
              "      <td>93</td>\n",
              "      <td>92</td>\n",
              "      <td>398</td>\n",
              "      <td>77</td>\n",
              "      <td>76</td>\n",
              "      <td>78</td>\n",
              "      <td>91</td>\n",
              "      <td>76</td>\n",
              "      <td>408</td>\n",
              "      <td>91</td>\n",
              "      <td>63</td>\n",
              "      <td>89</td>\n",
              "      <td>74</td>\n",
              "      <td>91</td>\n",
              "      <td>408</td>\n",
              "      <td>76</td>\n",
              "      <td>66</td>\n",
              "      <td>88</td>\n",
              "      <td>94</td>\n",
              "      <td>84</td>\n",
              "      <td>91</td>\n",
              "      <td>186</td>\n",
              "      <td>68</td>\n",
              "      <td>65</td>\n",
              "      <td>53</td>\n",
              "      <td>56</td>\n",
              "      <td>15</td>\n",
              "      <td>13</td>\n",
              "      <td>5</td>\n",
              "      <td>10</td>\n",
              "      <td>13</td>\n",
              "      <td>2304</td>\n",
              "      <td>485</td>\n",
              "      <td>76</td>\n",
              "      <td>86</td>\n",
              "      <td>93</td>\n",
              "      <td>88</td>\n",
              "      <td>64</td>\n",
              "      <td>78</td>\n",
              "      <td>163</td>\n",
              "    </tr>\n",
              "    <tr>\n",
              "      <th>4</th>\n",
              "      <td>28</td>\n",
              "      <td>91</td>\n",
              "      <td>91</td>\n",
              "      <td>190871</td>\n",
              "      <td>175</td>\n",
              "      <td>68</td>\n",
              "      <td>91</td>\n",
              "      <td>0</td>\n",
              "      <td>90000000</td>\n",
              "      <td>270000</td>\n",
              "      <td>408</td>\n",
              "      <td>85</td>\n",
              "      <td>87</td>\n",
              "      <td>62</td>\n",
              "      <td>87</td>\n",
              "      <td>87</td>\n",
              "      <td>448</td>\n",
              "      <td>95</td>\n",
              "      <td>88</td>\n",
              "      <td>89</td>\n",
              "      <td>81</td>\n",
              "      <td>95</td>\n",
              "      <td>453</td>\n",
              "      <td>94</td>\n",
              "      <td>89</td>\n",
              "      <td>96</td>\n",
              "      <td>91</td>\n",
              "      <td>83</td>\n",
              "      <td>357</td>\n",
              "      <td>80</td>\n",
              "      <td>62</td>\n",
              "      <td>81</td>\n",
              "      <td>50</td>\n",
              "      <td>84</td>\n",
              "      <td>356</td>\n",
              "      <td>51</td>\n",
              "      <td>36</td>\n",
              "      <td>87</td>\n",
              "      <td>90</td>\n",
              "      <td>92</td>\n",
              "      <td>93</td>\n",
              "      <td>94</td>\n",
              "      <td>35</td>\n",
              "      <td>30</td>\n",
              "      <td>29</td>\n",
              "      <td>59</td>\n",
              "      <td>9</td>\n",
              "      <td>9</td>\n",
              "      <td>15</td>\n",
              "      <td>15</td>\n",
              "      <td>11</td>\n",
              "      <td>2175</td>\n",
              "      <td>451</td>\n",
              "      <td>91</td>\n",
              "      <td>85</td>\n",
              "      <td>86</td>\n",
              "      <td>94</td>\n",
              "      <td>36</td>\n",
              "      <td>59</td>\n",
              "      <td>273</td>\n",
              "    </tr>\n",
              "  </tbody>\n",
              "</table></div>"
            ]
          },
          "metadata": {}
        }
      ]
    }
  ]
}